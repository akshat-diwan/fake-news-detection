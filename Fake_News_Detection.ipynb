{
  "nbformat": 4,
  "nbformat_minor": 0,
  "metadata": {
    "colab": {
      "provenance": [],
      "collapsed_sections": [
        "FJNUwmbgGyua",
        "w6K7xa23Elo4",
        "yQaldy8SH6Dl",
        "mDgbUHAGgjLW",
        "HhfV-JJviCcP",
        "Y3lxredqlCYt",
        "3RnN4peoiCZX",
        "x71ZqKXriCWQ",
        "7hBIi_osiCS2",
        "JlHwYmJAmNHm",
        "35m5QtbWiB9F",
        "PoPl-ycgm1ru",
        "H0kj-8xxnORC",
        "nA9Y7ga8ng1Z",
        "PBTbrJXOngz2",
        "u3PMJOP6ngxN",
        "dauF4eBmngu3",
        "bKJF3rekwFvQ",
        "MSa1f5Uengrz",
        "GF8Ens_Soomf",
        "0wOQAZs5pc--",
        "K5QZ13OEpz2H",
        "lQ7QKXXCp7Bj",
        "448CDAPjqfQr",
        "KSlN3yHqYklG",
        "t6dVpIINYklI",
        "ijmpgYnKYklI",
        "-JiQyfWJYklI",
        "EM7whBJCYoAo",
        "fge-S5ZAYoAp",
        "85gYPyotYoAp",
        "RoGjAbkUYoAp",
        "4Of9eVA-YrdM",
        "iky9q4vBYrdO",
        "F6T5p64dYrdO",
        "y-Ehk30pYrdP",
        "bamQiAODYuh1",
        "QHF8YVU7Yuh3",
        "GwzvFGzlYuh3",
        "qYpmQ266Yuh3",
        "OH-pJp9IphqM",
        "bbFf2-_FphqN",
        "_ouA3fa0phqN",
        "Seke61FWphqN",
        "PIIx-8_IphqN",
        "t27r6nlMphqO",
        "r2jJGEOYphqO",
        "b0JNsNcRphqO",
        "BZR9WyysphqO",
        "jj7wYXLtphqO",
        "eZrbJ2SmphqO",
        "rFu4xreNphqO",
        "YJ55k-q6phqO",
        "gCFgpxoyphqP",
        "OVtJsKN_phqQ",
        "lssrdh5qphqQ",
        "U2RJ9gkRphqQ",
        "1M8mcRywphqQ",
        "tgIPom80phqQ",
        "JMzcOPDDphqR",
        "x-EpHcCOp1ci",
        "X_VqEhTip1ck",
        "8zGJKyg5p1ck",
        "PVzmfK_Ep1ck",
        "n3dbpmDWp1ck",
        "ylSl6qgtp1ck",
        "ZWILFDl5p1ck",
        "M7G43BXep1ck",
        "Ag9LCva-p1cl",
        "E6MkPsBcp1cl",
        "2cELzS2fp1cl",
        "3MPXvC8up1cl",
        "NC_X3p0fY2L0",
        "UV0SzAkaZNRQ",
        "YPEH6qLeZNRQ",
        "q29F0dvdveiT",
        "EXh0U9oCveiU",
        "22aHeOlLveiV",
        "yLjJCtPM0KBk",
        "xiyOF9F70UgQ",
        "7wuGOrhz0itI",
        "id1riN9m0vUs",
        "578E2V7j08f6",
        "89xtkJwZ18nB",
        "67NQN5KX2AMe",
        "Iwf50b-R2tYG",
        "GMQiZwjn3iu7",
        "WVIkgGqN3qsr",
        "XkPnILGE3zoT",
        "Hlsf0x5436Go",
        "mT9DMSJo4nBL",
        "c49ITxTc407N",
        "OeJFEK0N496M",
        "9ExmJH0g5HBk",
        "cJNqERVU536h",
        "k5UmGsbsOxih",
        "T0VqWOYE6DLQ",
        "qBMux9mC6MCf",
        "-oLEiFgy-5Pf",
        "C74aWNz2AliB",
        "2DejudWSA-a0",
        "pEMng2IbBLp7",
        "rAdphbQ9Bhjc",
        "TNVZ9zx19K6k",
        "nqoHp30x9hH9",
        "rMDnDkt2B6du",
        "yiiVWRdJDDil",
        "1UUpS68QDMuG",
        "kexQrXU-DjzY",
        "T5CmagL3EC8N",
        "BhH2vgX9EjGr",
        "qjKvONjwE8ra",
        "VfCC591jGiD4",
        "OB4l2ZhMeS1U",
        "ArJBuiUVfxKd",
        "4qY1EAkEfxKe",
        "PiV4Ypx8fxKe",
        "TfvqoZmBfxKf",
        "dJ2tPlVmpsJ0",
        "JWYfwnehpsJ1",
        "-jK_YjpMpsJ2",
        "HAih1iBOpsJ2",
        "zVGeBEFhpsJ2",
        "bmKjuQ-FpsJ3",
        "Fze-IPXLpx6K",
        "7AN1z2sKpx6M",
        "9PIHJqyupx6M",
        "_-qAgymDpx6N",
        "Z-hykwinpx6N",
        "h_CCil-SKHpo",
        "cBFFvTBNJzUa",
        "gCX9965dhzqZ",
        "gIfDvo9L0UH2"
      ],
      "include_colab_link": true
    },
    "kernelspec": {
      "name": "python3",
      "display_name": "Python 3"
    },
    "language_info": {
      "name": "python"
    }
  },
  "cells": [
    {
      "cell_type": "markdown",
      "metadata": {
        "id": "view-in-github",
        "colab_type": "text"
      },
      "source": [
        "<a href=\"https://colab.research.google.com/github/akshat-diwan/fake-news-detection/blob/main/Fake_News_Detection.ipynb\" target=\"_parent\"><img src=\"https://colab.research.google.com/assets/colab-badge.svg\" alt=\"Open In Colab\"/></a>"
      ]
    },
    {
      "cell_type": "markdown",
      "source": [
        "# **Project Name**    -\n",
        "\n"
      ],
      "metadata": {
        "id": "vncDsAP0Gaoa"
      }
    },
    {
      "cell_type": "markdown",
      "source": [
        "##### **Project Type**    - Classification\n",
        "##### **Contribution**    - Individual\n",
        "##### **Made by**       - Akshat Diwan\n",
      ],
      "metadata": {
        "id": "beRrZCGUAJYm"
      }
    },
    {
      "cell_type": "markdown",
      "source": [
        "# **Project Summary -**"
      ],
      "metadata": {
        "id": "FJNUwmbgGyua"
      }
    },
    {
      "cell_type": "markdown",
      "source": [
        "Write the summary here within 500-600 words."
      ],
      "metadata": {
        "id": "F6v_1wHtG2nS"
      }
    },
    {
      "cell_type": "markdown",
      "source": [
        "# **GitHub Link -**"
      ],
      "metadata": {
        "id": "w6K7xa23Elo4"
      }
    },
    {
      "cell_type": "markdown",
      "source": [
        "Provide your GitHub Link here."
      ],
      "metadata": {
        "id": "h1o69JH3Eqqn"
      }
    },
    {
      "cell_type": "markdown",
      "source": [
        "# **Problem Statement**\n"
      ],
      "metadata": {
        "id": "yQaldy8SH6Dl"
      }
    },
    {
      "cell_type": "markdown",
      "source": [
        "**Write Problem Statement Here.**"
      ],
      "metadata": {
        "id": "DpeJGUA3kjGy"
      }
    },
    {
      "cell_type": "markdown",
      "source": [
        "# **General Guidelines** : -  "
      ],
      "metadata": {
        "id": "mDgbUHAGgjLW"
      }
    },
    {
      "cell_type": "markdown",
      "source": [
        "1.   Well-structured, formatted, and commented code is required.\n",
        "2.   Exception Handling, Production Grade Code & Deployment Ready Code will be a plus. Those students will be awarded some additional credits.\n",
        "     \n",
        "     The additional credits will have advantages over other students during Star Student selection.\n",
        "       \n",
        "             [ Note: - Deployment Ready Code is defined as, the whole .ipynb notebook should be executable in one go\n",
        "                       without a single error logged. ]\n",
        "\n",
        "3.   Each and every logic should have proper comments.\n",
        "4. You may add as many number of charts you want. Make Sure for each and every chart the following format should be answered.\n",
        "        \n",
        "\n",
        "```\n",
        "# Chart visualization code\n",
        "```\n",
        "            \n",
        "\n",
        "*   Why did you pick the specific chart?\n",
        "*   What is/are the insight(s) found from the chart?\n",
        "* Will the gained insights help creating a positive business impact?\n",
        "Are there any insights that lead to negative growth? Justify with specific reason.\n",
        "\n",
        "5. You have to create at least 15 logical & meaningful charts having important insights.\n",
        "\n",
        "\n",
        "[ Hints : - Do the Vizualization in  a structured way while following \"UBM\" Rule.\n",
        "\n",
        "U - Univariate Analysis,\n",
        "\n",
        "B - Bivariate Analysis (Numerical - Categorical, Numerical - Numerical, Categorical - Categorical)\n",
        "\n",
        "M - Multivariate Analysis\n",
        " ]\n",
        "\n",
        "\n",
        "\n",
        "\n",
        "\n",
        "6. You may add more ml algorithms for model creation. Make sure for each and every algorithm, the following format should be answered.\n",
        "\n",
        "\n",
        "*   Explain the ML Model used and it's performance using Evaluation metric Score Chart.\n",
        "\n",
        "\n",
        "*   Cross- Validation & Hyperparameter Tuning\n",
        "\n",
        "*   Have you seen any improvement? Note down the improvement with updates Evaluation metric Score Chart.\n",
        "\n",
        "*   Explain each evaluation metric's indication towards business and the business impact pf the ML model used.\n",
        "\n",
        "\n",
        "\n",
        "\n",
        "\n",
        "\n",
        "\n",
        "\n",
        "\n",
        "\n",
        "\n",
        "\n",
        "\n",
        "\n",
        "\n",
        "\n",
        "\n",
        "\n"
      ],
      "metadata": {
        "id": "ZrxVaUj-hHfC"
      }
    },
    {
      "cell_type": "markdown",
      "source": [
        "# ***Let's Begin !***"
      ],
      "metadata": {
        "id": "O_i_v8NEhb9l"
      }
    },
    {
      "cell_type": "markdown",
      "source": [
        "## ***1. Know Your Data***"
      ],
      "metadata": {
        "id": "HhfV-JJviCcP"
      }
    },
    {
      "cell_type": "markdown",
      "source": [
        "### Import Libraries"
      ],
      "metadata": {
        "id": "Y3lxredqlCYt"
      }
    },
    {
      "cell_type": "code",
      "source": [
        "# Import Libraries\n",
        "\n",
        "# Import Libraries\n",
        "import pandas as pd\n",
        "import numpy as np\n",
        "import seaborn as sns\n",
        "import matplotlib.pyplot as plt\n",
        "%matplotlib inline\n",
        "import warnings\n",
        "warnings.filterwarnings('ignore')\n",
        "import plotly.express as px\n",
        "from imblearn.over_sampling import SMOTE\n",
        "from sklearn.preprocessing import StandardScaler\n",
        "from sklearn.model_selection import train_test_split\n",
        "from sklearn.model_selection import GridSearchCV\n",
        "from sklearn.linear_model import LogisticRegression\n",
        "from sklearn.ensemble import RandomForestClassifier\n",
        "from sklearn.svm import SVC\n",
        "from sklearn import metrics\n",
        "from datetime import datetime\n",
        "\n",
        "from sklearn.metrics import accuracy_score\n",
        "from sklearn.metrics import recall_score\n",
        "from sklearn.metrics import precision_score\n",
        "from sklearn.metrics import f1_score\n",
        "from sklearn.metrics import roc_auc_score\n",
        "from sklearn.metrics import confusion_matrix\n",
        "from sklearn.metrics import roc_curve\n",
        "from sklearn.metrics import auc\n",
        "from sklearn.metrics import precision_recall_curve\n",
        "\n",
        "import lightgbm as lgb\n",
        "import xgboost as xgb\n",
        "from xgboost import XGBClassifier"
      ],
      "metadata": {
        "id": "M8Vqi-pPk-HR"
      },
      "execution_count": null,
      "outputs": []
    },
    {
      "cell_type": "code",
      "source": [
        "from google.colab import drive\n",
        "drive.mount('/content/drive')"
      ],
      "metadata": {
        "colab": {
          "base_uri": "https://localhost:8080/"
        },
        "id": "Er8-LOiJt5Yg",
        "outputId": "6f829686-af65-4580-981c-cdd27ead009e"
      },
      "execution_count": null,
      "outputs": [
        {
          "output_type": "stream",
          "name": "stdout",
          "text": [
            "Drive already mounted at /content/drive; to attempt to forcibly remount, call drive.mount(\"/content/drive\", force_remount=True).\n"
          ]
        }
      ]
    },
    {
      "cell_type": "markdown",
      "source": [
        "### Dataset Loading"
      ],
      "metadata": {
        "id": "3RnN4peoiCZX"
      }
    },
    {
      "cell_type": "code",
      "source": [
        "# Load Dataset\n",
        "\n",
        "true = pd.read_csv('/content/drive/MyDrive/Colab Notebooks/Datasets/True news.csv')\n",
        "fake = pd.read_csv('/content/drive/MyDrive/Colab Notebooks/Datasets/Fake news.csv')"
      ],
      "metadata": {
        "id": "4CkvbW_SlZ_R"
      },
      "execution_count": null,
      "outputs": []
    },
    {
      "cell_type": "code",
      "source": [
        "true['label'] = 1\n",
        "fake['label'] = 0"
      ],
      "metadata": {
        "id": "EvTTUR8GxB2C"
      },
      "execution_count": null,
      "outputs": []
    },
    {
      "cell_type": "markdown",
      "source": [
        "### Dataset First View"
      ],
      "metadata": {
        "id": "x71ZqKXriCWQ"
      }
    },
    {
      "cell_type": "code",
      "source": [
        "# Dataset First Look\n",
        "\n",
        "fake.head()"
      ],
      "metadata": {
        "id": "LWNFOSvLl09H",
        "colab": {
          "base_uri": "https://localhost:8080/",
          "height": 206
        },
        "outputId": "3eedd3cf-ee73-4531-c535-5828659c3e13"
      },
      "execution_count": null,
      "outputs": [
        {
          "output_type": "execute_result",
          "data": {
            "text/plain": [
              "                                               title  \\\n",
              "0   Donald Trump Sends Out Embarrassing New Year’...   \n",
              "1   Drunk Bragging Trump Staffer Started Russian ...   \n",
              "2   Sheriff David Clarke Becomes An Internet Joke...   \n",
              "3   Trump Is So Obsessed He Even Has Obama’s Name...   \n",
              "4   Pope Francis Just Called Out Donald Trump Dur...   \n",
              "\n",
              "                                                text subject  \\\n",
              "0  Donald Trump just couldn t wish all Americans ...    News   \n",
              "1  House Intelligence Committee Chairman Devin Nu...    News   \n",
              "2  On Friday, it was revealed that former Milwauk...    News   \n",
              "3  On Christmas day, Donald Trump announced that ...    News   \n",
              "4  Pope Francis used his annual Christmas Day mes...    News   \n",
              "\n",
              "                date  label  \n",
              "0  December 31, 2017      0  \n",
              "1  December 31, 2017      0  \n",
              "2  December 30, 2017      0  \n",
              "3  December 29, 2017      0  \n",
              "4  December 25, 2017      0  "
            ],
            "text/html": [
              "\n",
              "  <div id=\"df-62fd769f-4e45-4596-be3f-97a0b316d5ce\" class=\"colab-df-container\">\n",
              "    <div>\n",
              "<style scoped>\n",
              "    .dataframe tbody tr th:only-of-type {\n",
              "        vertical-align: middle;\n",
              "    }\n",
              "\n",
              "    .dataframe tbody tr th {\n",
              "        vertical-align: top;\n",
              "    }\n",
              "\n",
              "    .dataframe thead th {\n",
              "        text-align: right;\n",
              "    }\n",
              "</style>\n",
              "<table border=\"1\" class=\"dataframe\">\n",
              "  <thead>\n",
              "    <tr style=\"text-align: right;\">\n",
              "      <th></th>\n",
              "      <th>title</th>\n",
              "      <th>text</th>\n",
              "      <th>subject</th>\n",
              "      <th>date</th>\n",
              "      <th>label</th>\n",
              "    </tr>\n",
              "  </thead>\n",
              "  <tbody>\n",
              "    <tr>\n",
              "      <th>0</th>\n",
              "      <td>Donald Trump Sends Out Embarrassing New Year’...</td>\n",
              "      <td>Donald Trump just couldn t wish all Americans ...</td>\n",
              "      <td>News</td>\n",
              "      <td>December 31, 2017</td>\n",
              "      <td>0</td>\n",
              "    </tr>\n",
              "    <tr>\n",
              "      <th>1</th>\n",
              "      <td>Drunk Bragging Trump Staffer Started Russian ...</td>\n",
              "      <td>House Intelligence Committee Chairman Devin Nu...</td>\n",
              "      <td>News</td>\n",
              "      <td>December 31, 2017</td>\n",
              "      <td>0</td>\n",
              "    </tr>\n",
              "    <tr>\n",
              "      <th>2</th>\n",
              "      <td>Sheriff David Clarke Becomes An Internet Joke...</td>\n",
              "      <td>On Friday, it was revealed that former Milwauk...</td>\n",
              "      <td>News</td>\n",
              "      <td>December 30, 2017</td>\n",
              "      <td>0</td>\n",
              "    </tr>\n",
              "    <tr>\n",
              "      <th>3</th>\n",
              "      <td>Trump Is So Obsessed He Even Has Obama’s Name...</td>\n",
              "      <td>On Christmas day, Donald Trump announced that ...</td>\n",
              "      <td>News</td>\n",
              "      <td>December 29, 2017</td>\n",
              "      <td>0</td>\n",
              "    </tr>\n",
              "    <tr>\n",
              "      <th>4</th>\n",
              "      <td>Pope Francis Just Called Out Donald Trump Dur...</td>\n",
              "      <td>Pope Francis used his annual Christmas Day mes...</td>\n",
              "      <td>News</td>\n",
              "      <td>December 25, 2017</td>\n",
              "      <td>0</td>\n",
              "    </tr>\n",
              "  </tbody>\n",
              "</table>\n",
              "</div>\n",
              "    <div class=\"colab-df-buttons\">\n",
              "\n",
              "  <div class=\"colab-df-container\">\n",
              "    <button class=\"colab-df-convert\" onclick=\"convertToInteractive('df-62fd769f-4e45-4596-be3f-97a0b316d5ce')\"\n",
              "            title=\"Convert this dataframe to an interactive table.\"\n",
              "            style=\"display:none;\">\n",
              "\n",
              "  <svg xmlns=\"http://www.w3.org/2000/svg\" height=\"24px\" viewBox=\"0 -960 960 960\">\n",
              "    <path d=\"M120-120v-720h720v720H120Zm60-500h600v-160H180v160Zm220 220h160v-160H400v160Zm0 220h160v-160H400v160ZM180-400h160v-160H180v160Zm440 0h160v-160H620v160ZM180-180h160v-160H180v160Zm440 0h160v-160H620v160Z\"/>\n",
              "  </svg>\n",
              "    </button>\n",
              "\n",
              "  <style>\n",
              "    .colab-df-container {\n",
              "      display:flex;\n",
              "      gap: 12px;\n",
              "    }\n",
              "\n",
              "    .colab-df-convert {\n",
              "      background-color: #E8F0FE;\n",
              "      border: none;\n",
              "      border-radius: 50%;\n",
              "      cursor: pointer;\n",
              "      display: none;\n",
              "      fill: #1967D2;\n",
              "      height: 32px;\n",
              "      padding: 0 0 0 0;\n",
              "      width: 32px;\n",
              "    }\n",
              "\n",
              "    .colab-df-convert:hover {\n",
              "      background-color: #E2EBFA;\n",
              "      box-shadow: 0px 1px 2px rgba(60, 64, 67, 0.3), 0px 1px 3px 1px rgba(60, 64, 67, 0.15);\n",
              "      fill: #174EA6;\n",
              "    }\n",
              "\n",
              "    .colab-df-buttons div {\n",
              "      margin-bottom: 4px;\n",
              "    }\n",
              "\n",
              "    [theme=dark] .colab-df-convert {\n",
              "      background-color: #3B4455;\n",
              "      fill: #D2E3FC;\n",
              "    }\n",
              "\n",
              "    [theme=dark] .colab-df-convert:hover {\n",
              "      background-color: #434B5C;\n",
              "      box-shadow: 0px 1px 3px 1px rgba(0, 0, 0, 0.15);\n",
              "      filter: drop-shadow(0px 1px 2px rgba(0, 0, 0, 0.3));\n",
              "      fill: #FFFFFF;\n",
              "    }\n",
              "  </style>\n",
              "\n",
              "    <script>\n",
              "      const buttonEl =\n",
              "        document.querySelector('#df-62fd769f-4e45-4596-be3f-97a0b316d5ce button.colab-df-convert');\n",
              "      buttonEl.style.display =\n",
              "        google.colab.kernel.accessAllowed ? 'block' : 'none';\n",
              "\n",
              "      async function convertToInteractive(key) {\n",
              "        const element = document.querySelector('#df-62fd769f-4e45-4596-be3f-97a0b316d5ce');\n",
              "        const dataTable =\n",
              "          await google.colab.kernel.invokeFunction('convertToInteractive',\n",
              "                                                    [key], {});\n",
              "        if (!dataTable) return;\n",
              "\n",
              "        const docLinkHtml = 'Like what you see? Visit the ' +\n",
              "          '<a target=\"_blank\" href=https://colab.research.google.com/notebooks/data_table.ipynb>data table notebook</a>'\n",
              "          + ' to learn more about interactive tables.';\n",
              "        element.innerHTML = '';\n",
              "        dataTable['output_type'] = 'display_data';\n",
              "        await google.colab.output.renderOutput(dataTable, element);\n",
              "        const docLink = document.createElement('div');\n",
              "        docLink.innerHTML = docLinkHtml;\n",
              "        element.appendChild(docLink);\n",
              "      }\n",
              "    </script>\n",
              "  </div>\n",
              "\n",
              "\n",
              "    <div id=\"df-79ffa0ca-008e-4091-a657-c71d47da6af7\">\n",
              "      <button class=\"colab-df-quickchart\" onclick=\"quickchart('df-79ffa0ca-008e-4091-a657-c71d47da6af7')\"\n",
              "                title=\"Suggest charts\"\n",
              "                style=\"display:none;\">\n",
              "\n",
              "<svg xmlns=\"http://www.w3.org/2000/svg\" height=\"24px\"viewBox=\"0 0 24 24\"\n",
              "     width=\"24px\">\n",
              "    <g>\n",
              "        <path d=\"M19 3H5c-1.1 0-2 .9-2 2v14c0 1.1.9 2 2 2h14c1.1 0 2-.9 2-2V5c0-1.1-.9-2-2-2zM9 17H7v-7h2v7zm4 0h-2V7h2v10zm4 0h-2v-4h2v4z\"/>\n",
              "    </g>\n",
              "</svg>\n",
              "      </button>\n",
              "\n",
              "<style>\n",
              "  .colab-df-quickchart {\n",
              "      --bg-color: #E8F0FE;\n",
              "      --fill-color: #1967D2;\n",
              "      --hover-bg-color: #E2EBFA;\n",
              "      --hover-fill-color: #174EA6;\n",
              "      --disabled-fill-color: #AAA;\n",
              "      --disabled-bg-color: #DDD;\n",
              "  }\n",
              "\n",
              "  [theme=dark] .colab-df-quickchart {\n",
              "      --bg-color: #3B4455;\n",
              "      --fill-color: #D2E3FC;\n",
              "      --hover-bg-color: #434B5C;\n",
              "      --hover-fill-color: #FFFFFF;\n",
              "      --disabled-bg-color: #3B4455;\n",
              "      --disabled-fill-color: #666;\n",
              "  }\n",
              "\n",
              "  .colab-df-quickchart {\n",
              "    background-color: var(--bg-color);\n",
              "    border: none;\n",
              "    border-radius: 50%;\n",
              "    cursor: pointer;\n",
              "    display: none;\n",
              "    fill: var(--fill-color);\n",
              "    height: 32px;\n",
              "    padding: 0;\n",
              "    width: 32px;\n",
              "  }\n",
              "\n",
              "  .colab-df-quickchart:hover {\n",
              "    background-color: var(--hover-bg-color);\n",
              "    box-shadow: 0 1px 2px rgba(60, 64, 67, 0.3), 0 1px 3px 1px rgba(60, 64, 67, 0.15);\n",
              "    fill: var(--button-hover-fill-color);\n",
              "  }\n",
              "\n",
              "  .colab-df-quickchart-complete:disabled,\n",
              "  .colab-df-quickchart-complete:disabled:hover {\n",
              "    background-color: var(--disabled-bg-color);\n",
              "    fill: var(--disabled-fill-color);\n",
              "    box-shadow: none;\n",
              "  }\n",
              "\n",
              "  .colab-df-spinner {\n",
              "    border: 2px solid var(--fill-color);\n",
              "    border-color: transparent;\n",
              "    border-bottom-color: var(--fill-color);\n",
              "    animation:\n",
              "      spin 1s steps(1) infinite;\n",
              "  }\n",
              "\n",
              "  @keyframes spin {\n",
              "    0% {\n",
              "      border-color: transparent;\n",
              "      border-bottom-color: var(--fill-color);\n",
              "      border-left-color: var(--fill-color);\n",
              "    }\n",
              "    20% {\n",
              "      border-color: transparent;\n",
              "      border-left-color: var(--fill-color);\n",
              "      border-top-color: var(--fill-color);\n",
              "    }\n",
              "    30% {\n",
              "      border-color: transparent;\n",
              "      border-left-color: var(--fill-color);\n",
              "      border-top-color: var(--fill-color);\n",
              "      border-right-color: var(--fill-color);\n",
              "    }\n",
              "    40% {\n",
              "      border-color: transparent;\n",
              "      border-right-color: var(--fill-color);\n",
              "      border-top-color: var(--fill-color);\n",
              "    }\n",
              "    60% {\n",
              "      border-color: transparent;\n",
              "      border-right-color: var(--fill-color);\n",
              "    }\n",
              "    80% {\n",
              "      border-color: transparent;\n",
              "      border-right-color: var(--fill-color);\n",
              "      border-bottom-color: var(--fill-color);\n",
              "    }\n",
              "    90% {\n",
              "      border-color: transparent;\n",
              "      border-bottom-color: var(--fill-color);\n",
              "    }\n",
              "  }\n",
              "</style>\n",
              "\n",
              "      <script>\n",
              "        async function quickchart(key) {\n",
              "          const quickchartButtonEl =\n",
              "            document.querySelector('#' + key + ' button');\n",
              "          quickchartButtonEl.disabled = true;  // To prevent multiple clicks.\n",
              "          quickchartButtonEl.classList.add('colab-df-spinner');\n",
              "          try {\n",
              "            const charts = await google.colab.kernel.invokeFunction(\n",
              "                'suggestCharts', [key], {});\n",
              "          } catch (error) {\n",
              "            console.error('Error during call to suggestCharts:', error);\n",
              "          }\n",
              "          quickchartButtonEl.classList.remove('colab-df-spinner');\n",
              "          quickchartButtonEl.classList.add('colab-df-quickchart-complete');\n",
              "        }\n",
              "        (() => {\n",
              "          let quickchartButtonEl =\n",
              "            document.querySelector('#df-79ffa0ca-008e-4091-a657-c71d47da6af7 button');\n",
              "          quickchartButtonEl.style.display =\n",
              "            google.colab.kernel.accessAllowed ? 'block' : 'none';\n",
              "        })();\n",
              "      </script>\n",
              "    </div>\n",
              "\n",
              "    </div>\n",
              "  </div>\n"
            ],
            "application/vnd.google.colaboratory.intrinsic+json": {
              "type": "dataframe",
              "variable_name": "fake",
              "summary": "{\n  \"name\": \"fake\",\n  \"rows\": 23481,\n  \"fields\": [\n    {\n      \"column\": \"title\",\n      \"properties\": {\n        \"dtype\": \"string\",\n        \"num_unique_values\": 17903,\n        \"samples\": [\n          \" Fox News Mocked Into Oblivion After This F*cking STUPID Attempt To Make Steve Bannon Look Sane (TWEETS)\",\n          \"BREAKING: FL GOV RICK SCOTT Calls for FBI Director to Resign\",\n          \" WATCH: Mike Pence\\u2019s Photo Op With Puerto Rico Survivors Just Went TERRIBLY Wrong (VIDEO)\"\n        ],\n        \"semantic_type\": \"\",\n        \"description\": \"\"\n      }\n    },\n    {\n      \"column\": \"text\",\n      \"properties\": {\n        \"dtype\": \"string\",\n        \"num_unique_values\": 17455,\n        \"samples\": [\n          \"The moral decay continues The Kapiolani Medical Center for Women and Children at the University of Hawaii is currently recruiting pregnant girls and women to participate in second-trimester abortions to measure their bleeding during the operation, with and without antihemorrhagic drugs. According to the Clinical Trials website, run by the National Institutes of Health, participants must be at least 14 years old and 18-24 weeks pregnant.The controversial study, led by Bliss Kaneshiro, MD and Kate Whitehouse, DO, will monitor bleeding during D&E abortions to determine the effects of the drug oxytocin, commonly used to minimize blood loss and decrease the risk of hemorrhage.The clinical trial, called  Effects of Oxytocin on Bleeding Outcomes during Dilation and Evacuation  began in October 2014 and is a collaboration between UH, Society of Family Planning and the University of Washington.The Society of Family Planning funds a number of similar research projects, such as experimenting with the dosage of Misoprostol, a uterine contracting agent, prior to surgical abortions at 13-18 weeks and exploring umbilical cord injections to produce fetal death prior to late-term abortions.In the UH study, researchers will carry out a  randomized, double-blinded, placebo-controlled trials,  to determine the effect of oxytocin s use on uterine bleeding, meaning that they will either provide or deny intravenous oxytocin to the women.Reports suggest that some doctors are concerned that withholding oxytocin during surgery may put patients, especially teen girls, at risk. This study is reminiscent of Nazi concentration camp experiments. I pity the poor women who are being treated like lab rats, especially those who are denied the drug to reduce hemorrhaging,  said Troy Newman, President of Operation Rescue.Dilation and evacuation abortions are surgical procedures that involve dismembering the pre-born baby with forceps, scraping the inside of the uterus with a curette to remove any residuals and finally suctioning out the womb to make sure the contents are completely removed.After the abortion, the corpse of the fetus is reassembled and examined to ensure everything was successfully removed and that the abortion was complete.The study is hoping to attract up to 166 test subjects and is expected to conclude in July 2015.Via: Breitbart News\",\n          \"CNN was quick to scoop up Corey Lewandowski after Donald Trump kicked him out of his role as campaign manager, but his first week on the job is going pretty much exactly how you would expect it to go   terribly.Not only has Lewandowski proven himself to be pretty much like a paid spokesman for Trump, but his defense of the disgraced GOP candidate isn t being received well. Earlier this week, Lewandowski revealed that he was under contract and couldn t criticize The Donald, even after being fired from the campaign. Today, Lewandowski got called out by Hillary Clinton surrogate Christine Quinn for hyping Trump up to be an expert on the Brexit decision   a suggestion that was clearly false.On Monday s edition of CNN s New Day, Lewandowski made another pathetic defense of Trump by trying to reframe the candidate s disgusting reaction to Brexit, where he mostly spoke about how much the decision would be good for his Scotland golf resort. Lewandowski s defense was: Obviously the U.S. dollar has become much stronger now against the British pound. If you re going to spend money in Europe, now would actually be a good time to go with the fall of the pound.What you have is a world view, so what you have is someone who is saying,  Let s look at this from the U.S. perspective. If you want to go and travel overseas   just from a monetary perspective   now is the right time to do that because what you re getting is more for your dollar. Quinn wasn t having it. She ripped into Lewandowski, firing back, Donald Trump is not running to be travel agent of the world, he s running to be president of the United States.  She continued: What he said wasn t a commentary on international markets, it was,  When the pound goes down, more people will come to my golf course. Donald Trump s main concern isn t the international markets, it isn t the impact that Brexit will have on hard working Americans  401Ks, it s himself. How can he make more money, how can he put more money in his bank account? Lewandowski compared the Brexit decision to Trump s rise in the GOP, and Quinn once again called him out and put him back in his place. She said: Trump touted that he saw this coming. That s ridiculous because when he was first asked about Brexit by the press, he didn t appear to know what it was. Lewandowski tried to counter by insisting that People are too smart, they are tired of being told what to do.  He then tried to commend Trump for being a selfish moron: You know what Donald Trump said about Brexit? What he said was, you don t have to listen to me because it s not my decision. He didn t weigh in like Hillary Clinton did, like Barack Obama did, saying that you can t do this. Quinn fought back, Because he didn t know what it was. Lewandowski was fighting a losing battle. Trump s reaction to Brexit was just as terrifying as it was humorous   it truly proved that Trump knows nothing about foreign affairs, and hasn t spent any time educating himself since the beginning of his presidential candidacy. If only some of the hours he spent getting into fights on Twitter were being used for learning about how the world works. But instead, he once again exposed himself as an unfit choice for President. And when people like Lewandowski try to make sense of his idiocy, they only make themselves look equally foolish.You can watch the embarrassing video below:Featured image via screen capture\",\n          \"A Michigan woman decided to defend against tyranny? when she and another shopper couldn t agree over who got to buy the last notebook on the shelf at the Novi Towne Center store.According to ABC 13, the brawl   yes, brawl    involved two Farmington Hills residents, ages 46 and 32, and a mother and daughter from South Lyon, ages 51 and 20. In other words, these were all grown adults who should have known better but hey   there was only one notebook on the shelf, and we ve all seen what happens in those post-apocalyptic movies when a store is down to the last gallon of milk, right?Two of the women, one of whom was the unnamed 20-year-old, reached for the notebook at the same time. The 46 and 32-year-olds apparently decided that she wasn t getting their goddamn notebook and began pulling her hair.Then, because this had almost hit peak  trailer park,  the 20-year-old s mother decided to go for bonus points by pulling out her gun. Fortunately, someone pushed her aside before she could do any harm.This is one of the NRA s  responsible gun owners  (conservatives can t dismiss this one, as it is confirmed that she is a concealed carry permit holder)   ready to leap into action at the most minor sign of danger and make things worse by turning the situation potentially deadly.Watch it happen below:Featured image via screengrab\"\n        ],\n        \"semantic_type\": \"\",\n        \"description\": \"\"\n      }\n    },\n    {\n      \"column\": \"subject\",\n      \"properties\": {\n        \"dtype\": \"category\",\n        \"num_unique_values\": 6,\n        \"samples\": [\n          \"News\",\n          \"politics\",\n          \"Middle-east\"\n        ],\n        \"semantic_type\": \"\",\n        \"description\": \"\"\n      }\n    },\n    {\n      \"column\": \"date\",\n      \"properties\": {\n        \"dtype\": \"category\",\n        \"num_unique_values\": 1681,\n        \"samples\": [\n          \"Jun 5, 2015\",\n          \"August 28, 2016\",\n          \"June 3, 2017\"\n        ],\n        \"semantic_type\": \"\",\n        \"description\": \"\"\n      }\n    },\n    {\n      \"column\": \"label\",\n      \"properties\": {\n        \"dtype\": \"number\",\n        \"std\": 0,\n        \"min\": 0,\n        \"max\": 0,\n        \"num_unique_values\": 1,\n        \"samples\": [\n          0\n        ],\n        \"semantic_type\": \"\",\n        \"description\": \"\"\n      }\n    }\n  ]\n}"
            }
          },
          "metadata": {},
          "execution_count": 77
        }
      ]
    },
    {
      "cell_type": "code",
      "source": [
        "true.head()"
      ],
      "metadata": {
        "colab": {
          "base_uri": "https://localhost:8080/",
          "height": 206
        },
        "id": "6ad2Ojkgwy06",
        "outputId": "a1468990-4f1a-4e6a-e296-1997c94695d0"
      },
      "execution_count": null,
      "outputs": [
        {
          "output_type": "execute_result",
          "data": {
            "text/plain": [
              "                                               title  \\\n",
              "0  As U.S. budget fight looms, Republicans flip t...   \n",
              "1  U.S. military to accept transgender recruits o...   \n",
              "2  Senior U.S. Republican senator: 'Let Mr. Muell...   \n",
              "3  FBI Russia probe helped by Australian diplomat...   \n",
              "4  Trump wants Postal Service to charge 'much mor...   \n",
              "\n",
              "                                                text       subject  \\\n",
              "0  WASHINGTON (Reuters) - The head of a conservat...  politicsNews   \n",
              "1  WASHINGTON (Reuters) - Transgender people will...  politicsNews   \n",
              "2  WASHINGTON (Reuters) - The special counsel inv...  politicsNews   \n",
              "3  WASHINGTON (Reuters) - Trump campaign adviser ...  politicsNews   \n",
              "4  SEATTLE/WASHINGTON (Reuters) - President Donal...  politicsNews   \n",
              "\n",
              "                 date  label  \n",
              "0  December 31, 2017       1  \n",
              "1  December 29, 2017       1  \n",
              "2  December 31, 2017       1  \n",
              "3  December 30, 2017       1  \n",
              "4  December 29, 2017       1  "
            ],
            "text/html": [
              "\n",
              "  <div id=\"df-d7b87a19-52bd-4ca0-88be-4c9865bc923d\" class=\"colab-df-container\">\n",
              "    <div>\n",
              "<style scoped>\n",
              "    .dataframe tbody tr th:only-of-type {\n",
              "        vertical-align: middle;\n",
              "    }\n",
              "\n",
              "    .dataframe tbody tr th {\n",
              "        vertical-align: top;\n",
              "    }\n",
              "\n",
              "    .dataframe thead th {\n",
              "        text-align: right;\n",
              "    }\n",
              "</style>\n",
              "<table border=\"1\" class=\"dataframe\">\n",
              "  <thead>\n",
              "    <tr style=\"text-align: right;\">\n",
              "      <th></th>\n",
              "      <th>title</th>\n",
              "      <th>text</th>\n",
              "      <th>subject</th>\n",
              "      <th>date</th>\n",
              "      <th>label</th>\n",
              "    </tr>\n",
              "  </thead>\n",
              "  <tbody>\n",
              "    <tr>\n",
              "      <th>0</th>\n",
              "      <td>As U.S. budget fight looms, Republicans flip t...</td>\n",
              "      <td>WASHINGTON (Reuters) - The head of a conservat...</td>\n",
              "      <td>politicsNews</td>\n",
              "      <td>December 31, 2017</td>\n",
              "      <td>1</td>\n",
              "    </tr>\n",
              "    <tr>\n",
              "      <th>1</th>\n",
              "      <td>U.S. military to accept transgender recruits o...</td>\n",
              "      <td>WASHINGTON (Reuters) - Transgender people will...</td>\n",
              "      <td>politicsNews</td>\n",
              "      <td>December 29, 2017</td>\n",
              "      <td>1</td>\n",
              "    </tr>\n",
              "    <tr>\n",
              "      <th>2</th>\n",
              "      <td>Senior U.S. Republican senator: 'Let Mr. Muell...</td>\n",
              "      <td>WASHINGTON (Reuters) - The special counsel inv...</td>\n",
              "      <td>politicsNews</td>\n",
              "      <td>December 31, 2017</td>\n",
              "      <td>1</td>\n",
              "    </tr>\n",
              "    <tr>\n",
              "      <th>3</th>\n",
              "      <td>FBI Russia probe helped by Australian diplomat...</td>\n",
              "      <td>WASHINGTON (Reuters) - Trump campaign adviser ...</td>\n",
              "      <td>politicsNews</td>\n",
              "      <td>December 30, 2017</td>\n",
              "      <td>1</td>\n",
              "    </tr>\n",
              "    <tr>\n",
              "      <th>4</th>\n",
              "      <td>Trump wants Postal Service to charge 'much mor...</td>\n",
              "      <td>SEATTLE/WASHINGTON (Reuters) - President Donal...</td>\n",
              "      <td>politicsNews</td>\n",
              "      <td>December 29, 2017</td>\n",
              "      <td>1</td>\n",
              "    </tr>\n",
              "  </tbody>\n",
              "</table>\n",
              "</div>\n",
              "    <div class=\"colab-df-buttons\">\n",
              "\n",
              "  <div class=\"colab-df-container\">\n",
              "    <button class=\"colab-df-convert\" onclick=\"convertToInteractive('df-d7b87a19-52bd-4ca0-88be-4c9865bc923d')\"\n",
              "            title=\"Convert this dataframe to an interactive table.\"\n",
              "            style=\"display:none;\">\n",
              "\n",
              "  <svg xmlns=\"http://www.w3.org/2000/svg\" height=\"24px\" viewBox=\"0 -960 960 960\">\n",
              "    <path d=\"M120-120v-720h720v720H120Zm60-500h600v-160H180v160Zm220 220h160v-160H400v160Zm0 220h160v-160H400v160ZM180-400h160v-160H180v160Zm440 0h160v-160H620v160ZM180-180h160v-160H180v160Zm440 0h160v-160H620v160Z\"/>\n",
              "  </svg>\n",
              "    </button>\n",
              "\n",
              "  <style>\n",
              "    .colab-df-container {\n",
              "      display:flex;\n",
              "      gap: 12px;\n",
              "    }\n",
              "\n",
              "    .colab-df-convert {\n",
              "      background-color: #E8F0FE;\n",
              "      border: none;\n",
              "      border-radius: 50%;\n",
              "      cursor: pointer;\n",
              "      display: none;\n",
              "      fill: #1967D2;\n",
              "      height: 32px;\n",
              "      padding: 0 0 0 0;\n",
              "      width: 32px;\n",
              "    }\n",
              "\n",
              "    .colab-df-convert:hover {\n",
              "      background-color: #E2EBFA;\n",
              "      box-shadow: 0px 1px 2px rgba(60, 64, 67, 0.3), 0px 1px 3px 1px rgba(60, 64, 67, 0.15);\n",
              "      fill: #174EA6;\n",
              "    }\n",
              "\n",
              "    .colab-df-buttons div {\n",
              "      margin-bottom: 4px;\n",
              "    }\n",
              "\n",
              "    [theme=dark] .colab-df-convert {\n",
              "      background-color: #3B4455;\n",
              "      fill: #D2E3FC;\n",
              "    }\n",
              "\n",
              "    [theme=dark] .colab-df-convert:hover {\n",
              "      background-color: #434B5C;\n",
              "      box-shadow: 0px 1px 3px 1px rgba(0, 0, 0, 0.15);\n",
              "      filter: drop-shadow(0px 1px 2px rgba(0, 0, 0, 0.3));\n",
              "      fill: #FFFFFF;\n",
              "    }\n",
              "  </style>\n",
              "\n",
              "    <script>\n",
              "      const buttonEl =\n",
              "        document.querySelector('#df-d7b87a19-52bd-4ca0-88be-4c9865bc923d button.colab-df-convert');\n",
              "      buttonEl.style.display =\n",
              "        google.colab.kernel.accessAllowed ? 'block' : 'none';\n",
              "\n",
              "      async function convertToInteractive(key) {\n",
              "        const element = document.querySelector('#df-d7b87a19-52bd-4ca0-88be-4c9865bc923d');\n",
              "        const dataTable =\n",
              "          await google.colab.kernel.invokeFunction('convertToInteractive',\n",
              "                                                    [key], {});\n",
              "        if (!dataTable) return;\n",
              "\n",
              "        const docLinkHtml = 'Like what you see? Visit the ' +\n",
              "          '<a target=\"_blank\" href=https://colab.research.google.com/notebooks/data_table.ipynb>data table notebook</a>'\n",
              "          + ' to learn more about interactive tables.';\n",
              "        element.innerHTML = '';\n",
              "        dataTable['output_type'] = 'display_data';\n",
              "        await google.colab.output.renderOutput(dataTable, element);\n",
              "        const docLink = document.createElement('div');\n",
              "        docLink.innerHTML = docLinkHtml;\n",
              "        element.appendChild(docLink);\n",
              "      }\n",
              "    </script>\n",
              "  </div>\n",
              "\n",
              "\n",
              "    <div id=\"df-22da8aef-e32f-4195-a8cb-25936e832439\">\n",
              "      <button class=\"colab-df-quickchart\" onclick=\"quickchart('df-22da8aef-e32f-4195-a8cb-25936e832439')\"\n",
              "                title=\"Suggest charts\"\n",
              "                style=\"display:none;\">\n",
              "\n",
              "<svg xmlns=\"http://www.w3.org/2000/svg\" height=\"24px\"viewBox=\"0 0 24 24\"\n",
              "     width=\"24px\">\n",
              "    <g>\n",
              "        <path d=\"M19 3H5c-1.1 0-2 .9-2 2v14c0 1.1.9 2 2 2h14c1.1 0 2-.9 2-2V5c0-1.1-.9-2-2-2zM9 17H7v-7h2v7zm4 0h-2V7h2v10zm4 0h-2v-4h2v4z\"/>\n",
              "    </g>\n",
              "</svg>\n",
              "      </button>\n",
              "\n",
              "<style>\n",
              "  .colab-df-quickchart {\n",
              "      --bg-color: #E8F0FE;\n",
              "      --fill-color: #1967D2;\n",
              "      --hover-bg-color: #E2EBFA;\n",
              "      --hover-fill-color: #174EA6;\n",
              "      --disabled-fill-color: #AAA;\n",
              "      --disabled-bg-color: #DDD;\n",
              "  }\n",
              "\n",
              "  [theme=dark] .colab-df-quickchart {\n",
              "      --bg-color: #3B4455;\n",
              "      --fill-color: #D2E3FC;\n",
              "      --hover-bg-color: #434B5C;\n",
              "      --hover-fill-color: #FFFFFF;\n",
              "      --disabled-bg-color: #3B4455;\n",
              "      --disabled-fill-color: #666;\n",
              "  }\n",
              "\n",
              "  .colab-df-quickchart {\n",
              "    background-color: var(--bg-color);\n",
              "    border: none;\n",
              "    border-radius: 50%;\n",
              "    cursor: pointer;\n",
              "    display: none;\n",
              "    fill: var(--fill-color);\n",
              "    height: 32px;\n",
              "    padding: 0;\n",
              "    width: 32px;\n",
              "  }\n",
              "\n",
              "  .colab-df-quickchart:hover {\n",
              "    background-color: var(--hover-bg-color);\n",
              "    box-shadow: 0 1px 2px rgba(60, 64, 67, 0.3), 0 1px 3px 1px rgba(60, 64, 67, 0.15);\n",
              "    fill: var(--button-hover-fill-color);\n",
              "  }\n",
              "\n",
              "  .colab-df-quickchart-complete:disabled,\n",
              "  .colab-df-quickchart-complete:disabled:hover {\n",
              "    background-color: var(--disabled-bg-color);\n",
              "    fill: var(--disabled-fill-color);\n",
              "    box-shadow: none;\n",
              "  }\n",
              "\n",
              "  .colab-df-spinner {\n",
              "    border: 2px solid var(--fill-color);\n",
              "    border-color: transparent;\n",
              "    border-bottom-color: var(--fill-color);\n",
              "    animation:\n",
              "      spin 1s steps(1) infinite;\n",
              "  }\n",
              "\n",
              "  @keyframes spin {\n",
              "    0% {\n",
              "      border-color: transparent;\n",
              "      border-bottom-color: var(--fill-color);\n",
              "      border-left-color: var(--fill-color);\n",
              "    }\n",
              "    20% {\n",
              "      border-color: transparent;\n",
              "      border-left-color: var(--fill-color);\n",
              "      border-top-color: var(--fill-color);\n",
              "    }\n",
              "    30% {\n",
              "      border-color: transparent;\n",
              "      border-left-color: var(--fill-color);\n",
              "      border-top-color: var(--fill-color);\n",
              "      border-right-color: var(--fill-color);\n",
              "    }\n",
              "    40% {\n",
              "      border-color: transparent;\n",
              "      border-right-color: var(--fill-color);\n",
              "      border-top-color: var(--fill-color);\n",
              "    }\n",
              "    60% {\n",
              "      border-color: transparent;\n",
              "      border-right-color: var(--fill-color);\n",
              "    }\n",
              "    80% {\n",
              "      border-color: transparent;\n",
              "      border-right-color: var(--fill-color);\n",
              "      border-bottom-color: var(--fill-color);\n",
              "    }\n",
              "    90% {\n",
              "      border-color: transparent;\n",
              "      border-bottom-color: var(--fill-color);\n",
              "    }\n",
              "  }\n",
              "</style>\n",
              "\n",
              "      <script>\n",
              "        async function quickchart(key) {\n",
              "          const quickchartButtonEl =\n",
              "            document.querySelector('#' + key + ' button');\n",
              "          quickchartButtonEl.disabled = true;  // To prevent multiple clicks.\n",
              "          quickchartButtonEl.classList.add('colab-df-spinner');\n",
              "          try {\n",
              "            const charts = await google.colab.kernel.invokeFunction(\n",
              "                'suggestCharts', [key], {});\n",
              "          } catch (error) {\n",
              "            console.error('Error during call to suggestCharts:', error);\n",
              "          }\n",
              "          quickchartButtonEl.classList.remove('colab-df-spinner');\n",
              "          quickchartButtonEl.classList.add('colab-df-quickchart-complete');\n",
              "        }\n",
              "        (() => {\n",
              "          let quickchartButtonEl =\n",
              "            document.querySelector('#df-22da8aef-e32f-4195-a8cb-25936e832439 button');\n",
              "          quickchartButtonEl.style.display =\n",
              "            google.colab.kernel.accessAllowed ? 'block' : 'none';\n",
              "        })();\n",
              "      </script>\n",
              "    </div>\n",
              "\n",
              "    </div>\n",
              "  </div>\n"
            ],
            "application/vnd.google.colaboratory.intrinsic+json": {
              "type": "dataframe",
              "variable_name": "true",
              "summary": "{\n  \"name\": \"true\",\n  \"rows\": 21417,\n  \"fields\": [\n    {\n      \"column\": \"title\",\n      \"properties\": {\n        \"dtype\": \"string\",\n        \"num_unique_values\": 20826,\n        \"samples\": [\n          \"German, Turkish foreign ministers meet after detainee released\",\n          \"Kremlin calls North Korea's latest missile launch another 'provocation'\",\n          \"Transgender soldiers, veterans shaken by Trump's ban on their service\"\n        ],\n        \"semantic_type\": \"\",\n        \"description\": \"\"\n      }\n    },\n    {\n      \"column\": \"text\",\n      \"properties\": {\n        \"dtype\": \"string\",\n        \"num_unique_values\": 21192,\n        \"samples\": [\n          \"WASHINGTON (Reuters) - A majority of the U.S. Senate on Tuesday backed a new round of disaster aid to help Puerto Rico and several states recover from damage from hurricanes and wildfires. The legislation would provide $36.5 billion in emergency relief as Puerto Rico in particular struggles to regain electricity and other basic services following destructive hurricanes. The House of Representatives approved the bill earlier this month. The Trump administration already has indicated it will seek another round of emergency relief from Congress. \",\n          \"BUDAPEST (Reuters) - About a thousand Hungarians protested on Friday against a crackdown on the main opposition party Jobbik which has been  threatened by a record political campaign fine that the party leader describes as a  death sentence  for democracy. Despite the gloomy rhetoric and Jobbik saying it was fighting for survival, support for the demonstration was well down on other similar rallies over the past year. Hungarians will vote for a new parliament in April and Prime Minister Viktor Orban s conservative, anti-migrant Fidesz party is far ahead in the polls, with Jobbik its nearest rival. Jobbik, once on the far right, has turned toward the center in a bid to attract more support and is now campaigning nationwide against Orban, depicting him as the leader of a criminal gang. Orban, rejecting the charges, says his financial standing is  an open book . Last week the state audit office (ASZ) ruled Jobbik had bought political posters far below market prices, breaching rules on political funding, then it slapped a 663 million forint ($2.5 million) penalty on the party. The protesters, waving Jobbik flags and posters deriding the ruling elite, gathered outside the headquarters of Orban s Fidesz party.  What we see unfolding is not an audit office investigation. It is not an official penalty. This is a death sentence with Jobbik s name on it. But in reality, it is a death sentence for Hungarian democracy,  Jobbiik leader Gabor Vona told the crowd. A government spokesman could not comment immediately on his remarks. ASZ chairman Laszlo Domokos is a former Fidesz lawmaker, whom Jobbik and other critics accuse of making decisions in favor of Orban. The audit office denies that. On Friday, ASZ again called on Jobbik to submit information that would challenge its findings, saying it acted fully within its rights throughout the probe. The ruling Fidesz party and the government have denied any involvement in the ASZ probe.  This case has nothing to do with the election campaign,  Orban aide Janos Lazar said on Thursday. For over a year Fidesz has targeted Jobbik, whose move to the center could upend the longstanding status quo of a dominant Fidesz with weaker opponents to its left and its right, said analyst Zoltan Novak at the Centre for Fair Political Analysis. Gyorgy Illes, a 67-year-old pensioner attending the rally, said he used to be a Socialist supporter but got disillusioned as the party struggled to overcome its internal divisions.  This ASZ probe is a clear sign that Orban is way past any remedy. It is a ruthless attack on everything we hold dear. Democracy, the rule of law, equality, you name it,  he said. \",\n          \"BEIJING/TAIPEI (Reuters) - China accused the United States on Thursday of interfering in its internal affairs and said it had lodged a complaint after U.S. President Donald Trump signed into law an act laying the groundwork for possible U.S. navy visits to self-ruled Taiwan. Tensions have risen in recent days after a senior Chinese diplomat threatened China would invade Taiwan if any U.S. warships made port visits to the island which China claims as its own territory. On Monday, Chinese jets carried out  island encirclement patrols  around Taiwan, with state media showing pictures of bombers with cruise missiles slung under their wings as they carried out the exercise. On Tuesday, Trump signed into law the National Defense Authorization Act for the 2018 fiscal year, which authorizes the possibility of mutual visits by navy vessels between Taiwan and the United States. Such visits would be the first since the United States ended formal diplomatic relations with Taiwan in 1979 and established ties with Beijing. Chinese Foreign Ministry spokesman Lu Kang said while the Taiwan sections of the law were not legally binding, they seriously violate the  One China  policy and  constitute an interference in China s internal affairs .   China is resolutely opposed to this, and we have already lodged stern representations with the U.S. government,  Lu told a daily news briefing. China is firmly opposed to any official exchanges, military contact, or arms sales between Taiwan and the United States, he added.  Proudly democratic Taiwan has become increasingly concerned with the ramped up Chinese military presence, that has included several rounds of Chinese air force drills around the island in recent months.  Taiwan is confident of its defenses and responded quickly to the Chinese air force drills this week, its government said, denouncing the rise in China s military deployments as irresponsible. Taiwan presidential spokesman Alex Huang, speaking to Taiwan media in comments reported late on Wednesday, said the defense ministry had kept a close watch on the patrols and responded immediately and properly. Taiwan  can ensure there are no concerns at all about national security, and people can rest assured , Huang said. Both sides of the narrow Taiwan Strait, which separates Taiwan from its giant neighbor, have a responsibility to protect peace and stability, he added.  Such a raised military posture that may impact upon and harm regional peace and stability and cross-strait ties does not give a feeling of responsibility, and the international community does not look favorably upon this,  Huang was quoted as saying. Relations have soured considerably since Tsai Ing-wen, who leads Taiwan s independence-leaning Democratic Progressive Party, won presidential elections last year. China suspects Tsai wants to declare the island s formal independence, a red line for Beijing. Tsai says she wants to maintain peace with China but will defend Taiwan s security. Taiwan is well equipped with mostly U.S. weapons but has been pressing for more advanced equipment to deal with what it sees as a rising threat from China. The United States is bound by law to provide the island with the means to defend itself. China has never renounced the use of force to bring Taiwan under its control. \"\n        ],\n        \"semantic_type\": \"\",\n        \"description\": \"\"\n      }\n    },\n    {\n      \"column\": \"subject\",\n      \"properties\": {\n        \"dtype\": \"category\",\n        \"num_unique_values\": 2,\n        \"samples\": [\n          \"worldnews\",\n          \"politicsNews\"\n        ],\n        \"semantic_type\": \"\",\n        \"description\": \"\"\n      }\n    },\n    {\n      \"column\": \"date\",\n      \"properties\": {\n        \"dtype\": \"object\",\n        \"num_unique_values\": 716,\n        \"samples\": [\n          \"September 2, 2017 \",\n          \"February 2, 2017 \"\n        ],\n        \"semantic_type\": \"\",\n        \"description\": \"\"\n      }\n    },\n    {\n      \"column\": \"label\",\n      \"properties\": {\n        \"dtype\": \"number\",\n        \"std\": 0,\n        \"min\": 1,\n        \"max\": 1,\n        \"num_unique_values\": 1,\n        \"samples\": [\n          1\n        ],\n        \"semantic_type\": \"\",\n        \"description\": \"\"\n      }\n    }\n  ]\n}"
            }
          },
          "metadata": {},
          "execution_count": 78
        }
      ]
    },
    {
      "cell_type": "code",
      "source": [
        "news = pd.concat([true, fake], axis = 0)"
      ],
      "metadata": {
        "id": "Q67eGxVqxcxI"
      },
      "execution_count": null,
      "outputs": []
    },
    {
      "cell_type": "code",
      "source": [
        "news = news.sample(frac = 1)"
      ],
      "metadata": {
        "id": "VzAQPL5Y0gHt"
      },
      "execution_count": null,
      "outputs": []
    },
    {
      "cell_type": "code",
      "source": [
        "news.head()"
      ],
      "metadata": {
        "colab": {
          "base_uri": "https://localhost:8080/",
          "height": 206
        },
        "id": "PZGebqhX0qRJ",
        "outputId": "5f24a966-55ca-4387-cb60-197de8eca2a3"
      },
      "execution_count": null,
      "outputs": [
        {
          "output_type": "execute_result",
          "data": {
            "text/plain": [
              "                                                   title  \\\n",
              "7940    WATCH: Donald Trump Fits In Perfectly As Vill...   \n",
              "12017  Hearing into murder of Malta journalist case s...   \n",
              "8557    Superhero Cop Shows Us All What A Good Police...   \n",
              "22627  ELECTION FRAUD: If It Happened in Michigan, Wi...   \n",
              "18927  THE CARNAGE AND THE KINDNESS Of Good Samaritan...   \n",
              "\n",
              "                                                    text    subject  \\\n",
              "7940   Donald Trump s statements are frightening to t...       News   \n",
              "12017  VALLETTA (Reuters) - A second magistrate in le...  worldnews   \n",
              "8557   It s not often enough that we see a story abou...       News   \n",
              "22627  21st Century Wire says On a recent episode of ...    US_News   \n",
              "18927  The London terror attack was a horrific scene ...  left-news   \n",
              "\n",
              "                     date  label  \n",
              "7940    February 22, 2016      0  \n",
              "12017  December 18, 2017       1  \n",
              "8557     January 24, 2016      0  \n",
              "22627      March 15, 2016      0  \n",
              "18927        Mar 23, 2017      0  "
            ],
            "text/html": [
              "\n",
              "  <div id=\"df-496f1257-a7a3-4c9f-8821-2647f2f46280\" class=\"colab-df-container\">\n",
              "    <div>\n",
              "<style scoped>\n",
              "    .dataframe tbody tr th:only-of-type {\n",
              "        vertical-align: middle;\n",
              "    }\n",
              "\n",
              "    .dataframe tbody tr th {\n",
              "        vertical-align: top;\n",
              "    }\n",
              "\n",
              "    .dataframe thead th {\n",
              "        text-align: right;\n",
              "    }\n",
              "</style>\n",
              "<table border=\"1\" class=\"dataframe\">\n",
              "  <thead>\n",
              "    <tr style=\"text-align: right;\">\n",
              "      <th></th>\n",
              "      <th>title</th>\n",
              "      <th>text</th>\n",
              "      <th>subject</th>\n",
              "      <th>date</th>\n",
              "      <th>label</th>\n",
              "    </tr>\n",
              "  </thead>\n",
              "  <tbody>\n",
              "    <tr>\n",
              "      <th>7940</th>\n",
              "      <td>WATCH: Donald Trump Fits In Perfectly As Vill...</td>\n",
              "      <td>Donald Trump s statements are frightening to t...</td>\n",
              "      <td>News</td>\n",
              "      <td>February 22, 2016</td>\n",
              "      <td>0</td>\n",
              "    </tr>\n",
              "    <tr>\n",
              "      <th>12017</th>\n",
              "      <td>Hearing into murder of Malta journalist case s...</td>\n",
              "      <td>VALLETTA (Reuters) - A second magistrate in le...</td>\n",
              "      <td>worldnews</td>\n",
              "      <td>December 18, 2017</td>\n",
              "      <td>1</td>\n",
              "    </tr>\n",
              "    <tr>\n",
              "      <th>8557</th>\n",
              "      <td>Superhero Cop Shows Us All What A Good Police...</td>\n",
              "      <td>It s not often enough that we see a story abou...</td>\n",
              "      <td>News</td>\n",
              "      <td>January 24, 2016</td>\n",
              "      <td>0</td>\n",
              "    </tr>\n",
              "    <tr>\n",
              "      <th>22627</th>\n",
              "      <td>ELECTION FRAUD: If It Happened in Michigan, Wi...</td>\n",
              "      <td>21st Century Wire says On a recent episode of ...</td>\n",
              "      <td>US_News</td>\n",
              "      <td>March 15, 2016</td>\n",
              "      <td>0</td>\n",
              "    </tr>\n",
              "    <tr>\n",
              "      <th>18927</th>\n",
              "      <td>THE CARNAGE AND THE KINDNESS Of Good Samaritan...</td>\n",
              "      <td>The London terror attack was a horrific scene ...</td>\n",
              "      <td>left-news</td>\n",
              "      <td>Mar 23, 2017</td>\n",
              "      <td>0</td>\n",
              "    </tr>\n",
              "  </tbody>\n",
              "</table>\n",
              "</div>\n",
              "    <div class=\"colab-df-buttons\">\n",
              "\n",
              "  <div class=\"colab-df-container\">\n",
              "    <button class=\"colab-df-convert\" onclick=\"convertToInteractive('df-496f1257-a7a3-4c9f-8821-2647f2f46280')\"\n",
              "            title=\"Convert this dataframe to an interactive table.\"\n",
              "            style=\"display:none;\">\n",
              "\n",
              "  <svg xmlns=\"http://www.w3.org/2000/svg\" height=\"24px\" viewBox=\"0 -960 960 960\">\n",
              "    <path d=\"M120-120v-720h720v720H120Zm60-500h600v-160H180v160Zm220 220h160v-160H400v160Zm0 220h160v-160H400v160ZM180-400h160v-160H180v160Zm440 0h160v-160H620v160ZM180-180h160v-160H180v160Zm440 0h160v-160H620v160Z\"/>\n",
              "  </svg>\n",
              "    </button>\n",
              "\n",
              "  <style>\n",
              "    .colab-df-container {\n",
              "      display:flex;\n",
              "      gap: 12px;\n",
              "    }\n",
              "\n",
              "    .colab-df-convert {\n",
              "      background-color: #E8F0FE;\n",
              "      border: none;\n",
              "      border-radius: 50%;\n",
              "      cursor: pointer;\n",
              "      display: none;\n",
              "      fill: #1967D2;\n",
              "      height: 32px;\n",
              "      padding: 0 0 0 0;\n",
              "      width: 32px;\n",
              "    }\n",
              "\n",
              "    .colab-df-convert:hover {\n",
              "      background-color: #E2EBFA;\n",
              "      box-shadow: 0px 1px 2px rgba(60, 64, 67, 0.3), 0px 1px 3px 1px rgba(60, 64, 67, 0.15);\n",
              "      fill: #174EA6;\n",
              "    }\n",
              "\n",
              "    .colab-df-buttons div {\n",
              "      margin-bottom: 4px;\n",
              "    }\n",
              "\n",
              "    [theme=dark] .colab-df-convert {\n",
              "      background-color: #3B4455;\n",
              "      fill: #D2E3FC;\n",
              "    }\n",
              "\n",
              "    [theme=dark] .colab-df-convert:hover {\n",
              "      background-color: #434B5C;\n",
              "      box-shadow: 0px 1px 3px 1px rgba(0, 0, 0, 0.15);\n",
              "      filter: drop-shadow(0px 1px 2px rgba(0, 0, 0, 0.3));\n",
              "      fill: #FFFFFF;\n",
              "    }\n",
              "  </style>\n",
              "\n",
              "    <script>\n",
              "      const buttonEl =\n",
              "        document.querySelector('#df-496f1257-a7a3-4c9f-8821-2647f2f46280 button.colab-df-convert');\n",
              "      buttonEl.style.display =\n",
              "        google.colab.kernel.accessAllowed ? 'block' : 'none';\n",
              "\n",
              "      async function convertToInteractive(key) {\n",
              "        const element = document.querySelector('#df-496f1257-a7a3-4c9f-8821-2647f2f46280');\n",
              "        const dataTable =\n",
              "          await google.colab.kernel.invokeFunction('convertToInteractive',\n",
              "                                                    [key], {});\n",
              "        if (!dataTable) return;\n",
              "\n",
              "        const docLinkHtml = 'Like what you see? Visit the ' +\n",
              "          '<a target=\"_blank\" href=https://colab.research.google.com/notebooks/data_table.ipynb>data table notebook</a>'\n",
              "          + ' to learn more about interactive tables.';\n",
              "        element.innerHTML = '';\n",
              "        dataTable['output_type'] = 'display_data';\n",
              "        await google.colab.output.renderOutput(dataTable, element);\n",
              "        const docLink = document.createElement('div');\n",
              "        docLink.innerHTML = docLinkHtml;\n",
              "        element.appendChild(docLink);\n",
              "      }\n",
              "    </script>\n",
              "  </div>\n",
              "\n",
              "\n",
              "    <div id=\"df-fc39521f-be9e-4634-b764-196691e12be6\">\n",
              "      <button class=\"colab-df-quickchart\" onclick=\"quickchart('df-fc39521f-be9e-4634-b764-196691e12be6')\"\n",
              "                title=\"Suggest charts\"\n",
              "                style=\"display:none;\">\n",
              "\n",
              "<svg xmlns=\"http://www.w3.org/2000/svg\" height=\"24px\"viewBox=\"0 0 24 24\"\n",
              "     width=\"24px\">\n",
              "    <g>\n",
              "        <path d=\"M19 3H5c-1.1 0-2 .9-2 2v14c0 1.1.9 2 2 2h14c1.1 0 2-.9 2-2V5c0-1.1-.9-2-2-2zM9 17H7v-7h2v7zm4 0h-2V7h2v10zm4 0h-2v-4h2v4z\"/>\n",
              "    </g>\n",
              "</svg>\n",
              "      </button>\n",
              "\n",
              "<style>\n",
              "  .colab-df-quickchart {\n",
              "      --bg-color: #E8F0FE;\n",
              "      --fill-color: #1967D2;\n",
              "      --hover-bg-color: #E2EBFA;\n",
              "      --hover-fill-color: #174EA6;\n",
              "      --disabled-fill-color: #AAA;\n",
              "      --disabled-bg-color: #DDD;\n",
              "  }\n",
              "\n",
              "  [theme=dark] .colab-df-quickchart {\n",
              "      --bg-color: #3B4455;\n",
              "      --fill-color: #D2E3FC;\n",
              "      --hover-bg-color: #434B5C;\n",
              "      --hover-fill-color: #FFFFFF;\n",
              "      --disabled-bg-color: #3B4455;\n",
              "      --disabled-fill-color: #666;\n",
              "  }\n",
              "\n",
              "  .colab-df-quickchart {\n",
              "    background-color: var(--bg-color);\n",
              "    border: none;\n",
              "    border-radius: 50%;\n",
              "    cursor: pointer;\n",
              "    display: none;\n",
              "    fill: var(--fill-color);\n",
              "    height: 32px;\n",
              "    padding: 0;\n",
              "    width: 32px;\n",
              "  }\n",
              "\n",
              "  .colab-df-quickchart:hover {\n",
              "    background-color: var(--hover-bg-color);\n",
              "    box-shadow: 0 1px 2px rgba(60, 64, 67, 0.3), 0 1px 3px 1px rgba(60, 64, 67, 0.15);\n",
              "    fill: var(--button-hover-fill-color);\n",
              "  }\n",
              "\n",
              "  .colab-df-quickchart-complete:disabled,\n",
              "  .colab-df-quickchart-complete:disabled:hover {\n",
              "    background-color: var(--disabled-bg-color);\n",
              "    fill: var(--disabled-fill-color);\n",
              "    box-shadow: none;\n",
              "  }\n",
              "\n",
              "  .colab-df-spinner {\n",
              "    border: 2px solid var(--fill-color);\n",
              "    border-color: transparent;\n",
              "    border-bottom-color: var(--fill-color);\n",
              "    animation:\n",
              "      spin 1s steps(1) infinite;\n",
              "  }\n",
              "\n",
              "  @keyframes spin {\n",
              "    0% {\n",
              "      border-color: transparent;\n",
              "      border-bottom-color: var(--fill-color);\n",
              "      border-left-color: var(--fill-color);\n",
              "    }\n",
              "    20% {\n",
              "      border-color: transparent;\n",
              "      border-left-color: var(--fill-color);\n",
              "      border-top-color: var(--fill-color);\n",
              "    }\n",
              "    30% {\n",
              "      border-color: transparent;\n",
              "      border-left-color: var(--fill-color);\n",
              "      border-top-color: var(--fill-color);\n",
              "      border-right-color: var(--fill-color);\n",
              "    }\n",
              "    40% {\n",
              "      border-color: transparent;\n",
              "      border-right-color: var(--fill-color);\n",
              "      border-top-color: var(--fill-color);\n",
              "    }\n",
              "    60% {\n",
              "      border-color: transparent;\n",
              "      border-right-color: var(--fill-color);\n",
              "    }\n",
              "    80% {\n",
              "      border-color: transparent;\n",
              "      border-right-color: var(--fill-color);\n",
              "      border-bottom-color: var(--fill-color);\n",
              "    }\n",
              "    90% {\n",
              "      border-color: transparent;\n",
              "      border-bottom-color: var(--fill-color);\n",
              "    }\n",
              "  }\n",
              "</style>\n",
              "\n",
              "      <script>\n",
              "        async function quickchart(key) {\n",
              "          const quickchartButtonEl =\n",
              "            document.querySelector('#' + key + ' button');\n",
              "          quickchartButtonEl.disabled = true;  // To prevent multiple clicks.\n",
              "          quickchartButtonEl.classList.add('colab-df-spinner');\n",
              "          try {\n",
              "            const charts = await google.colab.kernel.invokeFunction(\n",
              "                'suggestCharts', [key], {});\n",
              "          } catch (error) {\n",
              "            console.error('Error during call to suggestCharts:', error);\n",
              "          }\n",
              "          quickchartButtonEl.classList.remove('colab-df-spinner');\n",
              "          quickchartButtonEl.classList.add('colab-df-quickchart-complete');\n",
              "        }\n",
              "        (() => {\n",
              "          let quickchartButtonEl =\n",
              "            document.querySelector('#df-fc39521f-be9e-4634-b764-196691e12be6 button');\n",
              "          quickchartButtonEl.style.display =\n",
              "            google.colab.kernel.accessAllowed ? 'block' : 'none';\n",
              "        })();\n",
              "      </script>\n",
              "    </div>\n",
              "\n",
              "    </div>\n",
              "  </div>\n"
            ],
            "application/vnd.google.colaboratory.intrinsic+json": {
              "type": "dataframe",
              "variable_name": "news",
              "summary": "{\n  \"name\": \"news\",\n  \"rows\": 44898,\n  \"fields\": [\n    {\n      \"column\": \"title\",\n      \"properties\": {\n        \"dtype\": \"string\",\n        \"num_unique_values\": 38729,\n        \"samples\": [\n          \"U.S. students' rape allegation against Italian police has 'some basis', minister says\",\n          \"The Trump presidency on Feb. 7 at 9:47 EST\",\n          \"U.S. condemns Russia veto of probe into Syria chemical weapons use\"\n        ],\n        \"semantic_type\": \"\",\n        \"description\": \"\"\n      }\n    },\n    {\n      \"column\": \"text\",\n      \"properties\": {\n        \"dtype\": \"string\",\n        \"num_unique_values\": 38646,\n        \"samples\": [\n          \"WASHINGTON (Reuters) - The U.S. House of Representatives voted nearly unanimously on Tuesday to reaffirm the NATO alliance\\u2019s guarantee that all members defend each other, weeks after President Donald Trump raised doubts about Washington\\u2019s support for the agreement. The vote was 423-4 in the House, where Trump\\u2019s fellow Republicans hold a 48-seat majority, for a resolution \\u201csolemnly reaffirming\\u201d the U.S. commitment to Article 5 of the North Atlantic Treaty. It also supports calls for every NATO member to spend at least 2 percent of its gross domestic product on defense by 2024.  During a visit to NATO headquarters in Brussels in May that was part of his first overseas trip, Trump pointedly did not mention U.S. support for that critical portion of the NATO charter, rattling allies. Instead, he used a speech there to demand that member states pay more for the alliance\\u2019s defense. Trump later said he backed the mutual defense agreement, and other senior officials rushed to express U.S. support. \\u201cWith all the threats we and our partners face around the globe, a strong and secure NATO is more important than ever before,\\u201d Republican House Speaker Paul Ryan said in a statement. The resolution was co-sponsored by Ryan and House Democratic Leader Nancy Pelosi, as well as the number two Republican and Democrat in the chamber, and the Republican chairman and the ranking Democrat on the House Foreign Affairs Committee. \",\n          \"The flags at Citi Field were also at half-mast in honor of Brian Moore. #Respect #NYPD pride. #Mets pic.twitter.com/GeFiknRwYx  New York Mets (@Mets) May 5, 2015The Mets honored slain New York City Police Officer Brian Moore before Tuesday s game against Baltimore, a game the Orioles fan had tickets to attend.#NYPD officers joined the team for a moment of silence before tonight's game to honor #OfficerMoore. #Mets pic.twitter.com/nmOvBZJMpX  New York Mets (@Mets) May 5, 2015Moore s cousins, who did not wish to be identified, sat in seats several rows behind the Orioles dugout Tuesday night. They sat quietly, saying they came to  honor  their cousin, who was tragically shot in the face on Saturday and died on Monday.Before the game, Moore s picture, bordered by a badge with a black ribbon, lingered on the video screens inside Citi Field and outside the park, too.There was a moment of silence and an NYPD color guard.Moore had bought three tickets for this game. He and his dad and his girlfriend were supposed to go.But instead, Moore was remembered in a somber ceremony   the second such salute the Mets have had for fallen officers this season.On Opening Day at Citi Field, officers Rafael Ramos and Wenjian Liu   who were killed in December   were remembered.Flags at Citi Field fly at half-mast in honor of Brian Moore.Flags at Citi Field fly at half-mast in honor of Brian Moore. The Mets players wore NYPD hats during batting practice to honor Moore, 25. Someplace along the line, hopefully we don t have to keep wearing these hats,  Terry Collins said.  We are honoring the true heroes, the soldiers, the police, the fire department that keep us all safe and secure. What they have to face each and every day is beyond any of our imaginations.Ruben Tejada and @Dilson_H proud to wear the #NYPD caps during BP. #Mets pic.twitter.com/Tgfw6vlzSw  New York Mets (@Mets) May 5, 2015 It s sad to think we ve got to wear them,  continued Collins, who took part in a dinner with the families of Ramos and Liu this spring.  It s part of what we think is important and certainly honoring Officer Moore is important today, and so we ll wear them and wear them with pride and hopefully his family understands that although it s hard to understand what they re going through, we re there for them. \\\"Honoring Officer Moore is important today. We will wear these hats with pride.\\\"   Collins. #NYPD pic.twitter.com/n6SU4teYjD  New York Mets (@Mets) May 5, 2015Orioles slugger Chris Davis, Moore s favorite player, signed a ball for the family. Also, the Orioles are having one of their home jerseys shipped here so the whole team can sign it to give to the family, according to a team spokesman. It s unfortunate we are wearing it for the events that happened,  said Michael Cuddyer, who signed with the Mets this winter.  But I think it is a good gesture by the team, shows we care and are thinking of them. Via: NY Daily News\",\n          \"(Reuters) - President Donald Trump faces his biggest test as a world leader when he meets Chinese President Xi Jinping Thursday and Friday for a summit that will set the tone for perhaps the most consequential of U.S. foreign relationships. The two leaders are expected to struggle to find common ground on the main issues that divide them when they meet at Trump\\u2019s Mar-a-Lago resort in Florida. The main agenda items are: North Korea is perhaps Trump\\u2019s most pressing national security challenge. Pyongyang has been working to develop nuclear-tipped ballistic missiles capable of reaching the United States. Trump is expected to repeat his call for China to do more to rein in its ally and neighbor and has warned that Washington might deal with Pyongyang\\u2019s weapons programs alone if need be. China says it is doing all it can and has said it is up to the United States to de-escalate with Pyongyang. A White House strategy review focuses on options for pressuring Pyongyang economically and militarily. Among measures under consideration are \\u201csecondary sanctions\\u201d against Chinese banks and firms that do the most business with Pyongyang.  A long-standing option of pre-emptive strikes remains on the table, but the review \\u201cde-emphasizes direct military action,\\u201d a senior U.S. official said. Any military action would likely provoke severe North Korean retaliation and massive casualties in South Korea and Japan\\u00a0and among U.S. troops stationed there. TRADE Trade is one of the biggest hot-button issues, given Trump\\u2019s charges in his presidential campaign that Chinese trade practices were killing U.S. jobs and his vow to impose 45 percent tariffs on Chinese imports. The administration has not acted on unilateral tariffs but is targeting a reduction in China\\u2019s $347 billion goods trade surplus through tougher enforcement of trade laws and anti-dumping and anti-subsidy duties. \\u00a0\\u00a0\\u00a0\\u00a0Commerce Secretary Wilbur Ross has also demanded \\u201creciprocity\\u201d in the U.S.-China economic relationship, saying that U.S. companies do not enjoy the same access to China\\u2019s vast market as Chinese firms get in the United States. \\u00a0 China says Washington should create better conditions for Chinese investment in the United States if it wants to correct the imbalance. Neither side wants a trade war, but it may be hard to do much more than lower the temperature in Mar-a-Lago. Some analysts believe Xi may bring a package of job-creating Chinese investments and the prospect of a more open services sector that Trump could tweet as tangible achievements. \\u00a0\\u00a0\\u00a0\\u00a0Relations are also clouded by China\\u2019s expansive claims in the disputed South China Sea, where Beijing has been building artificial islands and installing military facilities on them. U.S. officials see this as part of a long-term Chinese bid to deny U.S. forces access to the strategic sea, a key global trade route. They say Washington plans more robust naval operations to challenge Chinese claims and assert the right to freedom of navigation, though months have passed since the last one in October under Trump\\u2019s predecessor Barack Obama. The situation in North Korea has appeared to push the South China Sea issue onto the back burner for now, but Trump is expected to air U.S. concerns. Trump has repeatedly charged that China manipulates its yuan currency to keep its exports cheap, and he is likely to raise the issue with Xi. But Trump did not make good on his promises to formally declare China a currency manipulator on the first day of his presidency. \\u00a0\\u00a0\\u00a0 While economists believe China pushed down the value of the yuan in the past, China\\u2019s central bank for much of the past two years has been working to prop up the yuan amid capital outflow pressures, spending more than $1 trillion in the process. \\u00a0\\u00a0\\u00a0 This would make it very hard to justify a manipulator designation under the U.S. Treasury\\u2019s current foreign exchange analysis, due one week after Xi\\u2019s visit. The summit would not be happening if Trump had not reaffirmed the \\u201cone China\\u201d policy that has underpinned bilateral relations for decades. Trump infuriated Beijing when, as president-elect, he took a call from Taiwan\\u2019s president and suggested he might not abide by the policy. He backtracked in a call with Xi in February. Xi may now be looking to head off a big new weapons package to Taiwan that U.S. officials have told Reuters is being crafted.  For its part, Taiwan will be watching anxiously for any sign that Trump is using it as a bargaining chip. \"\n        ],\n        \"semantic_type\": \"\",\n        \"description\": \"\"\n      }\n    },\n    {\n      \"column\": \"subject\",\n      \"properties\": {\n        \"dtype\": \"category\",\n        \"num_unique_values\": 8,\n        \"samples\": [\n          \"worldnews\",\n          \"politics\",\n          \"News\"\n        ],\n        \"semantic_type\": \"\",\n        \"description\": \"\"\n      }\n    },\n    {\n      \"column\": \"date\",\n      \"properties\": {\n        \"dtype\": \"category\",\n        \"num_unique_values\": 2397,\n        \"samples\": [\n          \"Jan 3, 2017\",\n          \"June 16, 2017\",\n          \"Oct 25, 2017\"\n        ],\n        \"semantic_type\": \"\",\n        \"description\": \"\"\n      }\n    },\n    {\n      \"column\": \"label\",\n      \"properties\": {\n        \"dtype\": \"number\",\n        \"std\": 0,\n        \"min\": 0,\n        \"max\": 1,\n        \"num_unique_values\": 2,\n        \"samples\": [\n          1,\n          0\n        ],\n        \"semantic_type\": \"\",\n        \"description\": \"\"\n      }\n    }\n  ]\n}"
            }
          },
          "metadata": {},
          "execution_count": 81
        }
      ]
    },
    {
      "cell_type": "code",
      "source": [
        "news.reset_index(inplace = True)"
      ],
      "metadata": {
        "id": "zeOmaT0E1DKf"
      },
      "execution_count": null,
      "outputs": []
    },
    {
      "cell_type": "code",
      "source": [
        "news.head()"
      ],
      "metadata": {
        "colab": {
          "base_uri": "https://localhost:8080/",
          "height": 206
        },
        "id": "RqFK6Qjg1KRu",
        "outputId": "97e5ef0b-cdf1-4785-c2c5-a0c726587dbd"
      },
      "execution_count": null,
      "outputs": [
        {
          "output_type": "execute_result",
          "data": {
            "text/plain": [
              "   index                                              title  \\\n",
              "0   7940   WATCH: Donald Trump Fits In Perfectly As Vill...   \n",
              "1  12017  Hearing into murder of Malta journalist case s...   \n",
              "2   8557   Superhero Cop Shows Us All What A Good Police...   \n",
              "3  22627  ELECTION FRAUD: If It Happened in Michigan, Wi...   \n",
              "4  18927  THE CARNAGE AND THE KINDNESS Of Good Samaritan...   \n",
              "\n",
              "                                                text    subject  \\\n",
              "0  Donald Trump s statements are frightening to t...       News   \n",
              "1  VALLETTA (Reuters) - A second magistrate in le...  worldnews   \n",
              "2  It s not often enough that we see a story abou...       News   \n",
              "3  21st Century Wire says On a recent episode of ...    US_News   \n",
              "4  The London terror attack was a horrific scene ...  left-news   \n",
              "\n",
              "                 date  label  \n",
              "0   February 22, 2016      0  \n",
              "1  December 18, 2017       1  \n",
              "2    January 24, 2016      0  \n",
              "3      March 15, 2016      0  \n",
              "4        Mar 23, 2017      0  "
            ],
            "text/html": [
              "\n",
              "  <div id=\"df-1c4f70f7-926c-4170-9964-e6bea51d72a7\" class=\"colab-df-container\">\n",
              "    <div>\n",
              "<style scoped>\n",
              "    .dataframe tbody tr th:only-of-type {\n",
              "        vertical-align: middle;\n",
              "    }\n",
              "\n",
              "    .dataframe tbody tr th {\n",
              "        vertical-align: top;\n",
              "    }\n",
              "\n",
              "    .dataframe thead th {\n",
              "        text-align: right;\n",
              "    }\n",
              "</style>\n",
              "<table border=\"1\" class=\"dataframe\">\n",
              "  <thead>\n",
              "    <tr style=\"text-align: right;\">\n",
              "      <th></th>\n",
              "      <th>index</th>\n",
              "      <th>title</th>\n",
              "      <th>text</th>\n",
              "      <th>subject</th>\n",
              "      <th>date</th>\n",
              "      <th>label</th>\n",
              "    </tr>\n",
              "  </thead>\n",
              "  <tbody>\n",
              "    <tr>\n",
              "      <th>0</th>\n",
              "      <td>7940</td>\n",
              "      <td>WATCH: Donald Trump Fits In Perfectly As Vill...</td>\n",
              "      <td>Donald Trump s statements are frightening to t...</td>\n",
              "      <td>News</td>\n",
              "      <td>February 22, 2016</td>\n",
              "      <td>0</td>\n",
              "    </tr>\n",
              "    <tr>\n",
              "      <th>1</th>\n",
              "      <td>12017</td>\n",
              "      <td>Hearing into murder of Malta journalist case s...</td>\n",
              "      <td>VALLETTA (Reuters) - A second magistrate in le...</td>\n",
              "      <td>worldnews</td>\n",
              "      <td>December 18, 2017</td>\n",
              "      <td>1</td>\n",
              "    </tr>\n",
              "    <tr>\n",
              "      <th>2</th>\n",
              "      <td>8557</td>\n",
              "      <td>Superhero Cop Shows Us All What A Good Police...</td>\n",
              "      <td>It s not often enough that we see a story abou...</td>\n",
              "      <td>News</td>\n",
              "      <td>January 24, 2016</td>\n",
              "      <td>0</td>\n",
              "    </tr>\n",
              "    <tr>\n",
              "      <th>3</th>\n",
              "      <td>22627</td>\n",
              "      <td>ELECTION FRAUD: If It Happened in Michigan, Wi...</td>\n",
              "      <td>21st Century Wire says On a recent episode of ...</td>\n",
              "      <td>US_News</td>\n",
              "      <td>March 15, 2016</td>\n",
              "      <td>0</td>\n",
              "    </tr>\n",
              "    <tr>\n",
              "      <th>4</th>\n",
              "      <td>18927</td>\n",
              "      <td>THE CARNAGE AND THE KINDNESS Of Good Samaritan...</td>\n",
              "      <td>The London terror attack was a horrific scene ...</td>\n",
              "      <td>left-news</td>\n",
              "      <td>Mar 23, 2017</td>\n",
              "      <td>0</td>\n",
              "    </tr>\n",
              "  </tbody>\n",
              "</table>\n",
              "</div>\n",
              "    <div class=\"colab-df-buttons\">\n",
              "\n",
              "  <div class=\"colab-df-container\">\n",
              "    <button class=\"colab-df-convert\" onclick=\"convertToInteractive('df-1c4f70f7-926c-4170-9964-e6bea51d72a7')\"\n",
              "            title=\"Convert this dataframe to an interactive table.\"\n",
              "            style=\"display:none;\">\n",
              "\n",
              "  <svg xmlns=\"http://www.w3.org/2000/svg\" height=\"24px\" viewBox=\"0 -960 960 960\">\n",
              "    <path d=\"M120-120v-720h720v720H120Zm60-500h600v-160H180v160Zm220 220h160v-160H400v160Zm0 220h160v-160H400v160ZM180-400h160v-160H180v160Zm440 0h160v-160H620v160ZM180-180h160v-160H180v160Zm440 0h160v-160H620v160Z\"/>\n",
              "  </svg>\n",
              "    </button>\n",
              "\n",
              "  <style>\n",
              "    .colab-df-container {\n",
              "      display:flex;\n",
              "      gap: 12px;\n",
              "    }\n",
              "\n",
              "    .colab-df-convert {\n",
              "      background-color: #E8F0FE;\n",
              "      border: none;\n",
              "      border-radius: 50%;\n",
              "      cursor: pointer;\n",
              "      display: none;\n",
              "      fill: #1967D2;\n",
              "      height: 32px;\n",
              "      padding: 0 0 0 0;\n",
              "      width: 32px;\n",
              "    }\n",
              "\n",
              "    .colab-df-convert:hover {\n",
              "      background-color: #E2EBFA;\n",
              "      box-shadow: 0px 1px 2px rgba(60, 64, 67, 0.3), 0px 1px 3px 1px rgba(60, 64, 67, 0.15);\n",
              "      fill: #174EA6;\n",
              "    }\n",
              "\n",
              "    .colab-df-buttons div {\n",
              "      margin-bottom: 4px;\n",
              "    }\n",
              "\n",
              "    [theme=dark] .colab-df-convert {\n",
              "      background-color: #3B4455;\n",
              "      fill: #D2E3FC;\n",
              "    }\n",
              "\n",
              "    [theme=dark] .colab-df-convert:hover {\n",
              "      background-color: #434B5C;\n",
              "      box-shadow: 0px 1px 3px 1px rgba(0, 0, 0, 0.15);\n",
              "      filter: drop-shadow(0px 1px 2px rgba(0, 0, 0, 0.3));\n",
              "      fill: #FFFFFF;\n",
              "    }\n",
              "  </style>\n",
              "\n",
              "    <script>\n",
              "      const buttonEl =\n",
              "        document.querySelector('#df-1c4f70f7-926c-4170-9964-e6bea51d72a7 button.colab-df-convert');\n",
              "      buttonEl.style.display =\n",
              "        google.colab.kernel.accessAllowed ? 'block' : 'none';\n",
              "\n",
              "      async function convertToInteractive(key) {\n",
              "        const element = document.querySelector('#df-1c4f70f7-926c-4170-9964-e6bea51d72a7');\n",
              "        const dataTable =\n",
              "          await google.colab.kernel.invokeFunction('convertToInteractive',\n",
              "                                                    [key], {});\n",
              "        if (!dataTable) return;\n",
              "\n",
              "        const docLinkHtml = 'Like what you see? Visit the ' +\n",
              "          '<a target=\"_blank\" href=https://colab.research.google.com/notebooks/data_table.ipynb>data table notebook</a>'\n",
              "          + ' to learn more about interactive tables.';\n",
              "        element.innerHTML = '';\n",
              "        dataTable['output_type'] = 'display_data';\n",
              "        await google.colab.output.renderOutput(dataTable, element);\n",
              "        const docLink = document.createElement('div');\n",
              "        docLink.innerHTML = docLinkHtml;\n",
              "        element.appendChild(docLink);\n",
              "      }\n",
              "    </script>\n",
              "  </div>\n",
              "\n",
              "\n",
              "    <div id=\"df-2b5b7f65-00a2-4b56-8e1c-2e767fa65b80\">\n",
              "      <button class=\"colab-df-quickchart\" onclick=\"quickchart('df-2b5b7f65-00a2-4b56-8e1c-2e767fa65b80')\"\n",
              "                title=\"Suggest charts\"\n",
              "                style=\"display:none;\">\n",
              "\n",
              "<svg xmlns=\"http://www.w3.org/2000/svg\" height=\"24px\"viewBox=\"0 0 24 24\"\n",
              "     width=\"24px\">\n",
              "    <g>\n",
              "        <path d=\"M19 3H5c-1.1 0-2 .9-2 2v14c0 1.1.9 2 2 2h14c1.1 0 2-.9 2-2V5c0-1.1-.9-2-2-2zM9 17H7v-7h2v7zm4 0h-2V7h2v10zm4 0h-2v-4h2v4z\"/>\n",
              "    </g>\n",
              "</svg>\n",
              "      </button>\n",
              "\n",
              "<style>\n",
              "  .colab-df-quickchart {\n",
              "      --bg-color: #E8F0FE;\n",
              "      --fill-color: #1967D2;\n",
              "      --hover-bg-color: #E2EBFA;\n",
              "      --hover-fill-color: #174EA6;\n",
              "      --disabled-fill-color: #AAA;\n",
              "      --disabled-bg-color: #DDD;\n",
              "  }\n",
              "\n",
              "  [theme=dark] .colab-df-quickchart {\n",
              "      --bg-color: #3B4455;\n",
              "      --fill-color: #D2E3FC;\n",
              "      --hover-bg-color: #434B5C;\n",
              "      --hover-fill-color: #FFFFFF;\n",
              "      --disabled-bg-color: #3B4455;\n",
              "      --disabled-fill-color: #666;\n",
              "  }\n",
              "\n",
              "  .colab-df-quickchart {\n",
              "    background-color: var(--bg-color);\n",
              "    border: none;\n",
              "    border-radius: 50%;\n",
              "    cursor: pointer;\n",
              "    display: none;\n",
              "    fill: var(--fill-color);\n",
              "    height: 32px;\n",
              "    padding: 0;\n",
              "    width: 32px;\n",
              "  }\n",
              "\n",
              "  .colab-df-quickchart:hover {\n",
              "    background-color: var(--hover-bg-color);\n",
              "    box-shadow: 0 1px 2px rgba(60, 64, 67, 0.3), 0 1px 3px 1px rgba(60, 64, 67, 0.15);\n",
              "    fill: var(--button-hover-fill-color);\n",
              "  }\n",
              "\n",
              "  .colab-df-quickchart-complete:disabled,\n",
              "  .colab-df-quickchart-complete:disabled:hover {\n",
              "    background-color: var(--disabled-bg-color);\n",
              "    fill: var(--disabled-fill-color);\n",
              "    box-shadow: none;\n",
              "  }\n",
              "\n",
              "  .colab-df-spinner {\n",
              "    border: 2px solid var(--fill-color);\n",
              "    border-color: transparent;\n",
              "    border-bottom-color: var(--fill-color);\n",
              "    animation:\n",
              "      spin 1s steps(1) infinite;\n",
              "  }\n",
              "\n",
              "  @keyframes spin {\n",
              "    0% {\n",
              "      border-color: transparent;\n",
              "      border-bottom-color: var(--fill-color);\n",
              "      border-left-color: var(--fill-color);\n",
              "    }\n",
              "    20% {\n",
              "      border-color: transparent;\n",
              "      border-left-color: var(--fill-color);\n",
              "      border-top-color: var(--fill-color);\n",
              "    }\n",
              "    30% {\n",
              "      border-color: transparent;\n",
              "      border-left-color: var(--fill-color);\n",
              "      border-top-color: var(--fill-color);\n",
              "      border-right-color: var(--fill-color);\n",
              "    }\n",
              "    40% {\n",
              "      border-color: transparent;\n",
              "      border-right-color: var(--fill-color);\n",
              "      border-top-color: var(--fill-color);\n",
              "    }\n",
              "    60% {\n",
              "      border-color: transparent;\n",
              "      border-right-color: var(--fill-color);\n",
              "    }\n",
              "    80% {\n",
              "      border-color: transparent;\n",
              "      border-right-color: var(--fill-color);\n",
              "      border-bottom-color: var(--fill-color);\n",
              "    }\n",
              "    90% {\n",
              "      border-color: transparent;\n",
              "      border-bottom-color: var(--fill-color);\n",
              "    }\n",
              "  }\n",
              "</style>\n",
              "\n",
              "      <script>\n",
              "        async function quickchart(key) {\n",
              "          const quickchartButtonEl =\n",
              "            document.querySelector('#' + key + ' button');\n",
              "          quickchartButtonEl.disabled = true;  // To prevent multiple clicks.\n",
              "          quickchartButtonEl.classList.add('colab-df-spinner');\n",
              "          try {\n",
              "            const charts = await google.colab.kernel.invokeFunction(\n",
              "                'suggestCharts', [key], {});\n",
              "          } catch (error) {\n",
              "            console.error('Error during call to suggestCharts:', error);\n",
              "          }\n",
              "          quickchartButtonEl.classList.remove('colab-df-spinner');\n",
              "          quickchartButtonEl.classList.add('colab-df-quickchart-complete');\n",
              "        }\n",
              "        (() => {\n",
              "          let quickchartButtonEl =\n",
              "            document.querySelector('#df-2b5b7f65-00a2-4b56-8e1c-2e767fa65b80 button');\n",
              "          quickchartButtonEl.style.display =\n",
              "            google.colab.kernel.accessAllowed ? 'block' : 'none';\n",
              "        })();\n",
              "      </script>\n",
              "    </div>\n",
              "\n",
              "    </div>\n",
              "  </div>\n"
            ],
            "application/vnd.google.colaboratory.intrinsic+json": {
              "type": "dataframe",
              "variable_name": "news",
              "summary": "{\n  \"name\": \"news\",\n  \"rows\": 44898,\n  \"fields\": [\n    {\n      \"column\": \"index\",\n      \"properties\": {\n        \"dtype\": \"number\",\n        \"std\": 6521,\n        \"min\": 0,\n        \"max\": 23480,\n        \"num_unique_values\": 23481,\n        \"samples\": [\n          21375,\n          4668,\n          5197\n        ],\n        \"semantic_type\": \"\",\n        \"description\": \"\"\n      }\n    },\n    {\n      \"column\": \"title\",\n      \"properties\": {\n        \"dtype\": \"string\",\n        \"num_unique_values\": 38729,\n        \"samples\": [\n          \"U.S. students' rape allegation against Italian police has 'some basis', minister says\",\n          \"The Trump presidency on Feb. 7 at 9:47 EST\",\n          \"U.S. condemns Russia veto of probe into Syria chemical weapons use\"\n        ],\n        \"semantic_type\": \"\",\n        \"description\": \"\"\n      }\n    },\n    {\n      \"column\": \"text\",\n      \"properties\": {\n        \"dtype\": \"string\",\n        \"num_unique_values\": 38646,\n        \"samples\": [\n          \"WASHINGTON (Reuters) - The U.S. House of Representatives voted nearly unanimously on Tuesday to reaffirm the NATO alliance\\u2019s guarantee that all members defend each other, weeks after President Donald Trump raised doubts about Washington\\u2019s support for the agreement. The vote was 423-4 in the House, where Trump\\u2019s fellow Republicans hold a 48-seat majority, for a resolution \\u201csolemnly reaffirming\\u201d the U.S. commitment to Article 5 of the North Atlantic Treaty. It also supports calls for every NATO member to spend at least 2 percent of its gross domestic product on defense by 2024.  During a visit to NATO headquarters in Brussels in May that was part of his first overseas trip, Trump pointedly did not mention U.S. support for that critical portion of the NATO charter, rattling allies. Instead, he used a speech there to demand that member states pay more for the alliance\\u2019s defense. Trump later said he backed the mutual defense agreement, and other senior officials rushed to express U.S. support. \\u201cWith all the threats we and our partners face around the globe, a strong and secure NATO is more important than ever before,\\u201d Republican House Speaker Paul Ryan said in a statement. The resolution was co-sponsored by Ryan and House Democratic Leader Nancy Pelosi, as well as the number two Republican and Democrat in the chamber, and the Republican chairman and the ranking Democrat on the House Foreign Affairs Committee. \",\n          \"The flags at Citi Field were also at half-mast in honor of Brian Moore. #Respect #NYPD pride. #Mets pic.twitter.com/GeFiknRwYx  New York Mets (@Mets) May 5, 2015The Mets honored slain New York City Police Officer Brian Moore before Tuesday s game against Baltimore, a game the Orioles fan had tickets to attend.#NYPD officers joined the team for a moment of silence before tonight's game to honor #OfficerMoore. #Mets pic.twitter.com/nmOvBZJMpX  New York Mets (@Mets) May 5, 2015Moore s cousins, who did not wish to be identified, sat in seats several rows behind the Orioles dugout Tuesday night. They sat quietly, saying they came to  honor  their cousin, who was tragically shot in the face on Saturday and died on Monday.Before the game, Moore s picture, bordered by a badge with a black ribbon, lingered on the video screens inside Citi Field and outside the park, too.There was a moment of silence and an NYPD color guard.Moore had bought three tickets for this game. He and his dad and his girlfriend were supposed to go.But instead, Moore was remembered in a somber ceremony   the second such salute the Mets have had for fallen officers this season.On Opening Day at Citi Field, officers Rafael Ramos and Wenjian Liu   who were killed in December   were remembered.Flags at Citi Field fly at half-mast in honor of Brian Moore.Flags at Citi Field fly at half-mast in honor of Brian Moore. The Mets players wore NYPD hats during batting practice to honor Moore, 25. Someplace along the line, hopefully we don t have to keep wearing these hats,  Terry Collins said.  We are honoring the true heroes, the soldiers, the police, the fire department that keep us all safe and secure. What they have to face each and every day is beyond any of our imaginations.Ruben Tejada and @Dilson_H proud to wear the #NYPD caps during BP. #Mets pic.twitter.com/Tgfw6vlzSw  New York Mets (@Mets) May 5, 2015 It s sad to think we ve got to wear them,  continued Collins, who took part in a dinner with the families of Ramos and Liu this spring.  It s part of what we think is important and certainly honoring Officer Moore is important today, and so we ll wear them and wear them with pride and hopefully his family understands that although it s hard to understand what they re going through, we re there for them. \\\"Honoring Officer Moore is important today. We will wear these hats with pride.\\\"   Collins. #NYPD pic.twitter.com/n6SU4teYjD  New York Mets (@Mets) May 5, 2015Orioles slugger Chris Davis, Moore s favorite player, signed a ball for the family. Also, the Orioles are having one of their home jerseys shipped here so the whole team can sign it to give to the family, according to a team spokesman. It s unfortunate we are wearing it for the events that happened,  said Michael Cuddyer, who signed with the Mets this winter.  But I think it is a good gesture by the team, shows we care and are thinking of them. Via: NY Daily News\",\n          \"(Reuters) - President Donald Trump faces his biggest test as a world leader when he meets Chinese President Xi Jinping Thursday and Friday for a summit that will set the tone for perhaps the most consequential of U.S. foreign relationships. The two leaders are expected to struggle to find common ground on the main issues that divide them when they meet at Trump\\u2019s Mar-a-Lago resort in Florida. The main agenda items are: North Korea is perhaps Trump\\u2019s most pressing national security challenge. Pyongyang has been working to develop nuclear-tipped ballistic missiles capable of reaching the United States. Trump is expected to repeat his call for China to do more to rein in its ally and neighbor and has warned that Washington might deal with Pyongyang\\u2019s weapons programs alone if need be. China says it is doing all it can and has said it is up to the United States to de-escalate with Pyongyang. A White House strategy review focuses on options for pressuring Pyongyang economically and militarily. Among measures under consideration are \\u201csecondary sanctions\\u201d against Chinese banks and firms that do the most business with Pyongyang.  A long-standing option of pre-emptive strikes remains on the table, but the review \\u201cde-emphasizes direct military action,\\u201d a senior U.S. official said. Any military action would likely provoke severe North Korean retaliation and massive casualties in South Korea and Japan\\u00a0and among U.S. troops stationed there. TRADE Trade is one of the biggest hot-button issues, given Trump\\u2019s charges in his presidential campaign that Chinese trade practices were killing U.S. jobs and his vow to impose 45 percent tariffs on Chinese imports. The administration has not acted on unilateral tariffs but is targeting a reduction in China\\u2019s $347 billion goods trade surplus through tougher enforcement of trade laws and anti-dumping and anti-subsidy duties. \\u00a0\\u00a0\\u00a0\\u00a0Commerce Secretary Wilbur Ross has also demanded \\u201creciprocity\\u201d in the U.S.-China economic relationship, saying that U.S. companies do not enjoy the same access to China\\u2019s vast market as Chinese firms get in the United States. \\u00a0 China says Washington should create better conditions for Chinese investment in the United States if it wants to correct the imbalance. Neither side wants a trade war, but it may be hard to do much more than lower the temperature in Mar-a-Lago. Some analysts believe Xi may bring a package of job-creating Chinese investments and the prospect of a more open services sector that Trump could tweet as tangible achievements. \\u00a0\\u00a0\\u00a0\\u00a0Relations are also clouded by China\\u2019s expansive claims in the disputed South China Sea, where Beijing has been building artificial islands and installing military facilities on them. U.S. officials see this as part of a long-term Chinese bid to deny U.S. forces access to the strategic sea, a key global trade route. They say Washington plans more robust naval operations to challenge Chinese claims and assert the right to freedom of navigation, though months have passed since the last one in October under Trump\\u2019s predecessor Barack Obama. The situation in North Korea has appeared to push the South China Sea issue onto the back burner for now, but Trump is expected to air U.S. concerns. Trump has repeatedly charged that China manipulates its yuan currency to keep its exports cheap, and he is likely to raise the issue with Xi. But Trump did not make good on his promises to formally declare China a currency manipulator on the first day of his presidency. \\u00a0\\u00a0\\u00a0 While economists believe China pushed down the value of the yuan in the past, China\\u2019s central bank for much of the past two years has been working to prop up the yuan amid capital outflow pressures, spending more than $1 trillion in the process. \\u00a0\\u00a0\\u00a0 This would make it very hard to justify a manipulator designation under the U.S. Treasury\\u2019s current foreign exchange analysis, due one week after Xi\\u2019s visit. The summit would not be happening if Trump had not reaffirmed the \\u201cone China\\u201d policy that has underpinned bilateral relations for decades. Trump infuriated Beijing when, as president-elect, he took a call from Taiwan\\u2019s president and suggested he might not abide by the policy. He backtracked in a call with Xi in February. Xi may now be looking to head off a big new weapons package to Taiwan that U.S. officials have told Reuters is being crafted.  For its part, Taiwan will be watching anxiously for any sign that Trump is using it as a bargaining chip. \"\n        ],\n        \"semantic_type\": \"\",\n        \"description\": \"\"\n      }\n    },\n    {\n      \"column\": \"subject\",\n      \"properties\": {\n        \"dtype\": \"category\",\n        \"num_unique_values\": 8,\n        \"samples\": [\n          \"worldnews\",\n          \"politics\",\n          \"News\"\n        ],\n        \"semantic_type\": \"\",\n        \"description\": \"\"\n      }\n    },\n    {\n      \"column\": \"date\",\n      \"properties\": {\n        \"dtype\": \"category\",\n        \"num_unique_values\": 2397,\n        \"samples\": [\n          \"Jan 3, 2017\",\n          \"June 16, 2017\",\n          \"Oct 25, 2017\"\n        ],\n        \"semantic_type\": \"\",\n        \"description\": \"\"\n      }\n    },\n    {\n      \"column\": \"label\",\n      \"properties\": {\n        \"dtype\": \"number\",\n        \"std\": 0,\n        \"min\": 0,\n        \"max\": 1,\n        \"num_unique_values\": 2,\n        \"samples\": [\n          1,\n          0\n        ],\n        \"semantic_type\": \"\",\n        \"description\": \"\"\n      }\n    }\n  ]\n}"
            }
          },
          "metadata": {},
          "execution_count": 83
        }
      ]
    },
    {
      "cell_type": "code",
      "source": [
        "news.drop(['index'], axis = 1, inplace = True)"
      ],
      "metadata": {
        "id": "f1c1q5hu1NUz"
      },
      "execution_count": null,
      "outputs": []
    },
    {
      "cell_type": "code",
      "source": [
        "news.head()"
      ],
      "metadata": {
        "colab": {
          "base_uri": "https://localhost:8080/",
          "height": 206
        },
        "id": "o8uv3p_G1d5l",
        "outputId": "2e6ebd3f-ba60-42c7-b4bc-a4676f4640fc"
      },
      "execution_count": null,
      "outputs": [
        {
          "output_type": "execute_result",
          "data": {
            "text/plain": [
              "                                               title  \\\n",
              "0   WATCH: Donald Trump Fits In Perfectly As Vill...   \n",
              "1  Hearing into murder of Malta journalist case s...   \n",
              "2   Superhero Cop Shows Us All What A Good Police...   \n",
              "3  ELECTION FRAUD: If It Happened in Michigan, Wi...   \n",
              "4  THE CARNAGE AND THE KINDNESS Of Good Samaritan...   \n",
              "\n",
              "                                                text    subject  \\\n",
              "0  Donald Trump s statements are frightening to t...       News   \n",
              "1  VALLETTA (Reuters) - A second magistrate in le...  worldnews   \n",
              "2  It s not often enough that we see a story abou...       News   \n",
              "3  21st Century Wire says On a recent episode of ...    US_News   \n",
              "4  The London terror attack was a horrific scene ...  left-news   \n",
              "\n",
              "                 date  label  \n",
              "0   February 22, 2016      0  \n",
              "1  December 18, 2017       1  \n",
              "2    January 24, 2016      0  \n",
              "3      March 15, 2016      0  \n",
              "4        Mar 23, 2017      0  "
            ],
            "text/html": [
              "\n",
              "  <div id=\"df-9affe77f-09a0-4707-b4fd-0a0faf52959b\" class=\"colab-df-container\">\n",
              "    <div>\n",
              "<style scoped>\n",
              "    .dataframe tbody tr th:only-of-type {\n",
              "        vertical-align: middle;\n",
              "    }\n",
              "\n",
              "    .dataframe tbody tr th {\n",
              "        vertical-align: top;\n",
              "    }\n",
              "\n",
              "    .dataframe thead th {\n",
              "        text-align: right;\n",
              "    }\n",
              "</style>\n",
              "<table border=\"1\" class=\"dataframe\">\n",
              "  <thead>\n",
              "    <tr style=\"text-align: right;\">\n",
              "      <th></th>\n",
              "      <th>title</th>\n",
              "      <th>text</th>\n",
              "      <th>subject</th>\n",
              "      <th>date</th>\n",
              "      <th>label</th>\n",
              "    </tr>\n",
              "  </thead>\n",
              "  <tbody>\n",
              "    <tr>\n",
              "      <th>0</th>\n",
              "      <td>WATCH: Donald Trump Fits In Perfectly As Vill...</td>\n",
              "      <td>Donald Trump s statements are frightening to t...</td>\n",
              "      <td>News</td>\n",
              "      <td>February 22, 2016</td>\n",
              "      <td>0</td>\n",
              "    </tr>\n",
              "    <tr>\n",
              "      <th>1</th>\n",
              "      <td>Hearing into murder of Malta journalist case s...</td>\n",
              "      <td>VALLETTA (Reuters) - A second magistrate in le...</td>\n",
              "      <td>worldnews</td>\n",
              "      <td>December 18, 2017</td>\n",
              "      <td>1</td>\n",
              "    </tr>\n",
              "    <tr>\n",
              "      <th>2</th>\n",
              "      <td>Superhero Cop Shows Us All What A Good Police...</td>\n",
              "      <td>It s not often enough that we see a story abou...</td>\n",
              "      <td>News</td>\n",
              "      <td>January 24, 2016</td>\n",
              "      <td>0</td>\n",
              "    </tr>\n",
              "    <tr>\n",
              "      <th>3</th>\n",
              "      <td>ELECTION FRAUD: If It Happened in Michigan, Wi...</td>\n",
              "      <td>21st Century Wire says On a recent episode of ...</td>\n",
              "      <td>US_News</td>\n",
              "      <td>March 15, 2016</td>\n",
              "      <td>0</td>\n",
              "    </tr>\n",
              "    <tr>\n",
              "      <th>4</th>\n",
              "      <td>THE CARNAGE AND THE KINDNESS Of Good Samaritan...</td>\n",
              "      <td>The London terror attack was a horrific scene ...</td>\n",
              "      <td>left-news</td>\n",
              "      <td>Mar 23, 2017</td>\n",
              "      <td>0</td>\n",
              "    </tr>\n",
              "  </tbody>\n",
              "</table>\n",
              "</div>\n",
              "    <div class=\"colab-df-buttons\">\n",
              "\n",
              "  <div class=\"colab-df-container\">\n",
              "    <button class=\"colab-df-convert\" onclick=\"convertToInteractive('df-9affe77f-09a0-4707-b4fd-0a0faf52959b')\"\n",
              "            title=\"Convert this dataframe to an interactive table.\"\n",
              "            style=\"display:none;\">\n",
              "\n",
              "  <svg xmlns=\"http://www.w3.org/2000/svg\" height=\"24px\" viewBox=\"0 -960 960 960\">\n",
              "    <path d=\"M120-120v-720h720v720H120Zm60-500h600v-160H180v160Zm220 220h160v-160H400v160Zm0 220h160v-160H400v160ZM180-400h160v-160H180v160Zm440 0h160v-160H620v160ZM180-180h160v-160H180v160Zm440 0h160v-160H620v160Z\"/>\n",
              "  </svg>\n",
              "    </button>\n",
              "\n",
              "  <style>\n",
              "    .colab-df-container {\n",
              "      display:flex;\n",
              "      gap: 12px;\n",
              "    }\n",
              "\n",
              "    .colab-df-convert {\n",
              "      background-color: #E8F0FE;\n",
              "      border: none;\n",
              "      border-radius: 50%;\n",
              "      cursor: pointer;\n",
              "      display: none;\n",
              "      fill: #1967D2;\n",
              "      height: 32px;\n",
              "      padding: 0 0 0 0;\n",
              "      width: 32px;\n",
              "    }\n",
              "\n",
              "    .colab-df-convert:hover {\n",
              "      background-color: #E2EBFA;\n",
              "      box-shadow: 0px 1px 2px rgba(60, 64, 67, 0.3), 0px 1px 3px 1px rgba(60, 64, 67, 0.15);\n",
              "      fill: #174EA6;\n",
              "    }\n",
              "\n",
              "    .colab-df-buttons div {\n",
              "      margin-bottom: 4px;\n",
              "    }\n",
              "\n",
              "    [theme=dark] .colab-df-convert {\n",
              "      background-color: #3B4455;\n",
              "      fill: #D2E3FC;\n",
              "    }\n",
              "\n",
              "    [theme=dark] .colab-df-convert:hover {\n",
              "      background-color: #434B5C;\n",
              "      box-shadow: 0px 1px 3px 1px rgba(0, 0, 0, 0.15);\n",
              "      filter: drop-shadow(0px 1px 2px rgba(0, 0, 0, 0.3));\n",
              "      fill: #FFFFFF;\n",
              "    }\n",
              "  </style>\n",
              "\n",
              "    <script>\n",
              "      const buttonEl =\n",
              "        document.querySelector('#df-9affe77f-09a0-4707-b4fd-0a0faf52959b button.colab-df-convert');\n",
              "      buttonEl.style.display =\n",
              "        google.colab.kernel.accessAllowed ? 'block' : 'none';\n",
              "\n",
              "      async function convertToInteractive(key) {\n",
              "        const element = document.querySelector('#df-9affe77f-09a0-4707-b4fd-0a0faf52959b');\n",
              "        const dataTable =\n",
              "          await google.colab.kernel.invokeFunction('convertToInteractive',\n",
              "                                                    [key], {});\n",
              "        if (!dataTable) return;\n",
              "\n",
              "        const docLinkHtml = 'Like what you see? Visit the ' +\n",
              "          '<a target=\"_blank\" href=https://colab.research.google.com/notebooks/data_table.ipynb>data table notebook</a>'\n",
              "          + ' to learn more about interactive tables.';\n",
              "        element.innerHTML = '';\n",
              "        dataTable['output_type'] = 'display_data';\n",
              "        await google.colab.output.renderOutput(dataTable, element);\n",
              "        const docLink = document.createElement('div');\n",
              "        docLink.innerHTML = docLinkHtml;\n",
              "        element.appendChild(docLink);\n",
              "      }\n",
              "    </script>\n",
              "  </div>\n",
              "\n",
              "\n",
              "    <div id=\"df-6ee07ee7-942d-445c-8c0e-4404ee5081af\">\n",
              "      <button class=\"colab-df-quickchart\" onclick=\"quickchart('df-6ee07ee7-942d-445c-8c0e-4404ee5081af')\"\n",
              "                title=\"Suggest charts\"\n",
              "                style=\"display:none;\">\n",
              "\n",
              "<svg xmlns=\"http://www.w3.org/2000/svg\" height=\"24px\"viewBox=\"0 0 24 24\"\n",
              "     width=\"24px\">\n",
              "    <g>\n",
              "        <path d=\"M19 3H5c-1.1 0-2 .9-2 2v14c0 1.1.9 2 2 2h14c1.1 0 2-.9 2-2V5c0-1.1-.9-2-2-2zM9 17H7v-7h2v7zm4 0h-2V7h2v10zm4 0h-2v-4h2v4z\"/>\n",
              "    </g>\n",
              "</svg>\n",
              "      </button>\n",
              "\n",
              "<style>\n",
              "  .colab-df-quickchart {\n",
              "      --bg-color: #E8F0FE;\n",
              "      --fill-color: #1967D2;\n",
              "      --hover-bg-color: #E2EBFA;\n",
              "      --hover-fill-color: #174EA6;\n",
              "      --disabled-fill-color: #AAA;\n",
              "      --disabled-bg-color: #DDD;\n",
              "  }\n",
              "\n",
              "  [theme=dark] .colab-df-quickchart {\n",
              "      --bg-color: #3B4455;\n",
              "      --fill-color: #D2E3FC;\n",
              "      --hover-bg-color: #434B5C;\n",
              "      --hover-fill-color: #FFFFFF;\n",
              "      --disabled-bg-color: #3B4455;\n",
              "      --disabled-fill-color: #666;\n",
              "  }\n",
              "\n",
              "  .colab-df-quickchart {\n",
              "    background-color: var(--bg-color);\n",
              "    border: none;\n",
              "    border-radius: 50%;\n",
              "    cursor: pointer;\n",
              "    display: none;\n",
              "    fill: var(--fill-color);\n",
              "    height: 32px;\n",
              "    padding: 0;\n",
              "    width: 32px;\n",
              "  }\n",
              "\n",
              "  .colab-df-quickchart:hover {\n",
              "    background-color: var(--hover-bg-color);\n",
              "    box-shadow: 0 1px 2px rgba(60, 64, 67, 0.3), 0 1px 3px 1px rgba(60, 64, 67, 0.15);\n",
              "    fill: var(--button-hover-fill-color);\n",
              "  }\n",
              "\n",
              "  .colab-df-quickchart-complete:disabled,\n",
              "  .colab-df-quickchart-complete:disabled:hover {\n",
              "    background-color: var(--disabled-bg-color);\n",
              "    fill: var(--disabled-fill-color);\n",
              "    box-shadow: none;\n",
              "  }\n",
              "\n",
              "  .colab-df-spinner {\n",
              "    border: 2px solid var(--fill-color);\n",
              "    border-color: transparent;\n",
              "    border-bottom-color: var(--fill-color);\n",
              "    animation:\n",
              "      spin 1s steps(1) infinite;\n",
              "  }\n",
              "\n",
              "  @keyframes spin {\n",
              "    0% {\n",
              "      border-color: transparent;\n",
              "      border-bottom-color: var(--fill-color);\n",
              "      border-left-color: var(--fill-color);\n",
              "    }\n",
              "    20% {\n",
              "      border-color: transparent;\n",
              "      border-left-color: var(--fill-color);\n",
              "      border-top-color: var(--fill-color);\n",
              "    }\n",
              "    30% {\n",
              "      border-color: transparent;\n",
              "      border-left-color: var(--fill-color);\n",
              "      border-top-color: var(--fill-color);\n",
              "      border-right-color: var(--fill-color);\n",
              "    }\n",
              "    40% {\n",
              "      border-color: transparent;\n",
              "      border-right-color: var(--fill-color);\n",
              "      border-top-color: var(--fill-color);\n",
              "    }\n",
              "    60% {\n",
              "      border-color: transparent;\n",
              "      border-right-color: var(--fill-color);\n",
              "    }\n",
              "    80% {\n",
              "      border-color: transparent;\n",
              "      border-right-color: var(--fill-color);\n",
              "      border-bottom-color: var(--fill-color);\n",
              "    }\n",
              "    90% {\n",
              "      border-color: transparent;\n",
              "      border-bottom-color: var(--fill-color);\n",
              "    }\n",
              "  }\n",
              "</style>\n",
              "\n",
              "      <script>\n",
              "        async function quickchart(key) {\n",
              "          const quickchartButtonEl =\n",
              "            document.querySelector('#' + key + ' button');\n",
              "          quickchartButtonEl.disabled = true;  // To prevent multiple clicks.\n",
              "          quickchartButtonEl.classList.add('colab-df-spinner');\n",
              "          try {\n",
              "            const charts = await google.colab.kernel.invokeFunction(\n",
              "                'suggestCharts', [key], {});\n",
              "          } catch (error) {\n",
              "            console.error('Error during call to suggestCharts:', error);\n",
              "          }\n",
              "          quickchartButtonEl.classList.remove('colab-df-spinner');\n",
              "          quickchartButtonEl.classList.add('colab-df-quickchart-complete');\n",
              "        }\n",
              "        (() => {\n",
              "          let quickchartButtonEl =\n",
              "            document.querySelector('#df-6ee07ee7-942d-445c-8c0e-4404ee5081af button');\n",
              "          quickchartButtonEl.style.display =\n",
              "            google.colab.kernel.accessAllowed ? 'block' : 'none';\n",
              "        })();\n",
              "      </script>\n",
              "    </div>\n",
              "\n",
              "    </div>\n",
              "  </div>\n"
            ],
            "application/vnd.google.colaboratory.intrinsic+json": {
              "type": "dataframe",
              "variable_name": "news",
              "summary": "{\n  \"name\": \"news\",\n  \"rows\": 44898,\n  \"fields\": [\n    {\n      \"column\": \"title\",\n      \"properties\": {\n        \"dtype\": \"string\",\n        \"num_unique_values\": 38729,\n        \"samples\": [\n          \"U.S. students' rape allegation against Italian police has 'some basis', minister says\",\n          \"The Trump presidency on Feb. 7 at 9:47 EST\",\n          \"U.S. condemns Russia veto of probe into Syria chemical weapons use\"\n        ],\n        \"semantic_type\": \"\",\n        \"description\": \"\"\n      }\n    },\n    {\n      \"column\": \"text\",\n      \"properties\": {\n        \"dtype\": \"string\",\n        \"num_unique_values\": 38646,\n        \"samples\": [\n          \"WASHINGTON (Reuters) - The U.S. House of Representatives voted nearly unanimously on Tuesday to reaffirm the NATO alliance\\u2019s guarantee that all members defend each other, weeks after President Donald Trump raised doubts about Washington\\u2019s support for the agreement. The vote was 423-4 in the House, where Trump\\u2019s fellow Republicans hold a 48-seat majority, for a resolution \\u201csolemnly reaffirming\\u201d the U.S. commitment to Article 5 of the North Atlantic Treaty. It also supports calls for every NATO member to spend at least 2 percent of its gross domestic product on defense by 2024.  During a visit to NATO headquarters in Brussels in May that was part of his first overseas trip, Trump pointedly did not mention U.S. support for that critical portion of the NATO charter, rattling allies. Instead, he used a speech there to demand that member states pay more for the alliance\\u2019s defense. Trump later said he backed the mutual defense agreement, and other senior officials rushed to express U.S. support. \\u201cWith all the threats we and our partners face around the globe, a strong and secure NATO is more important than ever before,\\u201d Republican House Speaker Paul Ryan said in a statement. The resolution was co-sponsored by Ryan and House Democratic Leader Nancy Pelosi, as well as the number two Republican and Democrat in the chamber, and the Republican chairman and the ranking Democrat on the House Foreign Affairs Committee. \",\n          \"The flags at Citi Field were also at half-mast in honor of Brian Moore. #Respect #NYPD pride. #Mets pic.twitter.com/GeFiknRwYx  New York Mets (@Mets) May 5, 2015The Mets honored slain New York City Police Officer Brian Moore before Tuesday s game against Baltimore, a game the Orioles fan had tickets to attend.#NYPD officers joined the team for a moment of silence before tonight's game to honor #OfficerMoore. #Mets pic.twitter.com/nmOvBZJMpX  New York Mets (@Mets) May 5, 2015Moore s cousins, who did not wish to be identified, sat in seats several rows behind the Orioles dugout Tuesday night. They sat quietly, saying they came to  honor  their cousin, who was tragically shot in the face on Saturday and died on Monday.Before the game, Moore s picture, bordered by a badge with a black ribbon, lingered on the video screens inside Citi Field and outside the park, too.There was a moment of silence and an NYPD color guard.Moore had bought three tickets for this game. He and his dad and his girlfriend were supposed to go.But instead, Moore was remembered in a somber ceremony   the second such salute the Mets have had for fallen officers this season.On Opening Day at Citi Field, officers Rafael Ramos and Wenjian Liu   who were killed in December   were remembered.Flags at Citi Field fly at half-mast in honor of Brian Moore.Flags at Citi Field fly at half-mast in honor of Brian Moore. The Mets players wore NYPD hats during batting practice to honor Moore, 25. Someplace along the line, hopefully we don t have to keep wearing these hats,  Terry Collins said.  We are honoring the true heroes, the soldiers, the police, the fire department that keep us all safe and secure. What they have to face each and every day is beyond any of our imaginations.Ruben Tejada and @Dilson_H proud to wear the #NYPD caps during BP. #Mets pic.twitter.com/Tgfw6vlzSw  New York Mets (@Mets) May 5, 2015 It s sad to think we ve got to wear them,  continued Collins, who took part in a dinner with the families of Ramos and Liu this spring.  It s part of what we think is important and certainly honoring Officer Moore is important today, and so we ll wear them and wear them with pride and hopefully his family understands that although it s hard to understand what they re going through, we re there for them. \\\"Honoring Officer Moore is important today. We will wear these hats with pride.\\\"   Collins. #NYPD pic.twitter.com/n6SU4teYjD  New York Mets (@Mets) May 5, 2015Orioles slugger Chris Davis, Moore s favorite player, signed a ball for the family. Also, the Orioles are having one of their home jerseys shipped here so the whole team can sign it to give to the family, according to a team spokesman. It s unfortunate we are wearing it for the events that happened,  said Michael Cuddyer, who signed with the Mets this winter.  But I think it is a good gesture by the team, shows we care and are thinking of them. Via: NY Daily News\",\n          \"(Reuters) - President Donald Trump faces his biggest test as a world leader when he meets Chinese President Xi Jinping Thursday and Friday for a summit that will set the tone for perhaps the most consequential of U.S. foreign relationships. The two leaders are expected to struggle to find common ground on the main issues that divide them when they meet at Trump\\u2019s Mar-a-Lago resort in Florida. The main agenda items are: North Korea is perhaps Trump\\u2019s most pressing national security challenge. Pyongyang has been working to develop nuclear-tipped ballistic missiles capable of reaching the United States. Trump is expected to repeat his call for China to do more to rein in its ally and neighbor and has warned that Washington might deal with Pyongyang\\u2019s weapons programs alone if need be. China says it is doing all it can and has said it is up to the United States to de-escalate with Pyongyang. A White House strategy review focuses on options for pressuring Pyongyang economically and militarily. Among measures under consideration are \\u201csecondary sanctions\\u201d against Chinese banks and firms that do the most business with Pyongyang.  A long-standing option of pre-emptive strikes remains on the table, but the review \\u201cde-emphasizes direct military action,\\u201d a senior U.S. official said. Any military action would likely provoke severe North Korean retaliation and massive casualties in South Korea and Japan\\u00a0and among U.S. troops stationed there. TRADE Trade is one of the biggest hot-button issues, given Trump\\u2019s charges in his presidential campaign that Chinese trade practices were killing U.S. jobs and his vow to impose 45 percent tariffs on Chinese imports. The administration has not acted on unilateral tariffs but is targeting a reduction in China\\u2019s $347 billion goods trade surplus through tougher enforcement of trade laws and anti-dumping and anti-subsidy duties. \\u00a0\\u00a0\\u00a0\\u00a0Commerce Secretary Wilbur Ross has also demanded \\u201creciprocity\\u201d in the U.S.-China economic relationship, saying that U.S. companies do not enjoy the same access to China\\u2019s vast market as Chinese firms get in the United States. \\u00a0 China says Washington should create better conditions for Chinese investment in the United States if it wants to correct the imbalance. Neither side wants a trade war, but it may be hard to do much more than lower the temperature in Mar-a-Lago. Some analysts believe Xi may bring a package of job-creating Chinese investments and the prospect of a more open services sector that Trump could tweet as tangible achievements. \\u00a0\\u00a0\\u00a0\\u00a0Relations are also clouded by China\\u2019s expansive claims in the disputed South China Sea, where Beijing has been building artificial islands and installing military facilities on them. U.S. officials see this as part of a long-term Chinese bid to deny U.S. forces access to the strategic sea, a key global trade route. They say Washington plans more robust naval operations to challenge Chinese claims and assert the right to freedom of navigation, though months have passed since the last one in October under Trump\\u2019s predecessor Barack Obama. The situation in North Korea has appeared to push the South China Sea issue onto the back burner for now, but Trump is expected to air U.S. concerns. Trump has repeatedly charged that China manipulates its yuan currency to keep its exports cheap, and he is likely to raise the issue with Xi. But Trump did not make good on his promises to formally declare China a currency manipulator on the first day of his presidency. \\u00a0\\u00a0\\u00a0 While economists believe China pushed down the value of the yuan in the past, China\\u2019s central bank for much of the past two years has been working to prop up the yuan amid capital outflow pressures, spending more than $1 trillion in the process. \\u00a0\\u00a0\\u00a0 This would make it very hard to justify a manipulator designation under the U.S. Treasury\\u2019s current foreign exchange analysis, due one week after Xi\\u2019s visit. The summit would not be happening if Trump had not reaffirmed the \\u201cone China\\u201d policy that has underpinned bilateral relations for decades. Trump infuriated Beijing when, as president-elect, he took a call from Taiwan\\u2019s president and suggested he might not abide by the policy. He backtracked in a call with Xi in February. Xi may now be looking to head off a big new weapons package to Taiwan that U.S. officials have told Reuters is being crafted.  For its part, Taiwan will be watching anxiously for any sign that Trump is using it as a bargaining chip. \"\n        ],\n        \"semantic_type\": \"\",\n        \"description\": \"\"\n      }\n    },\n    {\n      \"column\": \"subject\",\n      \"properties\": {\n        \"dtype\": \"category\",\n        \"num_unique_values\": 8,\n        \"samples\": [\n          \"worldnews\",\n          \"politics\",\n          \"News\"\n        ],\n        \"semantic_type\": \"\",\n        \"description\": \"\"\n      }\n    },\n    {\n      \"column\": \"date\",\n      \"properties\": {\n        \"dtype\": \"category\",\n        \"num_unique_values\": 2397,\n        \"samples\": [\n          \"Jan 3, 2017\",\n          \"June 16, 2017\",\n          \"Oct 25, 2017\"\n        ],\n        \"semantic_type\": \"\",\n        \"description\": \"\"\n      }\n    },\n    {\n      \"column\": \"label\",\n      \"properties\": {\n        \"dtype\": \"number\",\n        \"std\": 0,\n        \"min\": 0,\n        \"max\": 1,\n        \"num_unique_values\": 2,\n        \"samples\": [\n          1,\n          0\n        ],\n        \"semantic_type\": \"\",\n        \"description\": \"\"\n      }\n    }\n  ]\n}"
            }
          },
          "metadata": {},
          "execution_count": 85
        }
      ]
    },
    {
      "cell_type": "markdown",
      "source": [
        "### Dataset Rows & Columns count"
      ],
      "metadata": {
        "id": "7hBIi_osiCS2"
      }
    },
    {
      "cell_type": "code",
      "source": [
        "# Dataset Rows & Columns count\n",
        "\n",
        "news.shape"
      ],
      "metadata": {
        "id": "Kllu7SJgmLij",
        "colab": {
          "base_uri": "https://localhost:8080/"
        },
        "outputId": "1773994d-daef-414d-a3b9-74d85840407c"
      },
      "execution_count": null,
      "outputs": [
        {
          "output_type": "execute_result",
          "data": {
            "text/plain": [
              "(44898, 5)"
            ]
          },
          "metadata": {},
          "execution_count": 86
        }
      ]
    },
    {
      "cell_type": "markdown",
      "source": [
        "### Dataset Information"
      ],
      "metadata": {
        "id": "JlHwYmJAmNHm"
      }
    },
    {
      "cell_type": "code",
      "source": [
        "# Dataset Info\n",
        "\n",
        "news.info()"
      ],
      "metadata": {
        "id": "e9hRXRi6meOf",
        "colab": {
          "base_uri": "https://localhost:8080/"
        },
        "outputId": "65258dbb-919a-4b5a-830c-80d97e4072a1"
      },
      "execution_count": null,
      "outputs": [
        {
          "output_type": "stream",
          "name": "stdout",
          "text": [
            "<class 'pandas.core.frame.DataFrame'>\n",
            "RangeIndex: 44898 entries, 0 to 44897\n",
            "Data columns (total 5 columns):\n",
            " #   Column   Non-Null Count  Dtype \n",
            "---  ------   --------------  ----- \n",
            " 0   title    44898 non-null  object\n",
            " 1   text     44898 non-null  object\n",
            " 2   subject  44898 non-null  object\n",
            " 3   date     44898 non-null  object\n",
            " 4   label    44898 non-null  int64 \n",
            "dtypes: int64(1), object(4)\n",
            "memory usage: 1.7+ MB\n"
          ]
        }
      ]
    },
    {
      "cell_type": "markdown",
      "source": [
        "#### Duplicate Values"
      ],
      "metadata": {
        "id": "35m5QtbWiB9F"
      }
    },
    {
      "cell_type": "code",
      "source": [
        "# Dataset Duplicate Value Count\n",
        "\n",
        "len(news[news.duplicated()])"
      ],
      "metadata": {
        "id": "1sLdpKYkmox0",
        "colab": {
          "base_uri": "https://localhost:8080/"
        },
        "outputId": "5b6b4c0c-5c50-43af-e75a-05a4ee52ea95"
      },
      "execution_count": null,
      "outputs": [
        {
          "output_type": "execute_result",
          "data": {
            "text/plain": [
              "209"
            ]
          },
          "metadata": {},
          "execution_count": 88
        }
      ]
    },
    {
      "cell_type": "markdown",
      "source": [
        "#### Missing Values/Null Values"
      ],
      "metadata": {
        "id": "PoPl-ycgm1ru"
      }
    },
    {
      "cell_type": "code",
      "source": [
        "# Missing Values/Null Values Count\n",
        "\n",
        "news.isnull().sum()"
      ],
      "metadata": {
        "id": "GgHWkxvamxVg",
        "colab": {
          "base_uri": "https://localhost:8080/",
          "height": 241
        },
        "outputId": "09596638-a1b3-4ecb-b46d-83875ee09614"
      },
      "execution_count": null,
      "outputs": [
        {
          "output_type": "execute_result",
          "data": {
            "text/plain": [
              "title      0\n",
              "text       0\n",
              "subject    0\n",
              "date       0\n",
              "label      0\n",
              "dtype: int64"
            ],
            "text/html": [
              "<div>\n",
              "<style scoped>\n",
              "    .dataframe tbody tr th:only-of-type {\n",
              "        vertical-align: middle;\n",
              "    }\n",
              "\n",
              "    .dataframe tbody tr th {\n",
              "        vertical-align: top;\n",
              "    }\n",
              "\n",
              "    .dataframe thead th {\n",
              "        text-align: right;\n",
              "    }\n",
              "</style>\n",
              "<table border=\"1\" class=\"dataframe\">\n",
              "  <thead>\n",
              "    <tr style=\"text-align: right;\">\n",
              "      <th></th>\n",
              "      <th>0</th>\n",
              "    </tr>\n",
              "  </thead>\n",
              "  <tbody>\n",
              "    <tr>\n",
              "      <th>title</th>\n",
              "      <td>0</td>\n",
              "    </tr>\n",
              "    <tr>\n",
              "      <th>text</th>\n",
              "      <td>0</td>\n",
              "    </tr>\n",
              "    <tr>\n",
              "      <th>subject</th>\n",
              "      <td>0</td>\n",
              "    </tr>\n",
              "    <tr>\n",
              "      <th>date</th>\n",
              "      <td>0</td>\n",
              "    </tr>\n",
              "    <tr>\n",
              "      <th>label</th>\n",
              "      <td>0</td>\n",
              "    </tr>\n",
              "  </tbody>\n",
              "</table>\n",
              "</div><br><label><b>dtype:</b> int64</label>"
            ]
          },
          "metadata": {},
          "execution_count": 89
        }
      ]
    },
    {
      "cell_type": "code",
      "source": [
        "# Visualizing the missing values\n",
        "\n",
        "sns.heatmap(news.isnull(), cbar=False)"
      ],
      "metadata": {
        "id": "3q5wnI3om9sJ",
        "colab": {
          "base_uri": "https://localhost:8080/",
          "height": 455
        },
        "outputId": "093349b4-afdf-4630-b253-14b9564b9e08"
      },
      "execution_count": null,
      "outputs": [
        {
          "output_type": "execute_result",
          "data": {
            "text/plain": [
              "<Axes: >"
            ]
          },
          "metadata": {},
          "execution_count": 90
        },
        {
          "output_type": "display_data",
          "data": {
            "text/plain": [
              "<Figure size 640x480 with 1 Axes>"
            ],
            "image/png": "iVBORw0KGgoAAAANSUhEUgAAAjkAAAGkCAYAAADT+zRtAAAAOnRFWHRTb2Z0d2FyZQBNYXRwbG90bGliIHZlcnNpb24zLjEwLjAsIGh0dHBzOi8vbWF0cGxvdGxpYi5vcmcvlHJYcgAAAAlwSFlzAAAPYQAAD2EBqD+naQAAa61JREFUeJzt3XlcVdX+//HXYUZmFQRHSBOHnEcwzQEFp7QsTS1nza45pl+lcq4wh7S6jlfEOac0h3JKBcdMUUxzxPGq4JCKgooK5/eHP87tBJgophzez8djPx6dtdZee61zLvW5e++1Pgaj0WhERERExMJYPe8BiIiIiDwLCnJERETEIinIEREREYukIEdEREQskoIcERERsUgKckRERMQiKcgRERERi6QgR0RERCySghwRERGxSApyRERExCLl+CBn8uTJ+Pr64uDgQI0aNfj111+f95BERETkBZCjg5zFixczYMAAhg8fzr59+6hQoQLBwcFcvnz5eQ9NREREnjNDTk7QWaNGDapVq8a///1vAFJTUylSpAi9e/dmyJAhz3l0IiIi8jzl2Ds59+7dIzo6mqCgIFOZlZUVQUFB7Nq16zmOTERERF4EOTbIuXr1KikpKRQoUMCsvECBAsTHxz+nUYmIiMiLwuZ5D+CflJycTHJyslmZvb099vb2z2lEIiIi8qzk2CAnf/78WFtbc+nSJbPyS5cu4e3tneE5YWFhjBw50qzMYOWMlbXrMxuniIiIZL8H9y78bZsc+7jKzs6OKlWqsGnTJlNZamoqmzZtIiAgIMNzQkNDSUhIMDsMVi7/1JBFRETkH5Rj7+QADBgwgI4dO1K1alWqV6/OpEmTSEpKonPnzhm2z+jRlMFg+CeGKiIiIv+wHB3ktGnThitXrjBs2DDi4+OpWLEi69atS/cysoiIiOQ+OXqfnOxgY1foeQ9BREREssii38kREREReRQFOSIiImKRFOSIiIiIRXomQc7WrVtp3rw5BQsWxGAw8MMPP5jVGwyGDI9x48YBcObMGbp27Yqfnx+Ojo4UL16c4cOHc+/ePVMfI0aMyLAPJyenZzElERERyWGeyeqqpKQkKlSoQJcuXXjzzTfT1cfFxZl9Xrt2LV27dqVVq1YAHD16lNTUVKZPn06JEiU4dOgQ3bt3JykpifHjxwMwcOBAevbsadZPgwYNqFat2rOYkoiIiOQwz3x1lcFgYMWKFbRs2TLTNi1btuTWrVtmG/v91bhx45g6dSqnTp3KsP7AgQNUrFiRrVu3Urt27ccen1ZXiYiI5DyPs7rque+Tc+nSJX788UfmzJnzyHYJCQnkzZs30/qZM2dSsmTJLAU4IiIiYrme+4vHc+bMwcXFJcPHWmliY2P59ttvef/99zOsv3v3LgsWLKBr167PapgiIiKSwzz3OzmzZs2iffv2ODg4ZFh/4cIFQkJCePvtt+nevXuGbVasWMGtW7fo2LHjI6+VURZyo9Go1A4iIiIW6Lneydm2bRvHjh2jW7duGdZfvHiRevXqERgYyIwZMzLtZ+bMmTRr1uxv0zmEhYXh5uZmdhhTbz3VHEREROTF9FyDnPDwcKpUqUKFChXS1V24cIG6detSpUoVIiIisLLKeKinT59my5Ytj/WoSlnIRUREco9n8rgqMTGR2NhY0+fTp08TExND3rx5KVq0KAA3b95k6dKlTJgwId35aQFOsWLFGD9+PFeuXDHVeXt7m7WdNWsWPj4+NG7c+G/HpSzkIiIiucczCXL27t1LvXr1TJ8HDBgAQMeOHZk9ezYAixYtwmg00rZt23Tnb9y4kdjYWGJjYylcuLBZ3Z9XvKempjJ79mw6deqEtbX1M5iJiIiI5FTKQq59ckRERHIcZSEXERGRXEtBjoiIiFgkBTkiIiJikbI9yJk6dSrly5fH1dUVV1dXAgICWLt2bbp2RqORxo0bP3aW8kWLFmV4vR07dmBjY0PFihWzeyoiIiKSg2X76qrChQszZswYXn75ZYxGI3PmzKFFixbs37+fsmXLmtpNmjTpkcu3IyIiCAkJMX12d3dP1+bGjRt06NCBBg0acOnSpWydh4iIiORs2R7kNG/e3Ozz559/ztSpU/nll19MQU5MTAwTJkxg7969+Pj4ZNiPu7t7uj1x/qpnz560a9cOa2vrdHeDREREJHd7pu/kpKSksGjRIpKSkggICADg9u3btGvXjsmTJz8yiOnVqxf58+enevXqzJo1i7+udI+IiODUqVMMHz78WU5BREREcqhnshngwYMHCQgI4O7duzg7O7NixQrKlCkDQP/+/QkMDKRFixaZnj9q1Cjq169Pnjx52LBhA//6179ITEykT58+AJw4cYIhQ4awbds2bGyee45REREReQE9kwjB39+fmJgYEhISWLZsGR07diQqKorY2Fg2b97M/v37H3n+0KFDTf9cqVIlkpKSGDduHH369CElJYV27doxcuRISpYsmaVxKQu5iIhI7vGP7HgcFBRE8eLFcXR05JtvvjFLtpmSkoKVlRW1a9cmMjIyw/N//PFHmjVrxt27d7lz5w4eHh5maRxSU1MxGo1YW1uzYcMG6tevn2E/I0aMYOTIkWZlBitnrKxdn36SIiIi8o95nB2P/5FnPampqSQnJzNy5Ei6detmVleuXDkmTpyY7oXlP4uJicHDwwN7e3tsbW05ePCgWf2UKVPYvHkzy5Ytw8/PL9N+QkNDTXm00njkK/UEMxIREZEXXbYHOaGhoTRu3JiiRYty69YtFi5cSGRkJOvXr8fb2zvDl42LFi1qCk5Wr17NpUuXqFmzJg4ODmzcuJEvvviCgQMHAmBlZcUrr7xidr6XlxcODg7pyv9KWchFRERyj2wPci5fvkyHDh2Ii4vDzc2N8uXLs379eho2bPhY59va2jJ58mT69++P0WikRIkSfPXVV3Tv3j27hyoiIiIWTFnIlYVcREQkx1EWchEREcm1FOSIiIiIRVKQIyIiIhZJQY6IiIhYpGwPckaMGIHBYDA7SpX63140M2bMoG7duri6umIwGLhx40a6Po4fP06LFi3Inz8/rq6uvPrqq2zZssWsTZ8+fahSpQr29vZUrFgxu6chIiIiOdwzuZNTtmxZ4uLiTMf27dtNdbdv3yYkJISPP/440/ObNWvGgwcP2Lx5M9HR0VSoUIFmzZoRHx9v1q5Lly60adPmWUxBREREcrhnsuOxjY1NphnG+/XrB5BpCoerV69y4sQJwsPDKV++PABjxoxhypQpHDp0yNTvN998A8CVK1f47bffsncCIiIikuM9kzs5J06coGDBgrz00ku0b9+ec+fOPfa5+fLlw9/fn7lz55KUlMSDBw+YPn06Xl5eVKlS5VkMV0RERCxQtt/JqVGjBrNnz8bf35+4uDhGjhxJ7dq1OXToEC4uLn97vsFg4Oeff6Zly5a4uLhgZWWFl5cX69atw8PD46nGpizkIiIiuUe238lp3Lgxb7/9NuXLlyc4OJiffvqJGzdusGTJksc632g00qtXL7y8vNi2bRu//vorLVu2pHnz5sTFxT3V2MLCwnBzczM7jKm3nqpPEREReTE98yXk7u7ulCxZktjY2Mdqv3nzZtasWcOiRYuoVasWlStXZsqUKTg6OjJnzpynGktoaCgJCQlmh8Hq7+8uiYiISM7zzIOcxMRETp48iY+Pz2O1v337NvAw2/ifWVlZkZqa+lRjsbe3x9XV1ezQoyoRERHLlO3v5AwcOJDmzZtTrFgxLl68yPDhw7G2tqZt27YAxMfHEx8fb7qzc/DgQVxcXChatCh58+YlICAADw8POnbsyLBhw3B0dOQ///kPp0+fpmnTpqbrxMbGkpiYSHx8PHfu3CEmJgaAMmXKYGdnl93TEhERkRwm24Oc8+fP07ZtW/744w88PT159dVX+eWXX/D09ARg2rRpjBw50tS+Tp06AERERNCpUyfy58/PunXr+OSTT6hfvz7379+nbNmyrFy5kgoVKpjO69atG1FRUabPlSpVAuD06dP4+vpm97REREQkhzEYjUbj8x7E82RjV+h5D0FERESy6MG9C3/bRrmrRERExCIpyBERERGLpCBHRERELNIzCXIuXLjAu+++S758+XB0dKRcuXLs3bvXVH/p0iU6depEwYIFyZMnDyEhIZw4ccKsj7t379KrVy/y5cuHs7MzrVq14tKlS2Zt9uzZQ4MGDXB3d8fDw4Pg4GAOHDjwLKYkIiIiOUy2BznXr1+nVq1a2NrasnbtWg4fPsyECRNMKRmMRiMtW7bk1KlTrFy5kv3791OsWDGCgoJISkoy9dO/f39Wr17N0qVLiYqK4uLFi7z55pum+sTEREJCQihatCi7d+9m+/btuLi4EBwczP3797N7WiIiIpLDZPvqqiFDhrBjxw62bduWYf3x48fx9/fn0KFDlC1bFoDU1FS8vb354osv6NatGwkJCXh6erJw4ULeeustAI4ePUrp0qXZtWsXNWvWZO/evVSrVo1z585RpEgR4OGeO+XLl+fEiROUKFHiscar1VUiIiI5z3NZXbVq1SqqVq3K22+/jZeXF5UqVeI///mPqT4tQaaDg8P/BmFlhb29Pdu3bwcgOjqa+/fvExQUZGpTqlQpihYtyq5duwDw9/cnX758hIeHc+/ePe7cuUN4eDilS5fWPjkiIiKS/UHOqVOnmDp1Ki+//DLr16/ngw8+oE+fPqa8U2nBSmhoKNevX+fevXt8+eWXnD9/3pSAMz4+Hjs7O9zd3c36LlCgAPHx8QC4uLgQGRnJ/PnzcXR0xNnZmXXr1rF27VpsbLJ9j0MRERHJYbI9yElNTaVy5cp88cUXVKpUiR49etC9e3emTZsGgK2tLcuXL+f48ePkzZuXPHnysGXLFho3bpwuX9Wj3Llzh65du1KrVi1++eUXduzYwSuvvELTpk25c+dOhuckJydz8+ZNsyOX74UoIiJisbI9yPHx8aFMmTJmZaVLl+bcuXOmz1WqVCEmJoYbN24QFxfHunXr+OOPP3jppZcA8Pb25t69e9y4ccOsn0uXLuHt7Q3AwoULOXPmDBEREVSrVo2aNWuycOFCTp8+zcqVKzMcW1hYGG5ubmaHMfVWNs5eREREXhTZHuTUqlWLY8eOmZUdP36cYsWKpWvr5uaGp6cnJ06cYO/evbRo0QJ4GATZ2tqyadMmU9tjx45x7tw5AgICgIfZyq2srMyyiKd9zixbeWhoKAkJCWaHwcrlqecsIiIiL55sX121Z88eAgMDGTlyJK1bt+bXX3+le/fuzJgxg/bt2wOwdOlSPD09KVq0KAcPHqRv375UqVKF77//3tTPBx98wE8//cTs2bNxdXWld+/eAOzcuRN4uNqqYsWKdOnShd69e5OamsqYMWNYvXo1R44cwcfH57HGq9VVIiIiOc/jrK7K9jd0q1WrxooVKwgNDWXUqFH4+fkxadIkU4ADEBcXx4ABA7h06RI+Pj506NCBoUOHmvUzceJErKysaNWqFcnJyQQHBzNlyhRTfalSpVi9ejUjR44kICAAKysrKlWqxLp16x47wBERERHLpSzkupMjIiKS4ygLuYiIiORaCnJERETEIinIEREREYuU7UFOSkoKQ4cOxc/PD0dHR4oXL87o0aPTbbp35MgRXn/9ddzc3HBycjLloUrz/vvvU7x4cRwdHfH09KRFixYcPXrUrA+DwZDuWLRoUXZPSURERHKgbF9d9eWXXzJ16lTmzJlD2bJl2bt3L507d8bNzY0+ffoAcPLkSV599VW6du3KyJEjcXV15ffffzfLZ1WlShXat29P0aJFuXbtGiNGjKBRo0acPn0aa2trU7uIiAhCQkJMn/+aCkJERERyp2xfXdWsWTMKFChAeHi4qaxVq1Y4Ojoyf/58AN555x1sbW2ZN2/eY/f722+/UaFCBWJjYylevPjDwRsMrFixgpYtWz7xeLW6SkREJOd5LqurAgMD2bRpE8ePHwfgwIEDbN++ncaNGwMPc1v9+OOPlCxZkuDgYLy8vKhRowY//PBDpn0mJSURERGBn58fRYoUMavr1asX+fPnp3r16syaNUu5qERERAR4BkHOkCFDeOeddyhVqhS2trZUqlSJfv36mTYDvHz5MomJiYwZM4aQkBA2bNjAG2+8wZtvvklUVJRZX1OmTMHZ2RlnZ2fWrl3Lxo0bsbOzM9WPGjWKJUuWsHHjRlq1asW//vUvvv322+yekoiIiORA2f64atGiRQwaNIhx48ZRtmxZYmJi6NevH1999RUdO3bk4sWLFCpUiLZt27Jw4ULTea+//jpOTk589913prKEhAQuX75MXFwc48eP58KFC+zYscPs3Z0/GzZsGBEREfz3v//NsD45OZnk5GSzMo98pczyX4mIiMiL77k8rho0aJDpbk65cuV477336N+/P2FhYQDkz58fGxubv81UDg8TeL788svUqVOHZcuWcfToUVasWJHptWvUqMH58+fTBTJplIVcREQk98j2ICctO/ifWVtbmzKD29nZUa1atcfOVJ7GaDRiNBozDWAAYmJi8PDwwN7ePsN6ZSEXERHJPbJ9CXnz5s35/PPPKVq0KGXLlmX//v189dVXdOnSxdRm0KBBtGnThjp16lCvXj3WrVvH6tWriYyMBODUqVMsXryYRo0a4enpyfnz5xkzZgyOjo40adIEgNWrV3Pp0iVq1qyJg4MDGzdu5IsvvmDgwIGZjs3e3j5dAKRHVSIiIpYp29/JuXXrFkOHDmXFihVcvnyZggUL0rZtW4YNG2b20vCsWbMICwvj/Pnz+Pv7M3LkSFq0aAHAxYsX6datG9HR0Vy/fp0CBQpQp04dhg0bhr+/PwDr1q0jNDSU2NhYjEYjJUqU4IMPPqB79+7p7iQ9ipaQi4iI5DyP806OspAryBEREclxlIVcREREci0FOSIiImKRFOSIiIiIRcpykLN161aaN29OwYIFMRgM6dIxGI1Ghg0bho+PD46OjgQFBXHixAmzNq+//jpFixbFwcEBHx8f3nvvPS5evJiun/Hjx1OyZEns7e0pVKgQn3/+ual++fLlNGzYEE9PT1xdXQkICGD9+vVZnY6IiIhYqCwHOUlJSVSoUIHJkydnWD927Fi++eYbpk2bxu7du3FyciI4OJi7d++a2tSrV48lS5Zw7Ngxvv/+e06ePMlbb71l1k/fvn2ZOXMm48eP5+jRo6xatYrq1aub6rdu3UrDhg356aefiI6Opl69ejRv3pz9+/dndUoiIiJigZ5qddVfs4AbjUYKFizIRx99ZNqvJiEhgQIFCjB79mzeeeedDPtZtWoVLVu2JDk5GVtbW44cOUL58uU5dOiQacn44yhbtixt2rRh2LBhj32OVleJiIjkPP/46qrTp08THx9PUFCQqczNzY0aNWqwa9euDM+5du0aCxYsIDAwEFtbW+DhRn8vvfQSa9aswc/PD19fX7p168a1a9cyvXZqaiq3bt0ib9682TklERERyaGyNciJj48HoECBAmblBQoUMNWlGTx4ME5OTuTLl49z586xcuVKU92pU6c4e/YsS5cuZe7cucyePZvo6Oh0j7T+bPz48SQmJtK6detsnJGIiIjkVM9tddWgQYPYv38/GzZswNramg4dOpD25Cw1NZXk5GTmzp1L7dq1qVu3LuHh4WzZsiVdziuAhQsXMnLkSJYsWYKXl1em10xOTubmzZtmRy7fC1FERMRiZWuQ4+3tDcClS5fMyi9dumSqS5M/f35KlixJw4YNWbRoET/99BO//PILAD4+PtjY2FCyZElT+9KlSwOky1S+aNEiunXrxpIlS8wek2VEWchFRERyj2wNcvz8/PD29mbTpk2msps3b7J7924CAgIyPS8tQ3lahvFatWrx4MEDTp48aWpz/PhxALNM5d999x2dO3fmu+++o2nTpn87PmUhFxERyT2ynIU8MTGR2NhY0+fTp08TExND3rx5KVq0KP369eOzzz7j5Zdfxs/Pj6FDh1KwYEHTCqzdu3ezZ88eXn31VTw8PDh58iRDhw6lePHipkAoKCiIypUr06VLFyZNmkRqaiq9evWiYcOGprs7CxcupGPHjnz99dfUqFHD9M6Po6Mjbm5uGY5dWchFRERyjywvIY+MjKRevXrpyjt27Mjs2bMxGo0MHz6cGTNmcOPGDV599VWmTJliCk4OHjxI3759OXDgAElJSfj4+BASEsKnn35KoUL/W8598eJFevfuzYYNG3BycqJx48ZMmDDBtHqqbt26REVFZTqOx6Ul5CIiIjmPspA/BgU5IiIiOY+ykIuIiEiupSBHRERELJKCHBEREbFICnJERETEImU5yNm6dSvNmzenYMGCGAwGfvjhB1Pd/fv3GTx4MOXKlcPJyYmCBQvSoUMHLl68aNbHtWvXaN++Pa6urri7u9O1a1cSExPN2qxfv56aNWvi4uKCp6cnrVq14syZM2ZtJk+eTOnSpXF0dMTf35+5c+dmdToiIiJiobIc5CQlJVGhQgUmT56cru727dvs27ePoUOHsm/fPpYvX86xY8d4/fXXzdq1b9+e33//nY0bN7JmzRq2bt1Kjx49TPWnT5+mRYsW1K9fn5iYGNavX8/Vq1d58803TW2mTp1KaGgoI0aM4Pfff2fkyJH06tWL1atXZ3VKIiIiYoGeagm5wWBgxYoVpo3+MrJnzx6qV6/O2bNnKVq0KEeOHKFMmTLs2bOHqlWrArBu3TqaNGnC+fPnKViwIMuWLaNt27YkJydjZfUwDlu9ejUtWrQgOTkZW1tbAgMDqVWrFuPGjTNd66OPPmL37t1s3779seegJeQiIiI5zwuxhDwhIQGDwYC7uzsAu3btwt3d3RTgwMMdjq2srNi9ezcAVapUwcrKioiICFJSUkhISGDevHkEBQVha2sLPEwB4eDgYHYtR0dHfv31V+7fv/+spyUiIiIvuGca5Ny9e5fBgwfTtm1bXF1dAYiPj0+XKdzGxoa8efOaUjP4+fmxYcMGPv74Y+zt7XF3d+f8+fMsWbLEdE5wcDAzZ84kOjoao9HI3r17mTlzJvfv3+fq1asZjkdZyEVERHKPZxbk3L9/n9atW2M0Gpk6dWqWzo2Pj6d79+507NiRPXv2EBUVhZ2dHW+99ZYpKBk6dCiNGzemZs2a2Nra0qJFCzp27AhgesT1V8pCLiIikns8kyAnLcA5e/YsGzduNN3FAfD29uby5ctm7R88eMC1a9fw9vYGHq6acnNzY+zYsVSqVIk6deowf/58Nm3aZHqk5ejoyKxZs7h9+zZnzpzh3Llz+Pr6mlZjZURZyEVERHKPLGch/ztpAc6JEyfYsmUL+fLlM6sPCAjgxo0bREdHU6VKFQA2b95MamoqNWrUAB6u0vrr3Rhra2sAUlNTzcptbW0pXLgwAIsWLaJZs2aZ3slRFnIREZHcI8tBTmJiIrGxsabPp0+fJiYmhrx58+Lj48Nbb73Fvn37WLNmDSkpKab3bPLmzYudnR2lS5cmJCSE7t27M23aNO7fv8+HH37IO++8Q8GCBQFo2rQpEydOZNSoUbRt25Zbt27x8ccfU6xYMSpVqgTA8ePH+fXXX6lRowbXr1/nq6++4tChQ8yZMyc7vhcRERHJ4bK8hDwyMpJ69eqlK+/YsSMjRozAz88vw/O2bNlC3bp1gYebAX744YesXr0aKysrWrVqxTfffIOzs7Op/aJFixg7dizHjx8nT548BAQE8OWXX1KqVCkAjhw5Qrt27Th27Bi2trbUq1ePL7/8En9//6xMR0vIRUREcqDHWUL+VPvkWAIFOSIiIjnPC7FPjoiIiMjzoCBHRERELJKCHBEREbFI2ZqFHGDEiBGUKlUKJycnPDw8CAoKMu1tk+b48eO0aNGC/Pnz4+rqyquvvsqWLVvM2vTp04cqVapgb29PxYoVMxyL0Whk/PjxlCxZEnt7ewoVKsTnn3+e1SmJiIiIBcrWLOQAJUuW5N///jcHDx5k+/bt+Pr60qhRI65cuWJq06xZMx48eMDmzZuJjo6mQoUKNGvWzLTcPE2XLl1o06ZNpmPp27cvM2fOZPz48Rw9epRVq1ZRvXr1rE5JRERELNAzz0J+8+ZN3Nzc+Pnnn2nQoAFXr17F09OTrVu3Urt2bQBu3bqFq6srGzduJCgoyOz8ESNG8MMPPxATE2NWfuTIEcqXL8+hQ4eyvGz8z7S6SkREJOd57qur7t27x4wZM3Bzc6NChQoA5MuXD39/f+bOnUtSUhIPHjxg+vTpeHl5mXZAfhyrV6/mpZdeYs2aNfj5+eHr60u3bt24du3as5qOiIiI5CDZntYBYM2aNbzzzjvcvn0bHx8fNm7cSP78+YGHd39+/vlnWrZsiYuLC1ZWVnh5ebFu3To8PDwe+xqnTp3i7NmzLF26lLlz55KSkkL//v1566232Lx5c4bnJCcnk5ycbFZmNBqV2kFERMQCPZM7OfXq1SMmJoadO3cSEhJC69atTUk5jUYjvXr1wsvLi23btvHrr7/SsmVLmjdvTlxc3GNfIzU1leTkZObOnUvt2rWpW7cu4eHhbNmyhWPHjmV4jrKQi4iI5B7PJMhxcnKiRIkS1KxZk/DwcGxsbAgPDwceJuNcs2YNixYtolatWlSuXJkpU6bg6OiYpbxTPj4+2NjYULJkSVNZ6dKlATh37lyG5ygLuYiISO7xTB5X/VXaXRd4mGEcSJcp3MrKKl2G8UepVasWDx484OTJkxQvXhx4uDQdoFixYhmeoyzkIiIiuUe2ZiHPly8fn3/+Oa+//jo+Pj5cvXqVyZMnc+HCBd5++20AAgIC8PDwoGPHjgwbNgxHR0f+85//cPr0aZo2bWrqNzY2lsTEROLj47lz545pdVWZMmWws7MjKCiIypUr06VLFyZNmkRqaiq9evWiYcOGZnd3REREJHfK1izk06ZNo127duzevZurV6+SL18+qlWrxqeffkq1atVMbffu3csnn3zC3r17uX//PmXLlmXYsGE0btzY1KZu3bpERUWlu87p06fx9fUF4OLFi/Tu3ZsNGzbg5ORE48aNmTBhAnnz5n3s+WgJuYiISM6jLOSPQUGOiIhIzvPc98kREREReV4U5IiIiIhFUpAjIiIiFinbs5B36tQJg8FgdoSEhJi18fX1TddmzJgxGV4vNjYWFxcX3N3dzcqXL19O1apVcXd3x8nJiYoVKzJv3rysTkdEREQsVJaXkKdlIe/SpQtvvvlmhm1CQkKIiIgwff7r3jQAo0aNonv37qbPLi7pN+W7f/8+bdu2pXbt2uzcudOsLm/evHzyySeUKlUKOzs71qxZQ+fOnfHy8iI4ODir0xIRERELk+Ugp3HjxmZLvTNib2+Pt7f3I9u4uLj8bZtPP/2UUqVK0aBBg3RBTt26dc0+9+3blzlz5rB9+3YFOSIiIvJs3smJjIzEy8sLf39/PvjgA/744490bcaMGUO+fPmoVKkS48aN48GDB2b1mzdvZunSpUyePPlvr2c0Gtm0aRPHjh2jTp062TYPERERybmyPa1DSEgIb775Jn5+fpw8eZKPP/6Yxo0bs2vXLqytrQHo06cPlStXJm/evOzcuZPQ0FDi4uL46quvAPjjjz/o1KkT8+fPx9XVNdNrJSQkUKhQIZKTk7G2tmbKlCk0bNgwu6ckIiIiOVC2BznvvPOO6Z/LlStH+fLlKV68OJGRkTRo0ACAAQMGmNqUL18eOzs73n//fcLCwrC3t6d79+60a9fub+/KuLi4EBMTQ2JiIps2bWLAgAG89NJL6R5lpUlOTjbl0EpjNBqVv0pERMQCPfMl5C+99BL58+c3y3f1VzVq1ODBgwecOXMGePioavz48djY2GBjY0PXrl1JSEjAxsaGWbNm/W/wVlaUKFGCihUr8tFHH/HWW28RFhaW6XXCwsJwc3MzO4ypt7JtriIiIvLieOZZyM+fP88ff/yBj49Ppm1iYmKwsrLCy8sLgF27dpGSkmKqX7lyJV9++SU7d+6kUKHM0zD8Odt5RkJDQ83uIgF45Cv1uFMRERGRHCRbs5DnzZuXkSNH0qpVK7y9vTl58iT/93//R4kSJUwrnnbt2sXu3bupV68eLi4u7Nq1i/79+/Puu+/i4eEBQOnSpc2uuXfvXqysrHjllVdMZWFhYVStWpXixYuTnJzMTz/9xLx585g6dWqmY7e3t0+3nF2PqkRERCxTloOcvXv3mmUhT7sz0rFjR6ZOncpvv/3GnDlzuHHjBgULFqRRo0aMHj3aFFzY29uzaNEiRowYQXJyMn5+fvTv3z/dHZa/k5SUxL/+9S/Onz+Po6MjpUqVYv78+bRp0yarUxIRERELpCzkykIuIiKS4ygLuYiIiORaCnJERETEIinIEREREYuU7VnI/5pdPO0YN24cAGfOnKFr1674+fnh6OhI8eLFGT58OPfu3TP1MWLEiAz7cHJyMrvW0qVLKVWqFA4ODpQrV46ffvrpCb4CERERsURZDnLSspBnllMqLi7O7Jg1axYGg4FWrVoBcPToUVJTU5k+fTq///47EydOZNq0aXz88cemPgYOHJiunzJlyvD222+b2uzcuZO2bdvStWtX9u/fT8uWLWnZsiWHDh3K6pRERETEAj3V6iqDwcCKFSto2bJlpm1atmzJrVu32LRpU6Ztxo0bx9SpUzl16lSG9QcOHKBixYps3bqV2rVrA9CmTRuSkpJYs2aNqV3NmjWpWLEi06ZNe+w5aHWViIhIzvPcV1ddunSJH3/8ka5duz6yXUJCAnnz5s20fubMmZQsWdIU4MDDTQWDgoLM2gUHB7Nr166nG7SIiIhYhGca5MyZMwcXFxfefPPNTNvExsby7bff8v7772dYf/fuXRYsWJAuUIqPj6dAgQJmZQUKFCA+Pv7pBy4iIiI53jPNXTVr1izat2+Pg4NDhvUXLlwgJCSEt99+m+7du2fYZsWKFdy6dYuOHTs+9XiUhVxERCT3eGZ3crZt28axY8fo1q1bhvUXL16kXr16BAYGMmPGjEz7mTlzJs2aNUt318bb25tLly6ZlV26dAlvb+9M+1IWchERkdzjmQU54eHhVKlShQoVKqSru3DhAnXr1qVKlSpERERgZZXxME6fPs2WLVsyfKcnICAg3cvMGzduJCAgINMxhYaGkpCQYHYYrFyyODMRERHJCbI1C3nRokUBuHnzJkuXLmXChAnpzk8LcIoVK8b48eO5cuWKqe6vd2FmzZqFj48PjRs3TtdP3759ee2115gwYQJNmzZl0aJF7N2795F3hZSFXEREJPfI8hLyyMhIsyzkaTp27Mjs2bMBmDFjBv369SMuLg43NzezdrNnz6Zz584Z9v3noaSmplKsWDE6dOjA559/nmH7pUuX8umnn3LmzBlefvllxo4dS5MmTbIyHS0hFxERyYEeZwm5spAryBEREclxnvs+OSIiIiLPi4IcERERsUgKckRERMQiZXsW8sTERD788EMKFy6Mo6MjZcqUSZdL6uTJk7zxxht4enri6upK69at0+15s2/fPho2bIi7uzv58uWjR48eJCYmmupnz56dacbzy5cvZ3VaIiIiYmGyPQv5gAEDWLduHfPnz+fIkSP069ePDz/8kFWrVpnOb9SoEQaDgc2bN7Njxw7u3btH8+bNSU1NBR5uFBgUFESJEiXYvXs369at4/fff6dTp06m67Rp0yZdpvLg4GBee+01vLy8nuCrEBEREUuS7VnIX3nlFdq0acPQoUNNZVWqVKFx48Z89tlnbNiwgcaNG3P9+nVcXV2Bhwk6PTw82LBhA0FBQcyYMYOhQ4cSFxdn2ijw4MGDlC9fnhMnTlCiRIl0Y7ly5QqFChUiPDyc995777HnoNVVIiIiOc9zWV0VGBjIqlWruHDhAkajkS1btnD8+HEaNWoEPMwfZTAYzDblc3BwwMrKiu3bt5va2NnZme2E7OjoCGBq81dz584lT548vPXWW9k9JREREcmBsj3I+fbbbylTpgyFCxfGzs6OkJAQJk+eTJ06dQCoWbMmTk5ODB48mNu3b5OUlMTAgQNJSUkhLi4OgPr16xMfH8+4ceO4d+8e169fZ8iQIQCmNn8VHh5Ou3btTMGQiIiI5G7PJMj55ZdfWLVqFdHR0UyYMIFevXrx888/A+Dp6cnSpUtZvXo1zs7OuLm5cePGDSpXrmy6c1O2bFnmzJnDhAkTyJMnD97e3vj5+VGgQIEM81zt2rWLI0eOZJjj6s+Sk5O5efOm2ZHL90IUERGxWNn6Ts6dO3dwc3NjxYoVNG3a1NSuW7dunD9/nnXr1pmdf/XqVWxsbHB3d8fb25uPPvqIQYMGmbW5dOkSTk5OGAwGXF1dWbRoEW+//bZZm65du7Jv3z7279//yPGOGDGCkSNHms/Byhkra9esTl1ERESeo3/8nZz79+9z//79dHdbrK2tTSun/ix//vy4u7uzefNmLl++zOuvv56uTYECBXB2dmbx4sU4ODjQsGFDs/rExESWLFnyt3dxQFnIRUREcpNsz0L+2muvMWjQIBwdHSlWrBhRUVHMnTuXr776ynROREQEpUuXxtPTk127dtG3b1/69++Pv7+/qc2///1vAgMDcXZ2ZuPGjQwaNIgxY8bg7u5uNp7Fixfz4MED3n333b8du7KQi4iI5B7ZnoU8Pj6e0NBQNmzYwLVr1yhWrBg9evSgf//+poBiyJAhzJ49m2vXruHr60vPnj3N6gE6dOjAjz/+SGJiIqVKlWLgwIEZLg0PDAzEz8+PBQsWZHXugJaQi4iI5ETKQv4YFOSIiIjkPMpCLiIiIrmWghwRERGxSApyRERExCIpyBERERGLlOUgJywsjGrVquHi4oKXlxctW7bk2LFjZm3u3r1Lr169yJcvH87OzrRq1YpLly6Z6mfPno3BYMjwuHz5MgDLly+nYcOGeHp64urqSkBAAOvXr890XGPGjMFgMNCvX7+sTklEREQsUJaDnKioKHr16sUvv/zCxo0buX//Po0aNSIpKcnUpn///qxevZqlS5cSFRXFxYsXefPNN031bdq0IS4uzuwIDg7mtddew8vLC4CtW7fSsGFDfvrpJ6Kjo6lXrx7NmzfPcFfjPXv2MH36dMqXL/8k34GIiIhYoKdeQn7lyhW8vLyIioqiTp06JCQk4OnpycKFC00ZwY8ePUrp0qXZtWsXNWvWzLCPQoUKER4enuFeOGnKli1LmzZtGDZsmKksMTGRypUrM2XKFD777DMqVqzIpEmTHnv8WkIuIiKS8/wjS8gTEhIAyJs3LwDR0dHcv3+foKAgU5tSpUpRtGhRdu3alWEfc+fOJU+ePKagKCOpqancunXLdJ00vXr1omnTpmbXExEREclyWoc/S01NpV+/ftSqVYtXXnkFgPj4eOzs7NKlXyhQoADx8fEZ9hMeHk67du1wdHTM9Frjx48nMTGR1q1bm8oWLVrEvn372LNnz2ONNzk5meTkZLMyo9Go1A4iIiIW6Knu5PTq1YtDhw6xaNGiJ+5j165dHDly5JEJNhcuXMjIkSNZsmSJ6Z2d//73v/Tt25cFCxbg4ODwWNcKCwvDzc3N7DCm3nrisYuIiMiL64mDnA8//JA1a9awZcsWChcubCr39vbm3r173Lhxw6z9pUuX8Pb2TtfPzJkzqVixIlWqVMnwOosWLaJbt24sWbLE7JFUdHQ0ly9fpnLlytjY2GBjY0NUVBTffPMNNjY2pKSkpOtLWchFRERyjyw/rjIajfTu3ZsVK1YQGRmJn5+fWX2VKlWwtbVl06ZNtGrVCoBjx45x7tw5AgICzNomJiayZMkSwsLCMrzWd999R5cuXVi0aBFNmzY1q2vQoAEHDx40K+vcuTOlSpVi8ODBWFtbp+tPWchFRERyjywHOb169WLhwoWsXLkSFxcX03s2bm5uODo64ubmRteuXRkwYAB58+bF1dWV3r17ExAQkG5l1eLFi3nw4AHvvvtuuussXLiQjh078vXXX1OjRg3TddKu4eLiYnoPKI2TkxP58uVLVy4iIiK5T5aXkGd25yMiIoJOnToBDzcD/Oijj/juu+9ITk4mODiYKVOmpHtcFRgYiJ+fHwsWLEjXX926dYmKikpX3rFjR2bPnp3hGOrWrasl5CIiIrnA4ywhf+p9cnI6BTkiIiI5zz+yT46IiIjIi0hBjoiIiFgkBTkiIiJikbIU5PxdBvJr167Ru3dv/P39cXR0pGjRovTp08eU+uGv/vjjDwoXLozBYDDbVycyMjLDDOV/3jF569atNG/enIIFC2IwGPjhhx+yNnMRERGxaFkKcv4uA/nFixe5ePEi48eP59ChQ8yePZt169Zluptx165dH5k5/NixY2aZytN2OwZISkqiQoUKTJ48OStTEBERkVziqVZX/TUDeUaWLl3Ku+++S1JSEjY2/9uWZ+rUqSxevJhhw4bRoEEDrl+/bsp3FRkZSb169czKHjkJg4EVK1bQsmXLLM9Bq6tERERynme+uuqvGcgza+Pq6moW4Bw+fJhRo0Yxd+5crKwyH0LFihXx8fGhYcOG7Nix42mGKiIiIrnMEwc5GWUg/6urV68yevRoevToYSpLTk6mbdu2jBs3jqJFi2Z4no+PD9OmTeP777/n+++/p0iRItStW5d9+/Y96XBN175586bZkcu3CRIREbFYWU7rkCYtA/n27dszrL958yZNmzalTJkyjBgxwlQeGhpK6dKlM0zlkMbf3x9/f3/T58DAQE6ePMnEiROZN2/ekw6ZsLAwRo4caVZmsHLGYO36xH2KiIjIi+mJ7uRkloE8za1btwgJCcHFxYUVK1Zga2trqtu8eTNLly41ZQ5v0KABAPnz52f48OGZXrN69erExsY+yXBNlIVcREQk98jSnZy/y0AOD+/gBAcHY29vz6pVq3BwcDCr//7777lz547p8549e+jSpQvbtm2jePHimV47JiYGHx+frAw3HWUhFxERyT2yFOT8XQbymzdv0qhRI27fvs38+fNN770AeHp6Ym1tnS6QuXr1KgClS5c2raSaNGkSfn5+lC1blrt37zJz5kw2b97Mhg0bTOclJiaa3dk5ffo0MTEx5M2bN9N3fURERCT3yFKQM3XqVOBhtu8/S8tAvm/fPnbv3g1AiRIlzNqcPn0aX1/fx7rOvXv3+Oijj7hw4QJ58uShfPny/Pzzz9SrV8/UZu/evWafBwwYADw6S7mIiIjkHspCrn1yREREchxlIRcREZFcS0GOiIiIWCQFOSIiImKRsjUL+Z8ZjUYaN26cYYbwPn36UKVKFezt7alYsWK6c0eMGJFhFnInJyezdpMmTTJlPC9SpAj9+/fn7t27WZmSiIiIWKhszUL+Z5MmTXrkHjRdunShTZs2GdYNHDjQLPt4XFwcZcqU4e233za1WbhwIUOGDGH48OEcOXKE8PBwFi9ezMcff5yVKYmIiIiFytIS8nXr1pl9nj17Nl5eXkRHR5tlIY+JiWHChAns3bs3ww38vvnmG+BhFvPffvstXb2zszPOzs6mzwcOHODw4cNMmzbNVLZz505q1apFu3btAPD19aVt27amJewiIiKSu2V7FvLbt2/Trl07Jk+ejLe399ON7v+bOXMmJUuWpHbt2qaywMBAoqOj+fXXXwE4deoUP/30E02aNMmWa4qIiEjO9sQJOjPLQt6/f38CAwNp0aJFtgzw7t27LFiwgCFDhpiVt2vXjqtXr/Lqq69iNBp58OABPXv21OMqERERAbI5C/mqVavYvHkz+/fvz5bBAaxYsYJbt27RsWNHs/LIyEi++OILpkyZQo0aNYiNjaVv376MHj2aoUOHZthXcnIyycnJZmVGo1H5q0RERCxQtmYh37x5MydPnsTd3d2UZRygVatW6VJBPK6ZM2fSrFkzChQoYFY+dOhQ3nvvPbp160a5cuV44403+OKLLwgLCyM1NTXDvsLCwnBzczM7jKm3nmhcIiIi8mLL1izkQ4YMoVu3bmZl5cqVY+LEiTRv3jzLgzt9+jRbtmxh1apV6epu376NlZV5jGZtbW0aZ0ZCQ0NNOa7SeOQrleVxiYiIyIsvW7OQe3t7Z/iycdGiRc0CotjYWBITE4mPj+fOnTvExMQAUKZMGezs7EztZs2ahY+PD40bN07XZ/Pmzfnqq6+oVKmS6XHV0KFDad68uSnY+St7e3vs7e3NyvSoSkRExDJlKUFnZgFBWhbyzM5ZsWIFLVu2NJXVrVuXqKiodG3/nKk8NTWVYsWK0aFDBz7//PN0bR88eMDnn3/OvHnzuHDhAp6enjRv3pzPP/8cd3f3x52SEnSKiIjkQI+ToFNZyBXkiIiI5DjKQi4iIiK5loIcERERsUgKckRERMQiZXsW8rp166bLHt6zZ0+zNps2bSIwMBAXFxe8vb0ZPHgwDx48MGvz22+/Ubt2bRwcHChSpAhjx441q589e3a66zg4OGRlOiIiImLBnkkW8u7du5tlEP9zgHLgwAGaNGlCSEgI+/fvZ/HixaxatcosbcPNmzdp1KgRxYoVIzo6mnHjxjFixAhmzJhhdh1XV1ez65w9e/ZJvgMRERGxQM8kC3mePHkyTc65ePFiypcvz7BhwwAoUaIEY8eOpXXr1gwfPhwXFxcWLFjAvXv3mDVrFnZ2dpQtW5aYmBi++uorevToYerLYDBkWxJQERERsSzZnoUcYMGCBeTPn59XXnmF0NBQbt++bapLTk5O91jJ0dGRu3fvEh0dDcCuXbuoU6eO2caAwcHBHDt2jOvXr5vKEhMTKVasGEWKFKFFixb8/vvvTzMdERERsSBPHORkloW8Xbt2zJ8/ny1bthAaGsq8efN49913TfXBwcHs3LmT7777jpSUFC5cuMCoUaMAiIuLAyA+Pj5drqq0z2m7LPv7+zNr1ixWrlzJ/PnzSU1NJTAwkPPnzz/plERERMSCZGsWcsDscVK5cuXw8fGhQYMGnDx5kuLFi9OoUSPGjRtHz549ee+997C3t2fo0KFs27YtXS6qRwkICCAgIMD0OTAwkNKlSzN9+nRGjx6d4TnKQi4iIpJ7ZGsW8ozUqFEDeJivKs2AAQO4ceMG586d4+rVq7Ro0QKAl156CQBvb28uXbpk1k/a58zewbG1taVSpUpm1/krZSEXERHJPbIU5BiNRj788ENWrFjB5s2b02Uhz0ha8k0fHx+zcoPBQMGCBXF0dOS7776jSJEiVK5cGXh4l2br1q3cv3/f1H7jxo34+/vj4eGR4XVSUlI4ePBguuv8WWhoKAkJCWaHwcrlb+cgIiIiOU+2ZiE/efIkCxcupEmTJuTLl4/ffvuN/v37U6dOHcqXL2/qZ9y4cYSEhGBlZcXy5csZM2YMS5YsMWUPb9euHSNHjqRr164MHjyYQ4cO8fXXXzNx4kRTH6NGjaJmzZqUKFGCGzduMG7cOM6ePUu3bt0yHb+ykIuIiOQe2ZqF/L///S/vvvsuhw4dIikpiSJFivDGG2/w6aef4urqampfv3599u3bR3JyMhUqVGD48OE0btzYrM/ffvuNXr16sWfPHvLnz0/v3r0ZPHiwqb5///4sX76c+Ph4PDw8qFKlCp999hmVKlXK0hegBJ0iIiI5j7KQPwYFOSIiIjmPspCLiIhIrqUgR0RERCySghwRERGxSNmahfzMmTPpMoOnHUuXLjXra/bs2ZQvXx4HBwe8vLzo1auXqe7YsWPUq1ePAgUK4ODgwEsvvcSnn35qtqT8P//5D7Vr18bDwwMPDw+CgoL49ddfn/R7EBEREQuTpSXkaVnIq1WrxoMHD/j4449p1KgRhw8fxsnJiSJFiphSM6SZMWMG48aNM1s99dVXXzFhwgTGjRtHjRo1SEpK4syZM6Z6W1tbOnToQOXKlXF3d+fAgQN0796d1NRUvvjiCwAiIyNp27YtgYGBODg48OWXX9KoUSN+//13ChXSy8QiIiK53VOtrrpy5QpeXl5ERUWZZSH/s0qVKlG5cmXCw8MBuH79OoUKFWL16tU0aNDgsa81YMAA9uzZw7Zt2zKsT0lJwcPDg3//+9906NDhsfvV6ioREZGc55mvrsosC3ma6OhoYmJi6Nq1q6ls48aNpKamcuHCBUqXLk3hwoVp3bo1//3vfzO9TmxsLOvWreO1117LtM3t27e5f/9+pmMRERGR3CXbs5D/WXh4OKVLlyYwMNBUdurUKdNjp0mTJrFs2TKuXbtGw4YNuXfvntn5aY+iXn75ZWrXrm3KVp6RwYMHU7BgQYKCgp50SiIiImJBnjjISctCvmjRogzr79y5w8KFC83u4sDD4Oj+/ft88803BAcHU7NmTb777jtOnDjBli1bzNouXryYffv2sXDhQn788UfGjx+f4bXGjBnDokWLWLFiBQ4ODpmOOTk5mZs3b5oduXwvRBEREYuVpReP06RlId+6dWumWciXLVvG7du3070fk5ZAs0yZMqYyT09P8ufPz7lz58zaFilSxNQ2JSWFHj168NFHH5lyXAGMHz+eMWPG8PPPP5vlx8pIWFgYI0eONCszWDljsHbN5AwRERHJqZ5ZFvLw8HBef/11PD09zcpr1aoFYLb0/Nq1a1y9epVixYpl2l/aHaDU1FRT2dixYxk9ejTr1q2jatWqfzt+ZSEXERHJPbK0uupf//qXKQu5v7+/qTwtC3ma2NhYSpYsyU8//URISEi6flq2bElsbCwzZszA1dWV0NBQTp06RUxMDLa2tixYsABbW1vKlSuHvb09e/fupX///tSrV4/58+cD8OWXXzJs2DAWLlxoCpwAnJ2dcXZ2fuwvQKurREREcp5sT9D5d1nI03z88cfMnz+fM2fOYGWV/mbRzZs3TVnErayseO211/j6669Nj6cWL17M2LFjOX78OEajkWLFivHuu+/Sv39/0zs3vr6+nD17Nl3fw4cPZ8SIEY87JQU5IiIiOZCykD8GBTkiIiI5j7KQi4iISK6lIEdEREQskoIcERERsUgKckRERMQiZSnICQsLo1q1ari4uODl5UXLli3N9rsBOHnyJG+88Qaenp64urrSunVrLl26ZNbm9ddfp2jRojg4OODj48N7773HxYsXTfVnzpzBYDCkO3755RdTm/v37zNq1CiKFy+Og4MDFSpUYN26dU/yHYiIiIgFylKQExUVRa9evfjll1/YuHEj9+/fp1GjRiQlJQGQlJREo0aNMBgMbN68mR07dnDv3j2aN29utolfvXr1WLJkCceOHeP777/n5MmTvPXWW+mu9/PPPxMXF2c6qlSpYqr79NNPmT59Ot9++y2HDx+mZ8+evPHGG+zfv/9JvwsRERGxIE+1hPzKlSt4eXkRFRVFnTp12LBhA40bN+b69eu4uj5MlZCQkICHhwcbNmzINHnmqlWraNmyJcnJydja2nLmzBn8/PzYv38/FStWzPCcggUL8sknn9CrVy9TWatWrXB0dDRtGPg4tIRcREQk53nmS8gTEhIAyJs3L/AwAabBYMDe3t7UxsHBASsrK7Zv355hH9euXWPBggUEBgZia2trVvf666/j5eXFq6++yqpVq8zqkpOT0yXjdHR0zPQ6IiIikrs8cZCTmppKv379qFWrFq+88goANWvWxMnJicGDB3P79m2SkpIYOHAgKSkpxMXFmZ0/ePBgnJycyJcvH+fOnWPlypWmOmdnZyZMmMDSpUv58ccfefXVV2nZsqVZoBMcHMxXX33FiRMnSE1NZePGjSxfvjzddf5MWchFRERyjyd+XPXBBx+wdu1atm/fbpaJfMOGDXzwwQecPn0aKysr2rZty+HDh6levTpTp041tbt69SrXrl3j7NmzjBw5Ejc3N9asWZNp6ogOHTpw+vRptm3bBjx8VNa9e3dWr16NwWCgePHiBAUFMWvWLO7cuZNhHyNGjMgwC7mVspCLiIjkKM8srcOHH37IypUr2bp1a6aZyK9evYqNjQ3u7u54e3vz0UcfMWjQoAzbnj9/niJFirBz504CAgIybDN58mQ+++yzdHdq7t69yx9//EHBggUZMmQIa9as4ffff8+wj+TkZJKTk83KPPKVyjSwEhERkRfT4wQ5Nlnp0Gg00rt3b1asWEFkZGSmAQ5A/vz5Adi8eTOXL1/m9ddfz7Rt2sqrvwYgfxYTE4OPj0+6cgcHBwoVKsT9+/f5/vvvad26daZ92Nvbm70vBJknHRUREZGcLUtBTq9evVi4cCErV67ExcWF+Ph4ANzc3HB0dAQeZiQvXbo0np6e7Nq1i759+9K/f3/8/f0B2L17N3v27OHVV1/Fw8ODkydPMnToUIoXL266izNnzhzs7OyoVKkSAMuXL2fWrFnMnDnTNJbdu3dz4cIFKlasyIULFxgxYgSpqan83//939N/KyIiIpLjZSnISXunpm7dumblERERdOrUCYBjx44RGhrKtWvX8PX15ZNPPqF///6mtnny5GH58uUMHz6cpKQkfHx8CAkJ4dNPPzW7yzJ69GjOnj2LjY0NpUqVYvHixWZ76dy9e5dPP/2UU6dO4ezsTJMmTZg3bx7u7u5Z/ApERETEEj3VPjmWQPvkiIiI5DzPfJ8cERERkReVghwRERGxSApyRERExCJlKciZOnUq5cuXx9XVFVdXVwICAli7dq2pfsaMGdStWxdXV1cMBgM3btxI18e1a9do3749rq6uuLu707VrVxITE83arF+/npo1a+Li4oKnpyetWrXizJkzZm2Sk5P55JNPKFasGPb29vj6+jJr1qysTEdEREQsWJaCnMKFCzNmzBiio6PZu3cv9evXp0WLFqbN927fvk1ISAgff/xxpn20b9+e33//nY0bN7JmzRq2bt1Kjx49TPWnT5+mRYsW1K9fn5iYGNavX8/Vq1d58803zfpp3bo1mzZtIjw8nGPHjvHdd9+ZlqmLiIiIPPXqqrx58zJu3Di6du1qKouMjKRevXpcv37dbEn3kSNHKFOmDHv27KFq1aoArFu3jiZNmnD+/HkKFizIsmXLaNu2LcnJyVhZPYzBVq9eTYsWLUxZytetW8c777zDqVOnTMlBn5RWV4mIiOQ8z3R1VUpKCosWLSIpKSnTVAx/tWvXLtzd3U0BDkBQUBBWVlbs3r0bgCpVqmBlZUVERAQpKSkkJCQwb948goKCTFnKV61aRdWqVRk7diyFChWiZMmSDBw4MNOcVSIiIpL7ZGkzQICDBw8SEBDA3bt3cXZ2ZsWKFZQpU+axzo2Pj8fLy8t8ADY25M2b17R7sp+fHxs2bKB169a8//77pKSkEBAQwE8//WQ659SpU2zfvh0HBwdWrFjB1atX+de//sUff/xBREREVqckIiIiFijLd3L8/f2JiYlh9+7dfPDBB3Ts2JHDhw9n24Di4+Pp3r07HTt2ZM+ePURFRWFnZ8dbb71F2pO11NRUDAYDCxYsoHr16jRp0oSvvvqKOXPmPPJuTnJyMjdv3jQ7cvleiCIiIhYry0GOnZ0dJUqUoEqVKoSFhVGhQgW+/vrrxzrX29uby5cvm5U9ePCAa9eu4e3tDTzMNu7m5sbYsWOpVKkSderUYf78+WzatMn0SMvHx4dChQrh5uZm6qd06dIYjUbOnz+f6fXDwsJwc3MzO4ypt7L6FYiIiEgO8NT75KSmpj4ye/ifBQQEcOPGDaKjo01lmzdvJjU1lRo1agAPV2ilvXCcxtra2nQtgFq1anHx4kWzpefHjx/HysqKwoULZ3r90NBQEhISzA6DlcvjTVRERERylCwFOaGhoWzdupUzZ85w8OBBQkNDiYyMpH379sDDR00xMTHExsYCD9/fiYmJ4dq1a8DDuy0hISF0796dX3/9lR07dvDhhx/yzjvvULBgQQCaNm3Knj17GDVqFCdOnGDfvn107tyZYsWKmbKSt2vXjnz58tG5c2cOHz7M1q1bGTRoEF26dDFlQ8+Ivb29aY+ftMNgMGT9WxMREZEXXpaCnMuXL9OhQwf8/f1p0KABe/bsYf369TRs2BCAadOmUalSJbp37w5AnTp1qFSpEqtWrTL1sWDBAkqVKkWDBg1o0qQJr776KjNmzDDV169fn4ULF/LDDz9QqVIlQkJCsLe3Z926daYAxtnZmY0bN3Ljxg2qVq1K+/btad68Od98881TfyEiIiJiGZSFXPvkiIiI5DjKQi4iIiK5loIcERERsUgKckRERMQiZVsW8mvXrtG7d2/8/f1xdHSkaNGi9OnTh4SEBLM+9uzZQ4MGDXB3d8fDw4Pg4GAOHDhgqr979y6dOnWiXLly2NjY0LJly3Tj2L59O7Vq1SJfvnw4OjpSqlQpJk6c+ATTFxEREUuVbVnIL168yMWLFxk/fjyHDh1i9uzZrFu3zixxZ2JiIiEhIRQtWpTdu3ezfft2XFxcCA4O5v79+8DDnFiOjo706dOHoKCgDMfh5OTEhx9+yNatWzly5Aiffvopn376qdkqLREREcndnkkW8jRLly7l3XffJSkpCRsbG/bu3Uu1atU4d+4cRYoUAR7upVO+fHlOnDhBiRIlzM7v1KkTN27c4Icffvjbcbz55ps4OTkxb968LI1fq6tERERynueehTwhIQFXV1dsbB7mAfX39ydfvnyEh4dz79497ty5Q3h4OKVLl8bX1/dJh8L+/fvZuXMnr7322hP3ISIiIpblmWUhv3r1KqNHj6ZHjx6mMhcXFyIjI2nZsiWjR48G4OWXX2b9+vWmQCgrChcuzJUrV3jw4AEjRoygW7duWe5DRERELNMzyUJ+8+ZNmjZtSpkyZRgxYoSp/M6dO3Tt2pVatWrxyy+/sGPHDl555RWaNm36yOzhmdm2bRt79+5l2rRpTJo0ie++++6R7ZWFXEREJPd46ndygoKCKF68ONOnTwfg1q1bBAcHkydPHtasWYODg4OpbXh4OB9//DFxcXGmJJz37t3Dw8OD8PBw3nnnHbO+s/JOzmeffca8efM4duxYpm1GjBjByJEjzcoMVs5YWbs+7nRFRETkBfCP7Hj85yzkN2/epFGjRtjZ2bFq1SqzAAf+l2H8z0kx0z6nZRjPjnFkRlnIRUREco8svQgTGhpK48aNKVq0KLdu3WLhwoVERkayfv16U4Bz+/Zt5s+fb3ocBODp6Ym1tTUNGzZk0KBB9OrVi969e5OamsqYMWOwsbGhXr16puscPnyYe/fuce3aNW7dukVMTAwAFStWBGDy5MkULVqUUqVKAbB161bGjx9Pnz59Hjl+e3t77O3tzcqUhVxERMQyZSnISctCHhcXh5ubG+XLlzdlIY+MjGT37t0A6ZaCnz59Gl9fX0qVKsXq1asZOXIkAQEBWFlZUalSJdatW4ePj4+pfZMmTTh79qzpc6VKlQBM78+kpqYSGhrK6dOnsbGxoXjx4nz55Ze8//77T/YtiIiIiMVRFnLtkyMiIpLjKAu5iIiI5FoKckRERMQiKcgRERERi5TlIOdRmcj/zGg00rhxYwwGQ7p9bgwGQ7pj0aJFGV5vx44d2NjYmFZW/dnkyZPx9fXFwcGBGjVq8Ouvv2Z1OiIiImKhshzkPCoT+Z9NmjTpkcuzIyIiiIuLMx0tW7ZM1+bGjRt06NCBBg0apKtbvHgxAwYMYPjw4ezbt48KFSoQHBzM5cuXszolERERsUDZsrrqr5nIY2JiaNasGXv37sXHx4cVK1aYBTEGgyFdWUbeeecdXn75Zaytrfnhhx9M++UA1KhRg2rVqvHvf/8beLisvEiRIvTu3ZshQ4Y89ti1ukpERCTneearqzLKRH779m3atWvH5MmT8fb2zvTcXr16kT9/fqpXr86sWbPS5ZCKiIjg1KlTDB8+PN259+7dIzo6mqCgoP9NxMqKoKAgdu3a9TRTEhEREQuR9dTfPDoTef/+/QkMDKRFixaZnj9q1Cjq169Pnjx52LBhA//6179ITEw07Vh84sQJhgwZwrZt2zLMTn716lVSUlIoUKCAWXmBAgU4evTok0xJRERELMwTBTlpmcgTEhJYtmwZHTt2JCoqitjYWDZv3sz+/fsfef7QoUNN/1ypUiWSkpIYN24cffr0ISUlhXbt2jFy5EhKliz5JMPLVHJycrr8VkajUakdRERELFC2vJOTlonc0dGRb775xpRhHB4+0rKysqJ27dpERkZmeP6PP/5Is2bNuHv3Lnfu3MHDwwNra2tTfWpqKkajEWtrazZs2MCrr75Knjx5WLZsmdl7PR07duTGjRusXLkyw+soC7mIiIhl+Md2PE7LAD5kyBB+++03YmJiTAfAxIkTiYiIyPT8mJgYPDw8sLe3x9XVlYMHD5r10bNnT9Pdoxo1amBnZ0eVKlXYtGmT2Rg2bdpkejcoI8pCLiIikntk+XHVozKRe3t7Z/iycdGiRfHz8wNg9erVXLp0iZo1a+Lg4MDGjRv54osvGDhwIPDwBeJXXnnF7HwvLy8cHBzMygcMGEDHjh2pWrUq1atXZ9KkSSQlJdG5c+dMx64s5CIiIrlHloOcR2Uifxy2trZMnjyZ/v37YzQaKVGiBF999RXdu3fP0jjatGnDlStXGDZsGPHx8VSsWJF169alexlZREREcidlIdc+OSIiIjmOspCLiIhIrqUgR0RERCySghwRERGxSApyRERExCJlKciZOnUq5cuXx9XVFVdXVwICAli7dq1Zm127dlG/fn2cnJxwdXWlTp063LlzB4AzZ87QtWtX/Pz8cHR0pHjx4gwfPpx79+6Z9WE0Ghk/fjwlS5bE3t6eQoUK8fnnn5vqO3XqhMFgSHeULVv2Sb8HERERsTBZWkJeuHBhxowZw8svv4zRaGTOnDm0aNGC/fv3U7ZsWXbt2kVISAihoaF8++232NjYcODAAdMOyEePHiU1NZXp06dTokQJDh06RPfu3UlKSmL8+PGm6/Tt25cNGzYwfvx4ypUrx7Vr17h27Zqp/uuvv2bMmDGmzw8ePKBChQq8/fbbT/t9iIiIiIV46iXkefPmZdy4cXTt2pWaNWvSsGFDRo8e/djnjxs3jqlTp3Lq1CkAjhw5Qvny5Tl06BD+/v6P1ccPP/zAm2++yenTpylWrFiWxq8l5CIiIjnPM11CnpKSwqJFi0hKSiIgIIDLly+ze/duvLy8CAwMpECBArz22mts3779kf0kJCSQN29e0+fVq1fz0ksvsWbNGvz8/PD19aVbt25md3L+Kjw8nKCgoCwHOCIiImK5shzkHDx4EGdnZ+zt7enZsycrVqygTJkypjsxI0aMoHv37qxbt47KlSvToEEDTpw4kWFfsbGxfPvtt7z//vumslOnTnH27FmWLl3K3LlzmT17NtHR0bz11lsZ9nHx4kXWrl1Lt27d/nbsycnJ3Lx50+zI5XshioiIWKwsBzlpiTJ3797NBx98QMeOHTl8+DCpqakAvP/++3Tu3JlKlSoxceJE/P39mTVrVrp+Lly4QEhICG+//bZZSoe0ZJ9z586ldu3a1K1bl/DwcLZs2cKxY8fS9TNnzhzc3d3NspFnJiwsDDc3N7PDmHorq1+BiIiI5ABZDnLs7OwoUaIEVapUISwsjAoVKvD111/j4+MDQJkyZczaly5dmnPnzpmVXbx4kXr16hEYGMiMGTPM6nx8fLCxsaFkyZJmfQDp+jEajcyaNYv33nsPOzu7vx27spCLiIjkHk+9T07anRdfX18KFiyY7m7L8ePHzd6VuXDhAnXr1qVKlSpERESYVl6lqVWrFg8ePODkyZNmfQDp3rmJiooiNjaWrl27PtZY7e3tTcvf0w5lIRcREbFMWVpCHhoaSuPGjSlatCi3bt1i4cKFREZGsn79egwGA4MGDWL48OFUqFCBihUrMmfOHI4ePcqyZcuA/wU4xYoVY/z48Vy5csXUt7e3NwBBQUFUrlyZLl26MGnSJFJTU+nVqxcNGzY0u7sDD184rlGjBq+88srTfg8iIiJiYbIU5Fy+fJkOHToQFxeHm5sb5cuXZ/369TRs2BCAfv36cffuXfr378+1a9eoUKECGzdupHjx4gBs3LiR2NhYYmNjKVy4sFnfaS8AW1lZsXr1anr37k2dOnVwcnKicePGTJgwwax9QkIC33//PV9//fUTT15EREQs11Pvk5PTaZ8cERGRnOeZ7pMjIiIi8iJTkCMiIiIWSUGOiIiIWKRsy0J+5syZDDODGwwGli5daupj06ZNBAYG4uLigre3N4MHD+bBgwdm11myZAkVK1YkT548FCtWjHHjxmU6ph07dmBjY0PFihWzMhURERGxcFkKctKykEdHR7N3717q169PixYt+P333ylSpAhxcXFmx8iRI3F2dqZx48YAHDhwgCZNmhASEsL+/ftZvHgxq1atYsiQIaZrrF27lvbt29OzZ08OHTrElClTmDhxIv/+97/TjefGjRt06NCBBg0aPOXXICIiIpYmW7OQ/1WlSpWoXLky4eHhAHz88cds3LiRPXv2mNqsXr2a1q1bc/nyZVxcXGjXrh337983u/vz7bffMnbsWM6dO2e2ed8777zDyy+/jLW1NT/88AMxMTFZHr9WV4mIiOQ8/2gW8r+Kjo4mJibGLPhJTk7GwcHBrJ2joyN3794lOjr6kW3Onz/P2bNnTWURERGcOnWK4cOHP+kURERExIJlWxbyvwoPD6d06dIEBgaayoKDg9m5cyffffcdKSkpXLhwgVGjRgEQFxdnarN8+XI2bdpEamoqx48fN20EmNbmxIkTDBkyhPnz52Nj8/j7GSoLuYiISO6RbVnI/+zOnTssXLgw3SOsRo0aMW7cOHr27Im9vT0lS5akSZMmDwfy/3NYde/enQ8//JBmzZphZ2dHzZo1eeedd0xtUlJSaNeuHSNHjkyX5uHvKAu5iIhI7vHU7+QEBQVRvHhxpk+fbiqbN28eXbt25cKFC3h6eqY7x2g0EhcXh4eHB2fOnKFMmTL8+uuvVKtWzdQmJSWF+Ph4PD092bRpE02aNOHy5cvY2tri4eGBtbW1qW1qaipGoxFra2s2bNhA/fr1MxxrcnIyycnJZmUe+UopSaeIiEgO8zjv5GQpd1VG0rKQ/1l4eDivv/56hgEOgMFgoGDBggB89913FClShMqVK5u1sba2plChQqY2AQEBeHp6kpqaysGDB83aTpkyhc2bN7Ns2TL8/PwyHau9vT329vbpxiIiIiKWJ9uykKeJjY1l69at/PTTTxn2MW7cOEJCQrCysmL58uWMGTOGJUuWmO7MXL16lWXLllG3bl3u3r1LREQES5cuJSoqCnj4yOqvWce9vLxwcHBQNnIRERExydYs5ACzZs2icOHCNGrUKMM+1q5dy+eff05ycjIVKlRg5cqVpn100syZM4eBAwdiNBoJCAggMjKS6tWrP8H0REREJLdSFnLtkyMiIpLjKAu5iIiI5FoKckRERMQiKcgRERERi5RtWcgBTp48yRtvvIGnpyeurq60bt2aS5cumeojIyMzzVSels8qMjKSFi1a4OPjg5OTExUrVmTBggVm4/j9999p1aoVvr6+GAwGJk2a9BRfgYiIiFiibMtCnpSURKNGjTAYDGzevJkdO3Zw7949mjdvTmpqKgCBgYHpMpV369YNPz8/qlatCsDOnTspX74833//Pb/99hudO3emQ4cOrFmzxjSO27dv89JLLzFmzBi8vb2z8esQERERS5FtWciLFClC48aNuX79Oq6urgAkJCTg4eHBhg0bCAoKSnfu/fv3KVSoEL1792bo0KGZXqNp06YUKFCAWbNmpavz9fWlX79+9OvX74nGr9VVIiIiOc8/moU8OTkZg8FgtqOwg4MDVlZWbN++PcM+Vq1axR9//EHnzp0fea2EhATy5s37pEMVERGRXCjbspDXrFkTJycnBg8ezO3bt0lKSmLgwIGkpKSYsof/VXh4OMHBwRQuXDjT6y1ZsoQ9e/b8bSAkIiIi8mfZloXc09OTpUuXsnr1apydnXFzc+PGjRtUrlzZlGH8z86fP8/69evTZSr/sy1bttC5c2f+85//ULZs2awONZ3k5GRu3rxpduTyvRBFREQsVpYTdNrZ2VGiRAkAqlSpwp49e/j666+ZPn06jRo14uTJk1y9ehUbGxvc3d3x9vbmpZdeStdPREQE+fLl4/XXX8/wOlFRUTRv3pyJEyfSoUOHrA4zQ2FhYYwcOdKszGDljMHaNVv6FxERkRfHU++Tk1EW8vz58+Pu7s7mzZu5fPlyukDGaDQSERFBhw4dsLW1TddnZGQkTZs25csvv6RHjx5PO0ST0NBQEhISzA6DlUu29S8iIiIvjmzNQh4REUHp0qXx9PRk165d9O3bl/79++Pv72/Wz+bNmzl9+jTdunVLd40tW7bQrFkz+vbtS6tWrYiPjwce3kFKe/n43r17HD582PTPFy5cICYmBmdnZ9NdpozY29ubvRgNYDAYsvIViIiISA6RpSXkXbt2ZdOmTWZZyAcPHmzKQj5kyBBmz57NtWvX8PX1pWfPnvTv3z9dINGuXTvOnj3Ljh070l2jU6dOzJkzJ135a6+9RmRkJABnzpzBz8/vkW0el5aQi4iI5DyPs4RcWcgV5IiIiOQ4ykIuIiIiuZaCHBEREbFICnJERETEIj1VkDNmzBgMBoNZ3qgZM2ZQt25dXF1dMRgM3LhxI9Pzk5OTqVixIgaDgZiYmAzbxMbG4uLigru7e7q6SZMm4e/vj6OjI0WKFKF///7cvXv3aaYkIiIiFuKJg5w9e/Ywffp0ypcvb1Z++/ZtQkJC+Pjjj/+2j//7v/+jYMGCmdbfv3+ftm3bUrt27XR1CxcuZMiQIQwfPpwjR44QHh7O4sWLH+u6IiIiYvmeKMhJTEykffv2/Oc//8HDw8Osrl+/fgwZMoSaNWs+so+1a9eyYcMGxo8fn2mbTz/9lFKlStG6det0dTt37qRWrVq0a9cOX19fGjVqRNu2bfn111+fZEoiIiJiYZ4oyOnVqxdNmzYlKCjoiS566dIlunfvzrx588iTJ0+GbTZv3szSpUuZPHlyhvWBgYFER0ebgppTp07x008/0aRJkycak4iIiFiWLOeuWrRoEfv27WPPnj1PdEGj0UinTp3o2bMnVatW5cyZM+na/PHHH3Tq1In58+fj6ppxXql27dpx9epVXn31VYxGIw8ePKBnz556XCUiIiJAFu/k/Pe//6Vv374sWLAABweHJ7rgt99+y61btwgNDc20Tffu3WnXrh116tTJtE1kZCRffPEFU6ZMYd++fSxfvpwff/yR0aNHZ3qOspCLiIjkHlna8fiHH37gjTfewNra2lSWkpKCwWDAysqK5ORkU11kZCT16tXj+vXrZiujWrZsyerVq81SPaSkpGBtbU379u2ZM2cO7u7uJCYmmuqNRiOpqalYW1szY8YMunTpQu3atalZsybjxo0ztZs/fz49evQgMTERK6v08duIESMyzEJupSzkIiIiOcrj7HicpcdVDRo04ODBg2ZlnTt3plSpUgwePNgs+MnMN998w2effWb6fPHiRYKDg1m8eDE1atQAYNeuXaSkpJjarFy5ki+//JKdO3dSqNDDNAy3b99OF8ikXT+zuC00NJQBAwaYlXnkK/W3YxYREZGcJ0tBjouLC6+88opZmZOTE/ny5TOVx8fHEx8fT2xsLAAHDx7ExcWFokWLkjdvXooWLWp2vrOzMwDFixencOHCAJQuXdqszd69e7GysjK7dvPmzfnqq6+oVKkSNWrUIDY2lqFDh9K8efNMgy1lIRcREck9svzi8d+ZNm2a2SOhtPdqIiIi6NSpU7Zd59NPP8VgMPDpp59y4cIFPD09ad68OZ9//nm2XUNERERyLmUhVxZyERGRHEdZyEVERCTXUpAjIiIiFklBjoiIiFikbM9C/v7771O8eHEcHR3x9PSkRYsWHD161Oy8Pn36UKVKFezt7alYsWK6fkeMGIHBYEh3ODk5mdrMnj07Xf2TblAoIiIilifbs5BXqVKFiIgIjhw5wvr16zEajTRq1Mhs3xuALl260KZNmwz7HjhwIHFxcWZHmTJlePvtt83aubq6mrU5e/bsk05HRERELMwTLSH/cxbyP2/sB9CjRw/TP/v6+vLZZ59RoUIFzpw5Q/HixYGHGwICXLlyhd9++y1d/87Ozqb9cwAOHDjA4cOHmTZtmlk7g8GAt7f3k0xBRERELNwzzUKelJREREQEfn5+FClS5IkGCDBz5kxKlixJ7dq1zcoTExMpVqwYRYoUoUWLFvz+++9PfA0RERGxLFkOctKykIeFhWXaZsqUKaa7MWvXrmXjxo3Y2dk90QDv3r3LggUL6Nq1q1m5v78/s2bNYuXKlcyfP5/U1FQCAwM5f/78E11HRERELMszyULevn179u/fT1RUFCVLlqR169bcvXv3iQa4YsUKbt26RceOHc3KAwIC6NChAxUrVuS1115j+fLleHp6Mn369Ez7UhZyERGR3CNLQU50dDSXL1+mcuXK2NjYYGNjQ1RUFN988w02Njaml4vd3Nx4+eWXqVOnDsuWLePo0aOsWLHiiQY4c+ZMmjVrRoECBR7ZztbWlkqVKplyZmUkLCwMNzc3s8OYeuuJxiUiIiIvtiwFOWlZyGNiYkxH1apVad++PTExMRkmxjQajRiNRpKTk7M8uNOnT7Nly5Z0j6oykpKSwsGDB/Hx8cm0TWhoKAkJCWaHwcoly+MSERGRF1+2ZiE/deoUixcvplGjRnh6enL+/HnGjBmDo6MjTZo0MZ0TGxtLYmIi8fHx3Llzh5iYGADKlClj9u7OrFmz8PHxoXHjxunGMmrUKGrWrEmJEiW4ceMG48aN4+zZs3Tr1i3T8SsLuYiISO6RrVnIHRwc2LZtG5MmTeL69esUKFCAOnXqsHPnTry8vEztunXrRlRUlOlzpUqVgId3bnx9fQFITU1l9uzZdOrUKcM7RNevX6d79+7Ex8fj4eFBlSpV2LlzJ2XKlMnOKYmIiEgOpSzkykIuIiKS4ygLuYiIiORaCnJERETEIinIEREREYukIEdEREQskoIcERERsUgKckRERMQiKcgRERERi6QgR0RERCySghwRERGxSLl+x2NLkJycTFhYGKGhoelyc8k/S7/Fi0O/xYtDv8WLI7f9FgpyLMDNmzdxc3MjISEBV1fX5z2cXE2/xYtDv8WLQ7/FiyO3/RZ6XCUiIiIWSUGOiIiIWCQFOSIiImKRFORYAHt7e4YPH54rXiJ70em3eHHot3hx6Ld4ceS230IvHouIiIhF0p0cERERsUgKckRERMQiKcgRERERi6QgJweIjIzEYDBw48aNR7bz9fVl0qRJ/8iYRJ63x/nfu/4m/hl169alX79+z3sYuUpWvvPH/W/I38mJf08Kcl5Af/0fb2BgIHFxcbi5uQEwe/Zs3N3dn8/gcpln8S9v/Qfhn7Nnzx569OiRbf3lxH/Jv2iy6z+4Io/D5nkPQP6enZ0d3t7ez3sYIjmOp6fn8x6CiDxHupPzgunUqRNRUVF8/fXXGAwGDAYDs2fPNv0/n8jISDp37kxCQoKpfsSIERn2dePGDbp164anpyeurq7Ur1+fAwcO/LMTysEy+i3OnDnDoUOHaNy4Mc7OzhQoUID33nuPq1evAg//X6qdnR3btm0z9TN27Fi8vLy4dOlSpn3mVsuWLaNcuXI4OjqSL18+goKCSEpKyvBuV8uWLenUqZNZ2a1bt2jbti1OTk4UKlSIyZMnm9X/9c7L4/xNrF69mmrVquHg4ED+/Pl54403gId34M6ePUv//v1Nv11ulJSURIcOHXB2dsbHx4cJEyaY1c+bN4+qVavi4uKCt7c37dq14/LlywCcOXOGevXqAeDh4YHBYDD9pqmpqYSFheHn54ejoyMVKlRg2bJl/+jccqpHfed/tmPHDsqXL4+DgwM1a9bk0KFDZvXbt2+ndu3aODo6UqRIEfr06UNSUtI/NY1nQkHOC+brr78mICCA7t27ExcXR1xcHEWKFDHVBwYGMmnSJFxdXU31AwcOzLCvt99+m8uXL7N27Vqio6OpXLkyDRo04Nq1a//UdHK0jH4LFxcX6tevT6VKldi7dy/r1q3j0qVLtG7dGvjfo6j33nuPhIQE9u/fz9ChQ5k5cyYFChT42983N4mLi6Nt27Z06dKFI0eOEBkZyZtvvklWtu4aN24cFSpUYP/+/QwZMoS+ffuycePGTNv/3d/Ejz/+yBtvvEGTJk3Yv38/mzZtonr16gAsX76cwoULM2rUKNNvlxsNGjSIqKgoVq5cyYYNG4iMjGTfvn2m+vv37zN69GgOHDjADz/8wJkzZ0yBTJEiRfj+++8BOHbsGHFxcXz99dcAhIWFMXfuXKZNm8bvv/9O//79effdd4mKivrH55jTPOo7/7NBgwYxYcIE9uzZg6enJ82bN+f+/fsAnDx5kpCQEFq1asVvv/3G4sWL2b59Ox9++OE/PJtsZpQXzmuvvWbs27ev6fOWLVuMgPH69etGo9FojIiIMLq5uaU7r1ixYsaJEycajUajcdu2bUZXV1fj3bt3zdoUL17cOH369Gc0csvz199i9OjRxkaNGpm1+e9//2sEjMeOHTMajUZjcnKysWLFisbWrVsby5QpY+zevfsj+8ytoqOjjYDxzJkz6eoy+o5atGhh7Nixo+lzsWLFjCEhIWZt2rRpY2zcuLFZm6z8TQQEBBjbt2+f6Zj/3F9udOvWLaOdnZ1xyZIlprI//vjD6OjomOn/pvfs2WMEjLdu3TIajen/fWY0Go1379415smTx7hz506zc7t27Wps27Ztts/DEjzq3yOZfeeLFi0ytUn73RYvXmw0Gh9+1z169DDrZ9u2bUYrKyvjnTt3jEZjzvzfv97JsVAHDhwgMTGRfPnymZXfuXOHkydPPqdR5XwHDhxgy5YtODs7p6s7efIkJUuWxM7OjgULFlC+fHmKFSvGxIkTn8NIX3wVKlSgQYMGlCtXjuDgYBo1asRbb72Fh4fHY/cREBCQ7nNmLwY/zt9ETEwM3bt3z9pEcpGTJ09y7949atSoYSrLmzcv/v7+ps/R0dGMGDGCAwcOcP36dVJTUwE4d+4cZcqUybDf2NhYbt++TcOGDc3K7927R6VKlZ7BTCzL437nf/57Sfvdjhw5Ajz8+/jtt99YsGCBqY3RaCQ1NZXTp09TunTpf2g22UtBjoVKTEzEx8eHyMjIdHVamfXkEhMTad68OV9++WW6Oh8fH9M/79y5E4Br165x7do1nJyc/rEx5hTW1tZs3LiRnTt3smHDBr799ls++eQTdu/ejZWVVbrHVmm31Z/U4/xNODo6PtU1crukpCSCg4MJDg5mwYIFeHp6cu7cOYKDg7l3716m5yUmJgIPHxcWKlTIrC635Fh6Uk/6nf9VYmIi77//Pn369ElXV7Ro0ewc8j9KQc4LyM7OjpSUlCeuB6hcuTLx8fHY2Njg6+ubzSPMPf76XVeuXJnvv/8eX19fbGwy/vM5efIk/fv35z//+Q+LFy+mY8eO/Pzzz1hZWWXYZ25mMBioVasWtWrVYtiwYRQrVowVK1bg6elp9s5LSkoKhw4dMr20muaXX35J9zmz/8f5OH8T5cuXZ9OmTXTu3DnD+tz+2xUvXhxbW1t2795t+g/f9evXOX78OK+99hpHjx7ljz/+YMyYMaZ3zfbu3WvWh52dHYDZ91imTBns7e05d+4cr7322j80G8vwON95ml9++SXd75b291K5cmUOHz5MiRIl/pmB/0P04vELyNfXl927d3PmzBmuXr1quvX45/rExEQ2bdrE1atXuX37dro+goKCCAgIoGXLlmzYsIEzZ86wc+dOPvnkk0z/ACS9v/4WvXr14tq1a7Rt25Y9e/Zw8uRJ1q9fT+fOnUlJSSElJYV3332X4OBgOnfuTEREBL/99pvZCpS/+31zi927d/PFF1+wd+9ezp07x/Lly7ly5QqlS5emfv36/Pjjj/z4448cPXqUDz74IMN9VXbs2MHYsWM5fvw4kydPZunSpfTt2zfD6z3O38Tw4cP57rvvGD58OEeOHOHgwYNmd+18fX3ZunUrFy5cMK2oy02cnZ3p2rUrgwYNYvPmzRw6dIhOnTqZAviiRYtiZ2fHt99+y6lTp1i1ahWjR48266NYsWIYDAbWrFnDlStXSExMxMXFhYEDB9K/f3/mzJnDyZMn2bdvH99++y1z5sx5HlPNMR7nO08zatQoNm3aZPrd8ufPT8uWLQEYPHgwO3fu5MMPPyQmJoYTJ06wcuVKvXgs2e/YsWPGmjVrGh0dHY2AMSIiIt2Lej179jTmy5fPCBiHDx9uNBrTvxR28+ZNY+/evY0FCxY02traGosUKWJs37698dy5c//shHKwv/4Wp0+fNh4/ftz4xhtvGN3d3Y2Ojo7GUqVKGfv162dMTU01jhw50ujj42O8evWqqY/vv//eaGdnZ4yJicm0z9zo8OHDxuDgYKOnp6fR3t7eWLJkSeO3335rNBqNxnv37hk/+OADY968eY1eXl7GsLCwDF88HjlypPHtt9825smTx+jt7W38+uuvza7xJH8T33//vbFixYpGOzs7Y/78+Y1vvvmmqW7Xrl3G8uXLG+3t7Y259V+ft27dMr777rvGPHnyGAsUKGAcO3as2UuwCxcuNPr6+hrt7e2NAQEBxlWrVhkB4/79+019jBo1yujt7W00GAym3zQ1NdU4adIko7+/v9HW1tbo6elpDA4ONkZFRf3zk8wBsvKdp714vHr1amPZsmWNdnZ2xurVqxsPHDhg1uevv/5qbNiwodHZ2dno5ORkLF++vPHzzz831efEF48NRmMW1muKiOQgPj4+jB49mm7duj3voYjIc6B3ckTE4ty+fZsdO3Zw6dIlypYt+7yHIyLPid7JERGLM2PGDN555x369euXbpm5iOQeelwlIiIiFkl3ckRERMQiKcgRERERi6QgR0RERCySghwRERGxSApyRERExCIpyBERERGLpCBHRERELJKCHBEREbFICnJERETEIv0/MctuESEJImsAAAAASUVORK5CYII=\n"
          },
          "metadata": {}
        }
      ]
    },
    {
      "cell_type": "markdown",
      "source": [
        "### What did you know about your dataset?"
      ],
      "metadata": {
        "id": "H0kj-8xxnORC"
      }
    },
    {
      "cell_type": "markdown",
      "source": [
        "Answer Here"
      ],
      "metadata": {
        "id": "gfoNAAC-nUe_"
      }
    },
    {
      "cell_type": "markdown",
      "source": [
        "## ***2. Understanding Your Variables***"
      ],
      "metadata": {
        "id": "nA9Y7ga8ng1Z"
      }
    },
    {
      "cell_type": "code",
      "source": [
        "# Dataset Columns\n",
        "\n",
        "news.columns"
      ],
      "metadata": {
        "id": "j7xfkqrt5Ag5",
        "colab": {
          "base_uri": "https://localhost:8080/"
        },
        "outputId": "84b10895-c390-4a32-fbe5-2785d02ac7a7"
      },
      "execution_count": null,
      "outputs": [
        {
          "output_type": "execute_result",
          "data": {
            "text/plain": [
              "Index(['title', 'text', 'subject', 'date', 'label'], dtype='object')"
            ]
          },
          "metadata": {},
          "execution_count": 91
        }
      ]
    },
    {
      "cell_type": "code",
      "source": [
        "# Dataset Describe\n",
        "\n",
        "news.describe()"
      ],
      "metadata": {
        "id": "DnOaZdaE5Q5t",
        "colab": {
          "base_uri": "https://localhost:8080/",
          "height": 300
        },
        "outputId": "784adcd1-0419-43f2-b9d7-cc4b51d2256f"
      },
      "execution_count": null,
      "outputs": [
        {
          "output_type": "execute_result",
          "data": {
            "text/plain": [
              "              label\n",
              "count  44898.000000\n",
              "mean       0.477015\n",
              "std        0.499477\n",
              "min        0.000000\n",
              "25%        0.000000\n",
              "50%        0.000000\n",
              "75%        1.000000\n",
              "max        1.000000"
            ],
            "text/html": [
              "\n",
              "  <div id=\"df-108101aa-1050-4d6d-bf21-6e1a97b1d499\" class=\"colab-df-container\">\n",
              "    <div>\n",
              "<style scoped>\n",
              "    .dataframe tbody tr th:only-of-type {\n",
              "        vertical-align: middle;\n",
              "    }\n",
              "\n",
              "    .dataframe tbody tr th {\n",
              "        vertical-align: top;\n",
              "    }\n",
              "\n",
              "    .dataframe thead th {\n",
              "        text-align: right;\n",
              "    }\n",
              "</style>\n",
              "<table border=\"1\" class=\"dataframe\">\n",
              "  <thead>\n",
              "    <tr style=\"text-align: right;\">\n",
              "      <th></th>\n",
              "      <th>label</th>\n",
              "    </tr>\n",
              "  </thead>\n",
              "  <tbody>\n",
              "    <tr>\n",
              "      <th>count</th>\n",
              "      <td>44898.000000</td>\n",
              "    </tr>\n",
              "    <tr>\n",
              "      <th>mean</th>\n",
              "      <td>0.477015</td>\n",
              "    </tr>\n",
              "    <tr>\n",
              "      <th>std</th>\n",
              "      <td>0.499477</td>\n",
              "    </tr>\n",
              "    <tr>\n",
              "      <th>min</th>\n",
              "      <td>0.000000</td>\n",
              "    </tr>\n",
              "    <tr>\n",
              "      <th>25%</th>\n",
              "      <td>0.000000</td>\n",
              "    </tr>\n",
              "    <tr>\n",
              "      <th>50%</th>\n",
              "      <td>0.000000</td>\n",
              "    </tr>\n",
              "    <tr>\n",
              "      <th>75%</th>\n",
              "      <td>1.000000</td>\n",
              "    </tr>\n",
              "    <tr>\n",
              "      <th>max</th>\n",
              "      <td>1.000000</td>\n",
              "    </tr>\n",
              "  </tbody>\n",
              "</table>\n",
              "</div>\n",
              "    <div class=\"colab-df-buttons\">\n",
              "\n",
              "  <div class=\"colab-df-container\">\n",
              "    <button class=\"colab-df-convert\" onclick=\"convertToInteractive('df-108101aa-1050-4d6d-bf21-6e1a97b1d499')\"\n",
              "            title=\"Convert this dataframe to an interactive table.\"\n",
              "            style=\"display:none;\">\n",
              "\n",
              "  <svg xmlns=\"http://www.w3.org/2000/svg\" height=\"24px\" viewBox=\"0 -960 960 960\">\n",
              "    <path d=\"M120-120v-720h720v720H120Zm60-500h600v-160H180v160Zm220 220h160v-160H400v160Zm0 220h160v-160H400v160ZM180-400h160v-160H180v160Zm440 0h160v-160H620v160ZM180-180h160v-160H180v160Zm440 0h160v-160H620v160Z\"/>\n",
              "  </svg>\n",
              "    </button>\n",
              "\n",
              "  <style>\n",
              "    .colab-df-container {\n",
              "      display:flex;\n",
              "      gap: 12px;\n",
              "    }\n",
              "\n",
              "    .colab-df-convert {\n",
              "      background-color: #E8F0FE;\n",
              "      border: none;\n",
              "      border-radius: 50%;\n",
              "      cursor: pointer;\n",
              "      display: none;\n",
              "      fill: #1967D2;\n",
              "      height: 32px;\n",
              "      padding: 0 0 0 0;\n",
              "      width: 32px;\n",
              "    }\n",
              "\n",
              "    .colab-df-convert:hover {\n",
              "      background-color: #E2EBFA;\n",
              "      box-shadow: 0px 1px 2px rgba(60, 64, 67, 0.3), 0px 1px 3px 1px rgba(60, 64, 67, 0.15);\n",
              "      fill: #174EA6;\n",
              "    }\n",
              "\n",
              "    .colab-df-buttons div {\n",
              "      margin-bottom: 4px;\n",
              "    }\n",
              "\n",
              "    [theme=dark] .colab-df-convert {\n",
              "      background-color: #3B4455;\n",
              "      fill: #D2E3FC;\n",
              "    }\n",
              "\n",
              "    [theme=dark] .colab-df-convert:hover {\n",
              "      background-color: #434B5C;\n",
              "      box-shadow: 0px 1px 3px 1px rgba(0, 0, 0, 0.15);\n",
              "      filter: drop-shadow(0px 1px 2px rgba(0, 0, 0, 0.3));\n",
              "      fill: #FFFFFF;\n",
              "    }\n",
              "  </style>\n",
              "\n",
              "    <script>\n",
              "      const buttonEl =\n",
              "        document.querySelector('#df-108101aa-1050-4d6d-bf21-6e1a97b1d499 button.colab-df-convert');\n",
              "      buttonEl.style.display =\n",
              "        google.colab.kernel.accessAllowed ? 'block' : 'none';\n",
              "\n",
              "      async function convertToInteractive(key) {\n",
              "        const element = document.querySelector('#df-108101aa-1050-4d6d-bf21-6e1a97b1d499');\n",
              "        const dataTable =\n",
              "          await google.colab.kernel.invokeFunction('convertToInteractive',\n",
              "                                                    [key], {});\n",
              "        if (!dataTable) return;\n",
              "\n",
              "        const docLinkHtml = 'Like what you see? Visit the ' +\n",
              "          '<a target=\"_blank\" href=https://colab.research.google.com/notebooks/data_table.ipynb>data table notebook</a>'\n",
              "          + ' to learn more about interactive tables.';\n",
              "        element.innerHTML = '';\n",
              "        dataTable['output_type'] = 'display_data';\n",
              "        await google.colab.output.renderOutput(dataTable, element);\n",
              "        const docLink = document.createElement('div');\n",
              "        docLink.innerHTML = docLinkHtml;\n",
              "        element.appendChild(docLink);\n",
              "      }\n",
              "    </script>\n",
              "  </div>\n",
              "\n",
              "\n",
              "    <div id=\"df-393675c5-6de9-403a-8a94-f7d5ca4c8286\">\n",
              "      <button class=\"colab-df-quickchart\" onclick=\"quickchart('df-393675c5-6de9-403a-8a94-f7d5ca4c8286')\"\n",
              "                title=\"Suggest charts\"\n",
              "                style=\"display:none;\">\n",
              "\n",
              "<svg xmlns=\"http://www.w3.org/2000/svg\" height=\"24px\"viewBox=\"0 0 24 24\"\n",
              "     width=\"24px\">\n",
              "    <g>\n",
              "        <path d=\"M19 3H5c-1.1 0-2 .9-2 2v14c0 1.1.9 2 2 2h14c1.1 0 2-.9 2-2V5c0-1.1-.9-2-2-2zM9 17H7v-7h2v7zm4 0h-2V7h2v10zm4 0h-2v-4h2v4z\"/>\n",
              "    </g>\n",
              "</svg>\n",
              "      </button>\n",
              "\n",
              "<style>\n",
              "  .colab-df-quickchart {\n",
              "      --bg-color: #E8F0FE;\n",
              "      --fill-color: #1967D2;\n",
              "      --hover-bg-color: #E2EBFA;\n",
              "      --hover-fill-color: #174EA6;\n",
              "      --disabled-fill-color: #AAA;\n",
              "      --disabled-bg-color: #DDD;\n",
              "  }\n",
              "\n",
              "  [theme=dark] .colab-df-quickchart {\n",
              "      --bg-color: #3B4455;\n",
              "      --fill-color: #D2E3FC;\n",
              "      --hover-bg-color: #434B5C;\n",
              "      --hover-fill-color: #FFFFFF;\n",
              "      --disabled-bg-color: #3B4455;\n",
              "      --disabled-fill-color: #666;\n",
              "  }\n",
              "\n",
              "  .colab-df-quickchart {\n",
              "    background-color: var(--bg-color);\n",
              "    border: none;\n",
              "    border-radius: 50%;\n",
              "    cursor: pointer;\n",
              "    display: none;\n",
              "    fill: var(--fill-color);\n",
              "    height: 32px;\n",
              "    padding: 0;\n",
              "    width: 32px;\n",
              "  }\n",
              "\n",
              "  .colab-df-quickchart:hover {\n",
              "    background-color: var(--hover-bg-color);\n",
              "    box-shadow: 0 1px 2px rgba(60, 64, 67, 0.3), 0 1px 3px 1px rgba(60, 64, 67, 0.15);\n",
              "    fill: var(--button-hover-fill-color);\n",
              "  }\n",
              "\n",
              "  .colab-df-quickchart-complete:disabled,\n",
              "  .colab-df-quickchart-complete:disabled:hover {\n",
              "    background-color: var(--disabled-bg-color);\n",
              "    fill: var(--disabled-fill-color);\n",
              "    box-shadow: none;\n",
              "  }\n",
              "\n",
              "  .colab-df-spinner {\n",
              "    border: 2px solid var(--fill-color);\n",
              "    border-color: transparent;\n",
              "    border-bottom-color: var(--fill-color);\n",
              "    animation:\n",
              "      spin 1s steps(1) infinite;\n",
              "  }\n",
              "\n",
              "  @keyframes spin {\n",
              "    0% {\n",
              "      border-color: transparent;\n",
              "      border-bottom-color: var(--fill-color);\n",
              "      border-left-color: var(--fill-color);\n",
              "    }\n",
              "    20% {\n",
              "      border-color: transparent;\n",
              "      border-left-color: var(--fill-color);\n",
              "      border-top-color: var(--fill-color);\n",
              "    }\n",
              "    30% {\n",
              "      border-color: transparent;\n",
              "      border-left-color: var(--fill-color);\n",
              "      border-top-color: var(--fill-color);\n",
              "      border-right-color: var(--fill-color);\n",
              "    }\n",
              "    40% {\n",
              "      border-color: transparent;\n",
              "      border-right-color: var(--fill-color);\n",
              "      border-top-color: var(--fill-color);\n",
              "    }\n",
              "    60% {\n",
              "      border-color: transparent;\n",
              "      border-right-color: var(--fill-color);\n",
              "    }\n",
              "    80% {\n",
              "      border-color: transparent;\n",
              "      border-right-color: var(--fill-color);\n",
              "      border-bottom-color: var(--fill-color);\n",
              "    }\n",
              "    90% {\n",
              "      border-color: transparent;\n",
              "      border-bottom-color: var(--fill-color);\n",
              "    }\n",
              "  }\n",
              "</style>\n",
              "\n",
              "      <script>\n",
              "        async function quickchart(key) {\n",
              "          const quickchartButtonEl =\n",
              "            document.querySelector('#' + key + ' button');\n",
              "          quickchartButtonEl.disabled = true;  // To prevent multiple clicks.\n",
              "          quickchartButtonEl.classList.add('colab-df-spinner');\n",
              "          try {\n",
              "            const charts = await google.colab.kernel.invokeFunction(\n",
              "                'suggestCharts', [key], {});\n",
              "          } catch (error) {\n",
              "            console.error('Error during call to suggestCharts:', error);\n",
              "          }\n",
              "          quickchartButtonEl.classList.remove('colab-df-spinner');\n",
              "          quickchartButtonEl.classList.add('colab-df-quickchart-complete');\n",
              "        }\n",
              "        (() => {\n",
              "          let quickchartButtonEl =\n",
              "            document.querySelector('#df-393675c5-6de9-403a-8a94-f7d5ca4c8286 button');\n",
              "          quickchartButtonEl.style.display =\n",
              "            google.colab.kernel.accessAllowed ? 'block' : 'none';\n",
              "        })();\n",
              "      </script>\n",
              "    </div>\n",
              "\n",
              "    </div>\n",
              "  </div>\n"
            ],
            "application/vnd.google.colaboratory.intrinsic+json": {
              "type": "dataframe",
              "summary": "{\n  \"name\": \"news\",\n  \"rows\": 8,\n  \"fields\": [\n    {\n      \"column\": \"label\",\n      \"properties\": {\n        \"dtype\": \"number\",\n        \"std\": 15873.689800783677,\n        \"min\": 0.0,\n        \"max\": 44898.0,\n        \"num_unique_values\": 5,\n        \"samples\": [\n          0.47701456635039424,\n          1.0,\n          0.49947695279496285\n        ],\n        \"semantic_type\": \"\",\n        \"description\": \"\"\n      }\n    }\n  ]\n}"
            }
          },
          "metadata": {},
          "execution_count": 92
        }
      ]
    },
    {
      "cell_type": "markdown",
      "source": [
        "### Variables Description"
      ],
      "metadata": {
        "id": "PBTbrJXOngz2"
      }
    },
    {
      "cell_type": "markdown",
      "source": [
        "Answer Here"
      ],
      "metadata": {
        "id": "aJV4KIxSnxay"
      }
    },
    {
      "cell_type": "markdown",
      "source": [
        "### Check Unique Values for each variable."
      ],
      "metadata": {
        "id": "u3PMJOP6ngxN"
      }
    },
    {
      "cell_type": "code",
      "source": [
        "# Check Unique Values for each variable.\n",
        "\n",
        "for i in news.columns:\n",
        "  print(f'Number of unique values in {i} is {news[i].nunique()}')"
      ],
      "metadata": {
        "id": "zms12Yq5n-jE",
        "colab": {
          "base_uri": "https://localhost:8080/"
        },
        "outputId": "7abc156b-2365-4aee-851e-a9524bcf70e3"
      },
      "execution_count": null,
      "outputs": [
        {
          "output_type": "stream",
          "name": "stdout",
          "text": [
            "Number of unique values in title is 38729\n",
            "Number of unique values in text is 38646\n",
            "Number of unique values in subject is 8\n",
            "Number of unique values in date is 2397\n",
            "Number of unique values in label is 2\n"
          ]
        }
      ]
    },
    {
      "cell_type": "markdown",
      "source": [
        "## 3. ***Data Wrangling***"
      ],
      "metadata": {
        "id": "dauF4eBmngu3"
      }
    },
    {
      "cell_type": "markdown",
      "source": [
        "### Data Wrangling Code"
      ],
      "metadata": {
        "id": "bKJF3rekwFvQ"
      }
    },
    {
      "cell_type": "code",
      "source": [
        "# Write your code to make your dataset analysis ready."
      ],
      "metadata": {
        "id": "wk-9a2fpoLcV"
      },
      "execution_count": null,
      "outputs": []
    },
    {
      "cell_type": "markdown",
      "source": [
        "### What all manipulations have you done and insights you found?"
      ],
      "metadata": {
        "id": "MSa1f5Uengrz"
      }
    },
    {
      "cell_type": "markdown",
      "source": [
        "Answer Here."
      ],
      "metadata": {
        "id": "LbyXE7I1olp8"
      }
    },
    {
      "cell_type": "markdown",
      "source": [
        "## ***4. Data Vizualization, Storytelling & Experimenting with charts : Understand the relationships between variables***"
      ],
      "metadata": {
        "id": "GF8Ens_Soomf"
      }
    },
    {
      "cell_type": "markdown",
      "source": [
        "#### Chart - 1"
      ],
      "metadata": {
        "id": "0wOQAZs5pc--"
      }
    },
    {
      "cell_type": "code",
      "source": [
        "# Chart - 1 visualization code\n",
        "\n",
        "\n"
      ],
      "metadata": {
        "id": "7v_ESjsspbW7"
      },
      "execution_count": null,
      "outputs": []
    },
    {
      "cell_type": "markdown",
      "source": [
        "##### 1. Why did you pick the specific chart?"
      ],
      "metadata": {
        "id": "K5QZ13OEpz2H"
      }
    },
    {
      "cell_type": "markdown",
      "source": [
        "Answer Here."
      ],
      "metadata": {
        "id": "XESiWehPqBRc"
      }
    },
    {
      "cell_type": "markdown",
      "source": [
        "##### 2. What is/are the insight(s) found from the chart?"
      ],
      "metadata": {
        "id": "lQ7QKXXCp7Bj"
      }
    },
    {
      "cell_type": "markdown",
      "source": [
        "Answer Here"
      ],
      "metadata": {
        "id": "C_j1G7yiqdRP"
      }
    },
    {
      "cell_type": "markdown",
      "source": [
        "##### 3. Will the gained insights help creating a positive business impact?\n",
        "Are there any insights that lead to negative growth? Justify with specific reason."
      ],
      "metadata": {
        "id": "448CDAPjqfQr"
      }
    },
    {
      "cell_type": "markdown",
      "source": [
        "Answer Here"
      ],
      "metadata": {
        "id": "3cspy4FjqxJW"
      }
    },
    {
      "cell_type": "markdown",
      "source": [
        "#### Chart - 2"
      ],
      "metadata": {
        "id": "KSlN3yHqYklG"
      }
    },
    {
      "cell_type": "code",
      "source": [
        "# Chart - 2 visualization code"
      ],
      "metadata": {
        "id": "R4YgtaqtYklH"
      },
      "execution_count": null,
      "outputs": []
    },
    {
      "cell_type": "markdown",
      "source": [
        "##### 1. Why did you pick the specific chart?"
      ],
      "metadata": {
        "id": "t6dVpIINYklI"
      }
    },
    {
      "cell_type": "markdown",
      "source": [
        "Answer Here."
      ],
      "metadata": {
        "id": "5aaW0BYyYklI"
      }
    },
    {
      "cell_type": "markdown",
      "source": [
        "##### 2. What is/are the insight(s) found from the chart?"
      ],
      "metadata": {
        "id": "ijmpgYnKYklI"
      }
    },
    {
      "cell_type": "markdown",
      "source": [
        "Answer Here"
      ],
      "metadata": {
        "id": "PSx9atu2YklI"
      }
    },
    {
      "cell_type": "markdown",
      "source": [
        "##### 3. Will the gained insights help creating a positive business impact?\n",
        "Are there any insights that lead to negative growth? Justify with specific reason."
      ],
      "metadata": {
        "id": "-JiQyfWJYklI"
      }
    },
    {
      "cell_type": "markdown",
      "source": [
        "Answer Here"
      ],
      "metadata": {
        "id": "BcBbebzrYklV"
      }
    },
    {
      "cell_type": "markdown",
      "source": [
        "#### Chart - 3"
      ],
      "metadata": {
        "id": "EM7whBJCYoAo"
      }
    },
    {
      "cell_type": "code",
      "source": [
        "# Chart - 3 visualization code"
      ],
      "metadata": {
        "id": "t6GMdE67YoAp"
      },
      "execution_count": null,
      "outputs": []
    },
    {
      "cell_type": "markdown",
      "source": [
        "##### 1. Why did you pick the specific chart?"
      ],
      "metadata": {
        "id": "fge-S5ZAYoAp"
      }
    },
    {
      "cell_type": "markdown",
      "source": [
        "Answer Here."
      ],
      "metadata": {
        "id": "5dBItgRVYoAp"
      }
    },
    {
      "cell_type": "markdown",
      "source": [
        "##### 2. What is/are the insight(s) found from the chart?"
      ],
      "metadata": {
        "id": "85gYPyotYoAp"
      }
    },
    {
      "cell_type": "markdown",
      "source": [
        "Answer Here"
      ],
      "metadata": {
        "id": "4jstXR6OYoAp"
      }
    },
    {
      "cell_type": "markdown",
      "source": [
        "##### 3. Will the gained insights help creating a positive business impact?\n",
        "Are there any insights that lead to negative growth? Justify with specific reason."
      ],
      "metadata": {
        "id": "RoGjAbkUYoAp"
      }
    },
    {
      "cell_type": "markdown",
      "source": [
        "Answer Here"
      ],
      "metadata": {
        "id": "zfJ8IqMcYoAp"
      }
    },
    {
      "cell_type": "markdown",
      "source": [
        "#### Chart - 4"
      ],
      "metadata": {
        "id": "4Of9eVA-YrdM"
      }
    },
    {
      "cell_type": "code",
      "source": [
        "# Chart - 4 visualization code"
      ],
      "metadata": {
        "id": "irlUoxc8YrdO"
      },
      "execution_count": null,
      "outputs": []
    },
    {
      "cell_type": "markdown",
      "source": [
        "##### 1. Why did you pick the specific chart?"
      ],
      "metadata": {
        "id": "iky9q4vBYrdO"
      }
    },
    {
      "cell_type": "markdown",
      "source": [
        "Answer Here."
      ],
      "metadata": {
        "id": "aJRCwT6DYrdO"
      }
    },
    {
      "cell_type": "markdown",
      "source": [
        "##### 2. What is/are the insight(s) found from the chart?"
      ],
      "metadata": {
        "id": "F6T5p64dYrdO"
      }
    },
    {
      "cell_type": "markdown",
      "source": [
        "Answer Here"
      ],
      "metadata": {
        "id": "Xx8WAJvtYrdO"
      }
    },
    {
      "cell_type": "markdown",
      "source": [
        "##### 3. Will the gained insights help creating a positive business impact?\n",
        "Are there any insights that lead to negative growth? Justify with specific reason."
      ],
      "metadata": {
        "id": "y-Ehk30pYrdP"
      }
    },
    {
      "cell_type": "markdown",
      "source": [
        "Answer Here"
      ],
      "metadata": {
        "id": "jLNxxz7MYrdP"
      }
    },
    {
      "cell_type": "markdown",
      "source": [
        "#### Chart - 5"
      ],
      "metadata": {
        "id": "bamQiAODYuh1"
      }
    },
    {
      "cell_type": "code",
      "source": [
        "# Chart - 5 visualization code"
      ],
      "metadata": {
        "id": "TIJwrbroYuh3"
      },
      "execution_count": null,
      "outputs": []
    },
    {
      "cell_type": "markdown",
      "source": [
        "##### 1. Why did you pick the specific chart?"
      ],
      "metadata": {
        "id": "QHF8YVU7Yuh3"
      }
    },
    {
      "cell_type": "markdown",
      "source": [
        "Answer Here."
      ],
      "metadata": {
        "id": "dcxuIMRPYuh3"
      }
    },
    {
      "cell_type": "markdown",
      "source": [
        "##### 2. What is/are the insight(s) found from the chart?"
      ],
      "metadata": {
        "id": "GwzvFGzlYuh3"
      }
    },
    {
      "cell_type": "markdown",
      "source": [
        "Answer Here"
      ],
      "metadata": {
        "id": "uyqkiB8YYuh3"
      }
    },
    {
      "cell_type": "markdown",
      "source": [
        "##### 3. Will the gained insights help creating a positive business impact?\n",
        "Are there any insights that lead to negative growth? Justify with specific reason."
      ],
      "metadata": {
        "id": "qYpmQ266Yuh3"
      }
    },
    {
      "cell_type": "markdown",
      "source": [
        "Answer Here"
      ],
      "metadata": {
        "id": "_WtzZ_hCYuh4"
      }
    },
    {
      "cell_type": "markdown",
      "source": [
        "#### Chart - 6"
      ],
      "metadata": {
        "id": "OH-pJp9IphqM"
      }
    },
    {
      "cell_type": "code",
      "source": [
        "# Chart - 6 visualization code"
      ],
      "metadata": {
        "id": "kuRf4wtuphqN"
      },
      "execution_count": null,
      "outputs": []
    },
    {
      "cell_type": "markdown",
      "source": [
        "##### 1. Why did you pick the specific chart?"
      ],
      "metadata": {
        "id": "bbFf2-_FphqN"
      }
    },
    {
      "cell_type": "markdown",
      "source": [
        "Answer Here."
      ],
      "metadata": {
        "id": "loh7H2nzphqN"
      }
    },
    {
      "cell_type": "markdown",
      "source": [
        "##### 2. What is/are the insight(s) found from the chart?"
      ],
      "metadata": {
        "id": "_ouA3fa0phqN"
      }
    },
    {
      "cell_type": "markdown",
      "source": [
        "Answer Here"
      ],
      "metadata": {
        "id": "VECbqPI7phqN"
      }
    },
    {
      "cell_type": "markdown",
      "source": [
        "##### 3. Will the gained insights help creating a positive business impact?\n",
        "Are there any insights that lead to negative growth? Justify with specific reason."
      ],
      "metadata": {
        "id": "Seke61FWphqN"
      }
    },
    {
      "cell_type": "markdown",
      "source": [
        "Answer Here"
      ],
      "metadata": {
        "id": "DW4_bGpfphqN"
      }
    },
    {
      "cell_type": "markdown",
      "source": [
        "#### Chart - 7"
      ],
      "metadata": {
        "id": "PIIx-8_IphqN"
      }
    },
    {
      "cell_type": "code",
      "source": [
        "# Chart - 7 visualization code"
      ],
      "metadata": {
        "id": "lqAIGUfyphqO"
      },
      "execution_count": null,
      "outputs": []
    },
    {
      "cell_type": "markdown",
      "source": [
        "##### 1. Why did you pick the specific chart?"
      ],
      "metadata": {
        "id": "t27r6nlMphqO"
      }
    },
    {
      "cell_type": "markdown",
      "source": [
        "Answer Here."
      ],
      "metadata": {
        "id": "iv6ro40sphqO"
      }
    },
    {
      "cell_type": "markdown",
      "source": [
        "##### 2. What is/are the insight(s) found from the chart?"
      ],
      "metadata": {
        "id": "r2jJGEOYphqO"
      }
    },
    {
      "cell_type": "markdown",
      "source": [
        "Answer Here"
      ],
      "metadata": {
        "id": "Po6ZPi4hphqO"
      }
    },
    {
      "cell_type": "markdown",
      "source": [
        "##### 3. Will the gained insights help creating a positive business impact?\n",
        "Are there any insights that lead to negative growth? Justify with specific reason."
      ],
      "metadata": {
        "id": "b0JNsNcRphqO"
      }
    },
    {
      "cell_type": "markdown",
      "source": [
        "Answer Here"
      ],
      "metadata": {
        "id": "xvSq8iUTphqO"
      }
    },
    {
      "cell_type": "markdown",
      "source": [
        "#### Chart - 8"
      ],
      "metadata": {
        "id": "BZR9WyysphqO"
      }
    },
    {
      "cell_type": "code",
      "source": [
        "# Chart - 8 visualization code"
      ],
      "metadata": {
        "id": "TdPTWpAVphqO"
      },
      "execution_count": null,
      "outputs": []
    },
    {
      "cell_type": "markdown",
      "source": [
        "##### 1. Why did you pick the specific chart?"
      ],
      "metadata": {
        "id": "jj7wYXLtphqO"
      }
    },
    {
      "cell_type": "markdown",
      "source": [
        "Answer Here."
      ],
      "metadata": {
        "id": "Ob8u6rCTphqO"
      }
    },
    {
      "cell_type": "markdown",
      "source": [
        "##### 2. What is/are the insight(s) found from the chart?"
      ],
      "metadata": {
        "id": "eZrbJ2SmphqO"
      }
    },
    {
      "cell_type": "markdown",
      "source": [
        "Answer Here"
      ],
      "metadata": {
        "id": "mZtgC_hjphqO"
      }
    },
    {
      "cell_type": "markdown",
      "source": [
        "##### 3. Will the gained insights help creating a positive business impact?\n",
        "Are there any insights that lead to negative growth? Justify with specific reason."
      ],
      "metadata": {
        "id": "rFu4xreNphqO"
      }
    },
    {
      "cell_type": "markdown",
      "source": [
        "Answer Here"
      ],
      "metadata": {
        "id": "ey_0qi68phqO"
      }
    },
    {
      "cell_type": "markdown",
      "source": [
        "#### Chart - 9"
      ],
      "metadata": {
        "id": "YJ55k-q6phqO"
      }
    },
    {
      "cell_type": "code",
      "source": [
        "# Chart - 9 visualization code"
      ],
      "metadata": {
        "id": "B2aS4O1ophqO"
      },
      "execution_count": null,
      "outputs": []
    },
    {
      "cell_type": "markdown",
      "source": [
        "##### 1. Why did you pick the specific chart?"
      ],
      "metadata": {
        "id": "gCFgpxoyphqP"
      }
    },
    {
      "cell_type": "markdown",
      "source": [
        "Answer Here."
      ],
      "metadata": {
        "id": "TVxDimi2phqP"
      }
    },
    {
      "cell_type": "markdown",
      "source": [
        "##### 2. What is/are the insight(s) found from the chart?"
      ],
      "metadata": {
        "id": "OVtJsKN_phqQ"
      }
    },
    {
      "cell_type": "markdown",
      "source": [
        "Answer Here"
      ],
      "metadata": {
        "id": "ngGi97qjphqQ"
      }
    },
    {
      "cell_type": "markdown",
      "source": [
        "##### 3. Will the gained insights help creating a positive business impact?\n",
        "Are there any insights that lead to negative growth? Justify with specific reason."
      ],
      "metadata": {
        "id": "lssrdh5qphqQ"
      }
    },
    {
      "cell_type": "markdown",
      "source": [
        "Answer Here"
      ],
      "metadata": {
        "id": "tBpY5ekJphqQ"
      }
    },
    {
      "cell_type": "markdown",
      "source": [
        "#### Chart - 10"
      ],
      "metadata": {
        "id": "U2RJ9gkRphqQ"
      }
    },
    {
      "cell_type": "code",
      "source": [
        "# Chart - 10 visualization code"
      ],
      "metadata": {
        "id": "GM7a4YP4phqQ"
      },
      "execution_count": null,
      "outputs": []
    },
    {
      "cell_type": "markdown",
      "source": [
        "##### 1. Why did you pick the specific chart?"
      ],
      "metadata": {
        "id": "1M8mcRywphqQ"
      }
    },
    {
      "cell_type": "markdown",
      "source": [
        "Answer Here."
      ],
      "metadata": {
        "id": "8agQvks0phqQ"
      }
    },
    {
      "cell_type": "markdown",
      "source": [
        "##### 2. What is/are the insight(s) found from the chart?"
      ],
      "metadata": {
        "id": "tgIPom80phqQ"
      }
    },
    {
      "cell_type": "markdown",
      "source": [
        "Answer Here"
      ],
      "metadata": {
        "id": "Qp13pnNzphqQ"
      }
    },
    {
      "cell_type": "markdown",
      "source": [
        "##### 3. Will the gained insights help creating a positive business impact?\n",
        "Are there any insights that lead to negative growth? Justify with specific reason."
      ],
      "metadata": {
        "id": "JMzcOPDDphqR"
      }
    },
    {
      "cell_type": "markdown",
      "source": [
        "Answer Here"
      ],
      "metadata": {
        "id": "R4Ka1PC2phqR"
      }
    },
    {
      "cell_type": "markdown",
      "source": [
        "#### Chart - 11"
      ],
      "metadata": {
        "id": "x-EpHcCOp1ci"
      }
    },
    {
      "cell_type": "code",
      "source": [
        "# Chart - 11 visualization code"
      ],
      "metadata": {
        "id": "mAQTIvtqp1cj"
      },
      "execution_count": null,
      "outputs": []
    },
    {
      "cell_type": "markdown",
      "source": [
        "##### 1. Why did you pick the specific chart?"
      ],
      "metadata": {
        "id": "X_VqEhTip1ck"
      }
    },
    {
      "cell_type": "markdown",
      "source": [
        "Answer Here."
      ],
      "metadata": {
        "id": "-vsMzt_np1ck"
      }
    },
    {
      "cell_type": "markdown",
      "source": [
        "##### 2. What is/are the insight(s) found from the chart?"
      ],
      "metadata": {
        "id": "8zGJKyg5p1ck"
      }
    },
    {
      "cell_type": "markdown",
      "source": [
        "Answer Here"
      ],
      "metadata": {
        "id": "ZYdMsrqVp1ck"
      }
    },
    {
      "cell_type": "markdown",
      "source": [
        "##### 3. Will the gained insights help creating a positive business impact?\n",
        "Are there any insights that lead to negative growth? Justify with specific reason."
      ],
      "metadata": {
        "id": "PVzmfK_Ep1ck"
      }
    },
    {
      "cell_type": "markdown",
      "source": [
        "Answer Here"
      ],
      "metadata": {
        "id": "druuKYZpp1ck"
      }
    },
    {
      "cell_type": "markdown",
      "source": [
        "#### Chart - 12"
      ],
      "metadata": {
        "id": "n3dbpmDWp1ck"
      }
    },
    {
      "cell_type": "code",
      "source": [
        "# Chart - 12 visualization code"
      ],
      "metadata": {
        "id": "bwevp1tKp1ck"
      },
      "execution_count": null,
      "outputs": []
    },
    {
      "cell_type": "markdown",
      "source": [
        "##### 1. Why did you pick the specific chart?"
      ],
      "metadata": {
        "id": "ylSl6qgtp1ck"
      }
    },
    {
      "cell_type": "markdown",
      "source": [
        "Answer Here."
      ],
      "metadata": {
        "id": "m2xqNkiQp1ck"
      }
    },
    {
      "cell_type": "markdown",
      "source": [
        "##### 2. What is/are the insight(s) found from the chart?"
      ],
      "metadata": {
        "id": "ZWILFDl5p1ck"
      }
    },
    {
      "cell_type": "markdown",
      "source": [
        "Answer Here"
      ],
      "metadata": {
        "id": "x-lUsV2mp1ck"
      }
    },
    {
      "cell_type": "markdown",
      "source": [
        "##### 3. Will the gained insights help creating a positive business impact?\n",
        "Are there any insights that lead to negative growth? Justify with specific reason."
      ],
      "metadata": {
        "id": "M7G43BXep1ck"
      }
    },
    {
      "cell_type": "markdown",
      "source": [
        "Answer Here"
      ],
      "metadata": {
        "id": "5wwDJXsLp1cl"
      }
    },
    {
      "cell_type": "markdown",
      "source": [
        "#### Chart - 13"
      ],
      "metadata": {
        "id": "Ag9LCva-p1cl"
      }
    },
    {
      "cell_type": "code",
      "source": [
        "# Chart - 13 visualization code"
      ],
      "metadata": {
        "id": "EUfxeq9-p1cl"
      },
      "execution_count": null,
      "outputs": []
    },
    {
      "cell_type": "markdown",
      "source": [
        "##### 1. Why did you pick the specific chart?"
      ],
      "metadata": {
        "id": "E6MkPsBcp1cl"
      }
    },
    {
      "cell_type": "markdown",
      "source": [
        "Answer Here."
      ],
      "metadata": {
        "id": "V22bRsFWp1cl"
      }
    },
    {
      "cell_type": "markdown",
      "source": [
        "##### 2. What is/are the insight(s) found from the chart?"
      ],
      "metadata": {
        "id": "2cELzS2fp1cl"
      }
    },
    {
      "cell_type": "markdown",
      "source": [
        "Answer Here"
      ],
      "metadata": {
        "id": "ozQPc2_Ip1cl"
      }
    },
    {
      "cell_type": "markdown",
      "source": [
        "##### 3. Will the gained insights help creating a positive business impact?\n",
        "Are there any insights that lead to negative growth? Justify with specific reason."
      ],
      "metadata": {
        "id": "3MPXvC8up1cl"
      }
    },
    {
      "cell_type": "markdown",
      "source": [
        "Answer Here"
      ],
      "metadata": {
        "id": "GL8l1tdLp1cl"
      }
    },
    {
      "cell_type": "markdown",
      "source": [
        "#### Chart - 14 - Correlation Heatmap"
      ],
      "metadata": {
        "id": "NC_X3p0fY2L0"
      }
    },
    {
      "cell_type": "code",
      "source": [
        "# Correlation Heatmap visualization code"
      ],
      "metadata": {
        "id": "xyC9zolEZNRQ"
      },
      "execution_count": null,
      "outputs": []
    },
    {
      "cell_type": "markdown",
      "source": [
        "##### 1. Why did you pick the specific chart?"
      ],
      "metadata": {
        "id": "UV0SzAkaZNRQ"
      }
    },
    {
      "cell_type": "markdown",
      "source": [
        "Answer Here."
      ],
      "metadata": {
        "id": "DVPuT8LYZNRQ"
      }
    },
    {
      "cell_type": "markdown",
      "source": [
        "##### 2. What is/are the insight(s) found from the chart?"
      ],
      "metadata": {
        "id": "YPEH6qLeZNRQ"
      }
    },
    {
      "cell_type": "markdown",
      "source": [
        "Answer Here"
      ],
      "metadata": {
        "id": "bfSqtnDqZNRR"
      }
    },
    {
      "cell_type": "markdown",
      "source": [
        "#### Chart - 15 - Pair Plot"
      ],
      "metadata": {
        "id": "q29F0dvdveiT"
      }
    },
    {
      "cell_type": "code",
      "source": [
        "# Pair Plot visualization code"
      ],
      "metadata": {
        "id": "o58-TEIhveiU"
      },
      "execution_count": null,
      "outputs": []
    },
    {
      "cell_type": "markdown",
      "source": [
        "##### 1. Why did you pick the specific chart?"
      ],
      "metadata": {
        "id": "EXh0U9oCveiU"
      }
    },
    {
      "cell_type": "markdown",
      "source": [
        "Answer Here."
      ],
      "metadata": {
        "id": "eMmPjTByveiU"
      }
    },
    {
      "cell_type": "markdown",
      "source": [
        "##### 2. What is/are the insight(s) found from the chart?"
      ],
      "metadata": {
        "id": "22aHeOlLveiV"
      }
    },
    {
      "cell_type": "markdown",
      "source": [
        "Answer Here"
      ],
      "metadata": {
        "id": "uPQ8RGwHveiV"
      }
    },
    {
      "cell_type": "markdown",
      "source": [
        "## ***6. Feature Engineering & Data Pre-processing***"
      ],
      "metadata": {
        "id": "yLjJCtPM0KBk"
      }
    },
    {
      "cell_type": "markdown",
      "source": [
        "### 1. Handling Missing Values"
      ],
      "metadata": {
        "id": "xiyOF9F70UgQ"
      }
    },
    {
      "cell_type": "code",
      "source": [
        "# Handling Missing Values & Missing Value Imputation\n",
        "\n",
        "news.drop(['subject', 'date'], axis = 1, inplace = True)"
      ],
      "metadata": {
        "id": "iRsAHk1K0fpS"
      },
      "execution_count": null,
      "outputs": []
    },
    {
      "cell_type": "markdown",
      "source": [
        "#### What all missing value imputation techniques have you used and why did you use those techniques?"
      ],
      "metadata": {
        "id": "7wuGOrhz0itI"
      }
    },
    {
      "cell_type": "markdown",
      "source": [
        "Answer Here."
      ],
      "metadata": {
        "id": "1ixusLtI0pqI"
      }
    },
    {
      "cell_type": "markdown",
      "source": [
        "### 2. Handling Outliers"
      ],
      "metadata": {
        "id": "id1riN9m0vUs"
      }
    },
    {
      "cell_type": "code",
      "source": [
        "# Handling Outliers & Outlier treatments"
      ],
      "metadata": {
        "id": "M6w2CzZf04JK"
      },
      "execution_count": null,
      "outputs": []
    },
    {
      "cell_type": "markdown",
      "source": [
        "##### What all outlier treatment techniques have you used and why did you use those techniques?"
      ],
      "metadata": {
        "id": "578E2V7j08f6"
      }
    },
    {
      "cell_type": "markdown",
      "source": [
        "Answer Here."
      ],
      "metadata": {
        "id": "uGZz5OrT1HH-"
      }
    },
    {
      "cell_type": "markdown",
      "source": [
        "### 3. Categorical Encoding"
      ],
      "metadata": {
        "id": "89xtkJwZ18nB"
      }
    },
    {
      "cell_type": "code",
      "source": [
        "# Encode your categorical columns"
      ],
      "metadata": {
        "id": "21JmIYMG2hEo"
      },
      "execution_count": null,
      "outputs": []
    },
    {
      "cell_type": "markdown",
      "source": [
        "#### What all categorical encoding techniques have you used & why did you use those techniques?"
      ],
      "metadata": {
        "id": "67NQN5KX2AMe"
      }
    },
    {
      "cell_type": "markdown",
      "source": [
        "Answer Here."
      ],
      "metadata": {
        "id": "UDaue5h32n_G"
      }
    },
    {
      "cell_type": "markdown",
      "source": [
        "### 4. Textual Data Preprocessing\n",
        "(It's mandatory for textual dataset i.e., NLP, Sentiment Analysis, Text Clustering etc.)"
      ],
      "metadata": {
        "id": "Iwf50b-R2tYG"
      }
    },
    {
      "cell_type": "markdown",
      "source": [
        "#### 1. Expand Contraction"
      ],
      "metadata": {
        "id": "GMQiZwjn3iu7"
      }
    },
    {
      "cell_type": "code",
      "source": [
        "import re"
      ],
      "metadata": {
        "id": "XM5b5ToWeR-J"
      },
      "execution_count": null,
      "outputs": []
    },
    {
      "cell_type": "code",
      "source": [
        "# Expand Contraction\n",
        "\n",
        "def wordopt(text):\n",
        "  text = text.lower()\n",
        "\n",
        "  text = re.sub(r'https?://\\S+|www\\.\\S+','',text)\n",
        "\n",
        "  text = re.sub('<.*?>','',text)\n",
        "\n",
        "  text = re.sub(r'[^\\w\\s]','',text)\n",
        "\n",
        "  text = re.sub(r'\\d','',text)\n",
        "\n",
        "  text = re.sub(r'\\n',' ',text)\n",
        "\n",
        "\n",
        "\n",
        "  return text"
      ],
      "metadata": {
        "id": "PTouz10C3oNN"
      },
      "execution_count": null,
      "outputs": []
    },
    {
      "cell_type": "code",
      "source": [
        "news['title'] = news['title'].apply(wordopt)"
      ],
      "metadata": {
        "id": "I29gYvNfgLus"
      },
      "execution_count": null,
      "outputs": []
    },
    {
      "cell_type": "code",
      "source": [
        "news['title']"
      ],
      "metadata": {
        "colab": {
          "base_uri": "https://localhost:8080/",
          "height": 458
        },
        "id": "cg44CMWqgV3-",
        "outputId": "13cdffdf-b288-4415-cc10-ae2ef0ea3ca7"
      },
      "execution_count": null,
      "outputs": [
        {
          "output_type": "execute_result",
          "data": {
            "text/plain": [
              "0         watch donald trump fits in perfectly as villa...\n",
              "1        hearing into murder of malta journalist case s...\n",
              "2         superhero cop shows us all what a good police...\n",
              "3        election fraud if it happened in michigan will...\n",
              "4        the carnage and the kindness of good samaritan...\n",
              "                               ...                        \n",
              "44893    lavrov dismisses claims  moscow behind democra...\n",
              "44894    trumps son clarifies gas chamber comment after...\n",
              "44895    china issues guidelines to curb money launderi...\n",
              "44896    britains boris johnson jokes about dead bodies...\n",
              "44897    saudi antigraft detainees will get due process...\n",
              "Name: title, Length: 44898, dtype: object"
            ],
            "text/html": [
              "<div>\n",
              "<style scoped>\n",
              "    .dataframe tbody tr th:only-of-type {\n",
              "        vertical-align: middle;\n",
              "    }\n",
              "\n",
              "    .dataframe tbody tr th {\n",
              "        vertical-align: top;\n",
              "    }\n",
              "\n",
              "    .dataframe thead th {\n",
              "        text-align: right;\n",
              "    }\n",
              "</style>\n",
              "<table border=\"1\" class=\"dataframe\">\n",
              "  <thead>\n",
              "    <tr style=\"text-align: right;\">\n",
              "      <th></th>\n",
              "      <th>title</th>\n",
              "    </tr>\n",
              "  </thead>\n",
              "  <tbody>\n",
              "    <tr>\n",
              "      <th>0</th>\n",
              "      <td>watch donald trump fits in perfectly as villa...</td>\n",
              "    </tr>\n",
              "    <tr>\n",
              "      <th>1</th>\n",
              "      <td>hearing into murder of malta journalist case s...</td>\n",
              "    </tr>\n",
              "    <tr>\n",
              "      <th>2</th>\n",
              "      <td>superhero cop shows us all what a good police...</td>\n",
              "    </tr>\n",
              "    <tr>\n",
              "      <th>3</th>\n",
              "      <td>election fraud if it happened in michigan will...</td>\n",
              "    </tr>\n",
              "    <tr>\n",
              "      <th>4</th>\n",
              "      <td>the carnage and the kindness of good samaritan...</td>\n",
              "    </tr>\n",
              "    <tr>\n",
              "      <th>...</th>\n",
              "      <td>...</td>\n",
              "    </tr>\n",
              "    <tr>\n",
              "      <th>44893</th>\n",
              "      <td>lavrov dismisses claims  moscow behind democra...</td>\n",
              "    </tr>\n",
              "    <tr>\n",
              "      <th>44894</th>\n",
              "      <td>trumps son clarifies gas chamber comment after...</td>\n",
              "    </tr>\n",
              "    <tr>\n",
              "      <th>44895</th>\n",
              "      <td>china issues guidelines to curb money launderi...</td>\n",
              "    </tr>\n",
              "    <tr>\n",
              "      <th>44896</th>\n",
              "      <td>britains boris johnson jokes about dead bodies...</td>\n",
              "    </tr>\n",
              "    <tr>\n",
              "      <th>44897</th>\n",
              "      <td>saudi antigraft detainees will get due process...</td>\n",
              "    </tr>\n",
              "  </tbody>\n",
              "</table>\n",
              "<p>44898 rows × 1 columns</p>\n",
              "</div><br><label><b>dtype:</b> object</label>"
            ]
          },
          "metadata": {},
          "execution_count": 127
        }
      ]
    },
    {
      "cell_type": "code",
      "source": [],
      "metadata": {
        "id": "VQy-H-mei6gJ"
      },
      "execution_count": null,
      "outputs": []
    },
    {
      "cell_type": "markdown",
      "source": [
        "#### 2. Lower Casing"
      ],
      "metadata": {
        "id": "WVIkgGqN3qsr"
      }
    },
    {
      "cell_type": "code",
      "source": [
        "# Lower Casing"
      ],
      "metadata": {
        "id": "88JnJ1jN3w7j"
      },
      "execution_count": null,
      "outputs": []
    },
    {
      "cell_type": "markdown",
      "source": [
        "#### 3. Removing Punctuations"
      ],
      "metadata": {
        "id": "XkPnILGE3zoT"
      }
    },
    {
      "cell_type": "code",
      "source": [
        "# Remove Punctuations"
      ],
      "metadata": {
        "id": "vqbBqNaA33c0"
      },
      "execution_count": null,
      "outputs": []
    },
    {
      "cell_type": "markdown",
      "source": [
        "#### 4. Removing URLs & Removing words and digits contain digits."
      ],
      "metadata": {
        "id": "Hlsf0x5436Go"
      }
    },
    {
      "cell_type": "code",
      "source": [
        "# Remove URLs & Remove words and digits contain digits"
      ],
      "metadata": {
        "id": "2sxKgKxu4Ip3"
      },
      "execution_count": null,
      "outputs": []
    },
    {
      "cell_type": "markdown",
      "source": [
        "#### 5. Removing Stopwords & Removing White spaces"
      ],
      "metadata": {
        "id": "mT9DMSJo4nBL"
      }
    },
    {
      "cell_type": "code",
      "source": [
        "# Remove Stopwords"
      ],
      "metadata": {
        "id": "T2LSJh154s8W"
      },
      "execution_count": null,
      "outputs": []
    },
    {
      "cell_type": "code",
      "source": [
        "# Remove White spaces"
      ],
      "metadata": {
        "id": "EgLJGffy4vm0"
      },
      "execution_count": null,
      "outputs": []
    },
    {
      "cell_type": "markdown",
      "source": [
        "#### 6. Rephrase Text"
      ],
      "metadata": {
        "id": "c49ITxTc407N"
      }
    },
    {
      "cell_type": "code",
      "source": [
        "# Rephrase Text"
      ],
      "metadata": {
        "id": "foqY80Qu48N2"
      },
      "execution_count": null,
      "outputs": []
    },
    {
      "cell_type": "markdown",
      "source": [
        "#### 7. Tokenization"
      ],
      "metadata": {
        "id": "OeJFEK0N496M"
      }
    },
    {
      "cell_type": "code",
      "source": [
        "# Tokenization"
      ],
      "metadata": {
        "id": "ijx1rUOS5CUU"
      },
      "execution_count": null,
      "outputs": []
    },
    {
      "cell_type": "markdown",
      "source": [
        "#### 8. Text Normalization"
      ],
      "metadata": {
        "id": "9ExmJH0g5HBk"
      }
    },
    {
      "cell_type": "code",
      "source": [
        "# Normalizing Text (i.e., Stemming, Lemmatization etc.)"
      ],
      "metadata": {
        "id": "AIJ1a-Zc5PY8"
      },
      "execution_count": null,
      "outputs": []
    },
    {
      "cell_type": "markdown",
      "source": [
        "##### Which text normalization technique have you used and why?"
      ],
      "metadata": {
        "id": "cJNqERVU536h"
      }
    },
    {
      "cell_type": "markdown",
      "source": [
        "Answer Here."
      ],
      "metadata": {
        "id": "Z9jKVxE06BC1"
      }
    },
    {
      "cell_type": "markdown",
      "source": [
        "#### 9. Part of speech tagging"
      ],
      "metadata": {
        "id": "k5UmGsbsOxih"
      }
    },
    {
      "cell_type": "code",
      "source": [
        "# POS Taging"
      ],
      "metadata": {
        "id": "btT3ZJBAO6Ik"
      },
      "execution_count": null,
      "outputs": []
    },
    {
      "cell_type": "markdown",
      "source": [
        "#### 10. Text Vectorization"
      ],
      "metadata": {
        "id": "T0VqWOYE6DLQ"
      }
    },
    {
      "cell_type": "code",
      "source": [
        "# Vectorizing Text"
      ],
      "metadata": {
        "id": "yBRtdhth6JDE"
      },
      "execution_count": null,
      "outputs": []
    },
    {
      "cell_type": "markdown",
      "source": [
        "##### Which text vectorization technique have you used and why?"
      ],
      "metadata": {
        "id": "qBMux9mC6MCf"
      }
    },
    {
      "cell_type": "markdown",
      "source": [
        "Answer Here."
      ],
      "metadata": {
        "id": "su2EnbCh6UKQ"
      }
    },
    {
      "cell_type": "markdown",
      "source": [
        "### 4. Feature Manipulation & Selection"
      ],
      "metadata": {
        "id": "-oLEiFgy-5Pf"
      }
    },
    {
      "cell_type": "markdown",
      "source": [
        "#### 1. Feature Manipulation"
      ],
      "metadata": {
        "id": "C74aWNz2AliB"
      }
    },
    {
      "cell_type": "code",
      "source": [
        "# Manipulate Features to minimize feature correlation and create new features"
      ],
      "metadata": {
        "id": "h1qC4yhBApWC"
      },
      "execution_count": null,
      "outputs": []
    },
    {
      "cell_type": "markdown",
      "source": [
        "#### 2. Feature Selection"
      ],
      "metadata": {
        "id": "2DejudWSA-a0"
      }
    },
    {
      "cell_type": "code",
      "source": [
        "x = news['title']\n",
        "y = news['label']"
      ],
      "metadata": {
        "id": "hh7EO6fdi4Hb"
      },
      "execution_count": null,
      "outputs": []
    },
    {
      "cell_type": "markdown",
      "source": [
        "##### What all feature selection methods have you used  and why?"
      ],
      "metadata": {
        "id": "pEMng2IbBLp7"
      }
    },
    {
      "cell_type": "markdown",
      "source": [
        "Answer Here."
      ],
      "metadata": {
        "id": "rb2Lh6Z8BgGs"
      }
    },
    {
      "cell_type": "markdown",
      "source": [
        "##### Which all features you found important and why?"
      ],
      "metadata": {
        "id": "rAdphbQ9Bhjc"
      }
    },
    {
      "cell_type": "markdown",
      "source": [
        "Answer Here."
      ],
      "metadata": {
        "id": "fGgaEstsBnaf"
      }
    },
    {
      "cell_type": "markdown",
      "source": [
        "### 5. Data Transformation"
      ],
      "metadata": {
        "id": "TNVZ9zx19K6k"
      }
    },
    {
      "cell_type": "markdown",
      "source": [
        "#### Do you think that your data needs to be transformed? If yes, which transformation have you used. Explain Why?"
      ],
      "metadata": {
        "id": "nqoHp30x9hH9"
      }
    },
    {
      "cell_type": "code",
      "source": [
        "# Transform Your data"
      ],
      "metadata": {
        "id": "I6quWQ1T9rtH"
      },
      "execution_count": null,
      "outputs": []
    },
    {
      "cell_type": "markdown",
      "source": [
        "### 6. Data Scaling"
      ],
      "metadata": {
        "id": "rMDnDkt2B6du"
      }
    },
    {
      "cell_type": "code",
      "source": [
        "# Scaling your data"
      ],
      "metadata": {
        "id": "dL9LWpySC6x_"
      },
      "execution_count": null,
      "outputs": []
    },
    {
      "cell_type": "markdown",
      "source": [
        "##### Which method have you used to scale you data and why?"
      ],
      "metadata": {
        "id": "yiiVWRdJDDil"
      }
    },
    {
      "cell_type": "markdown",
      "source": [
        "### 7. Dimesionality Reduction"
      ],
      "metadata": {
        "id": "1UUpS68QDMuG"
      }
    },
    {
      "cell_type": "markdown",
      "source": [
        "##### Do you think that dimensionality reduction is needed? Explain Why?"
      ],
      "metadata": {
        "id": "kexQrXU-DjzY"
      }
    },
    {
      "cell_type": "markdown",
      "source": [
        "Answer Here."
      ],
      "metadata": {
        "id": "GGRlBsSGDtTQ"
      }
    },
    {
      "cell_type": "code",
      "source": [
        "# DImensionality Reduction (If needed)"
      ],
      "metadata": {
        "id": "kQfvxBBHDvCa"
      },
      "execution_count": null,
      "outputs": []
    },
    {
      "cell_type": "markdown",
      "source": [
        "##### Which dimensionality reduction technique have you used and why? (If dimensionality reduction done on dataset.)"
      ],
      "metadata": {
        "id": "T5CmagL3EC8N"
      }
    },
    {
      "cell_type": "markdown",
      "source": [
        "Answer Here."
      ],
      "metadata": {
        "id": "ZKr75IDuEM7t"
      }
    },
    {
      "cell_type": "markdown",
      "source": [
        "### 8. Data Splitting"
      ],
      "metadata": {
        "id": "BhH2vgX9EjGr"
      }
    },
    {
      "cell_type": "code",
      "source": [
        "# Split your data to train and test. Choose Splitting ratio wisely.\n",
        "\n",
        "from sklearn.model_selection import train_test_split\n",
        "x_train, x_test, y_train, y_test = train_test_split(x, y, test_size = 0.25, random_state = 42)"
      ],
      "metadata": {
        "id": "0CTyd2UwEyNM"
      },
      "execution_count": null,
      "outputs": []
    },
    {
      "cell_type": "code",
      "source": [
        "x_train.shape, x_test.shape, y_train.shape, y_test.shape"
      ],
      "metadata": {
        "colab": {
          "base_uri": "https://localhost:8080/"
        },
        "id": "sA9jp_9IjZc8",
        "outputId": "8a860151-1aa9-4b90-bec8-601a97320f76"
      },
      "execution_count": null,
      "outputs": [
        {
          "output_type": "execute_result",
          "data": {
            "text/plain": [
              "((33673,), (11225,), (33673,), (11225,))"
            ]
          },
          "metadata": {},
          "execution_count": 130
        }
      ]
    },
    {
      "cell_type": "markdown",
      "source": [
        "Vectorization\n"
      ],
      "metadata": {
        "id": "8xaFFWs5jzRs"
      }
    },
    {
      "cell_type": "code",
      "source": [
        "from sklearn.feature_extraction.text import TfidfVectorizer\n"
      ],
      "metadata": {
        "id": "5W2Y2BHtj3dh"
      },
      "execution_count": null,
      "outputs": []
    },
    {
      "cell_type": "code",
      "source": [
        "vectorization = TfidfVectorizer()\n",
        "xv_train = vectorization.fit_transform(x_train)\n",
        "xv_test = vectorization.transform(x_test)"
      ],
      "metadata": {
        "id": "l8qKZqxukGKy"
      },
      "execution_count": null,
      "outputs": []
    },
    {
      "cell_type": "code",
      "source": [
        "xv_train"
      ],
      "metadata": {
        "colab": {
          "base_uri": "https://localhost:8080/"
        },
        "id": "nvN-8eyskUPZ",
        "outputId": "9abf1f05-72bf-4c4a-f95b-adb9e3cb8cd6"
      },
      "execution_count": null,
      "outputs": [
        {
          "output_type": "execute_result",
          "data": {
            "text/plain": [
              "<Compressed Sparse Row sparse matrix of dtype 'float64'\n",
              "\twith 403821 stored elements and shape (33673, 23118)>"
            ]
          },
          "metadata": {},
          "execution_count": 133
        }
      ]
    },
    {
      "cell_type": "markdown",
      "source": [
        "##### What data splitting ratio have you used and why?"
      ],
      "metadata": {
        "id": "qjKvONjwE8ra"
      }
    },
    {
      "cell_type": "markdown",
      "source": [
        "Answer Here."
      ],
      "metadata": {
        "id": "Y2lJ8cobFDb_"
      }
    },
    {
      "cell_type": "markdown",
      "source": [
        "## ***7. ML Model Implementation***"
      ],
      "metadata": {
        "id": "VfCC591jGiD4"
      }
    },
    {
      "cell_type": "markdown",
      "source": [
        "### ML Model - 1"
      ],
      "metadata": {
        "id": "OB4l2ZhMeS1U"
      }
    },
    {
      "cell_type": "code",
      "source": [
        "# ML Model - 1 Implementation\n",
        "\n",
        "# Fit the Algorithm\n",
        "\n",
        "# Predict on the model\n",
        "\n",
        "from sklearn.linear_model import LogisticRegression\n",
        "LR = LogisticRegression()\n",
        "LR.fit(xv_train, y_train)"
      ],
      "metadata": {
        "id": "7ebyywQieS1U",
        "colab": {
          "base_uri": "https://localhost:8080/",
          "height": 80
        },
        "outputId": "c6b2ed5e-b305-40a5-e67e-2ac8e8d49609"
      },
      "execution_count": null,
      "outputs": [
        {
          "output_type": "execute_result",
          "data": {
            "text/plain": [
              "LogisticRegression()"
            ],
            "text/html": [
              "<style>#sk-container-id-1 {\n",
              "  /* Definition of color scheme common for light and dark mode */\n",
              "  --sklearn-color-text: #000;\n",
              "  --sklearn-color-text-muted: #666;\n",
              "  --sklearn-color-line: gray;\n",
              "  /* Definition of color scheme for unfitted estimators */\n",
              "  --sklearn-color-unfitted-level-0: #fff5e6;\n",
              "  --sklearn-color-unfitted-level-1: #f6e4d2;\n",
              "  --sklearn-color-unfitted-level-2: #ffe0b3;\n",
              "  --sklearn-color-unfitted-level-3: chocolate;\n",
              "  /* Definition of color scheme for fitted estimators */\n",
              "  --sklearn-color-fitted-level-0: #f0f8ff;\n",
              "  --sklearn-color-fitted-level-1: #d4ebff;\n",
              "  --sklearn-color-fitted-level-2: #b3dbfd;\n",
              "  --sklearn-color-fitted-level-3: cornflowerblue;\n",
              "\n",
              "  /* Specific color for light theme */\n",
              "  --sklearn-color-text-on-default-background: var(--sg-text-color, var(--theme-code-foreground, var(--jp-content-font-color1, black)));\n",
              "  --sklearn-color-background: var(--sg-background-color, var(--theme-background, var(--jp-layout-color0, white)));\n",
              "  --sklearn-color-border-box: var(--sg-text-color, var(--theme-code-foreground, var(--jp-content-font-color1, black)));\n",
              "  --sklearn-color-icon: #696969;\n",
              "\n",
              "  @media (prefers-color-scheme: dark) {\n",
              "    /* Redefinition of color scheme for dark theme */\n",
              "    --sklearn-color-text-on-default-background: var(--sg-text-color, var(--theme-code-foreground, var(--jp-content-font-color1, white)));\n",
              "    --sklearn-color-background: var(--sg-background-color, var(--theme-background, var(--jp-layout-color0, #111)));\n",
              "    --sklearn-color-border-box: var(--sg-text-color, var(--theme-code-foreground, var(--jp-content-font-color1, white)));\n",
              "    --sklearn-color-icon: #878787;\n",
              "  }\n",
              "}\n",
              "\n",
              "#sk-container-id-1 {\n",
              "  color: var(--sklearn-color-text);\n",
              "}\n",
              "\n",
              "#sk-container-id-1 pre {\n",
              "  padding: 0;\n",
              "}\n",
              "\n",
              "#sk-container-id-1 input.sk-hidden--visually {\n",
              "  border: 0;\n",
              "  clip: rect(1px 1px 1px 1px);\n",
              "  clip: rect(1px, 1px, 1px, 1px);\n",
              "  height: 1px;\n",
              "  margin: -1px;\n",
              "  overflow: hidden;\n",
              "  padding: 0;\n",
              "  position: absolute;\n",
              "  width: 1px;\n",
              "}\n",
              "\n",
              "#sk-container-id-1 div.sk-dashed-wrapped {\n",
              "  border: 1px dashed var(--sklearn-color-line);\n",
              "  margin: 0 0.4em 0.5em 0.4em;\n",
              "  box-sizing: border-box;\n",
              "  padding-bottom: 0.4em;\n",
              "  background-color: var(--sklearn-color-background);\n",
              "}\n",
              "\n",
              "#sk-container-id-1 div.sk-container {\n",
              "  /* jupyter's `normalize.less` sets `[hidden] { display: none; }`\n",
              "     but bootstrap.min.css set `[hidden] { display: none !important; }`\n",
              "     so we also need the `!important` here to be able to override the\n",
              "     default hidden behavior on the sphinx rendered scikit-learn.org.\n",
              "     See: https://github.com/scikit-learn/scikit-learn/issues/21755 */\n",
              "  display: inline-block !important;\n",
              "  position: relative;\n",
              "}\n",
              "\n",
              "#sk-container-id-1 div.sk-text-repr-fallback {\n",
              "  display: none;\n",
              "}\n",
              "\n",
              "div.sk-parallel-item,\n",
              "div.sk-serial,\n",
              "div.sk-item {\n",
              "  /* draw centered vertical line to link estimators */\n",
              "  background-image: linear-gradient(var(--sklearn-color-text-on-default-background), var(--sklearn-color-text-on-default-background));\n",
              "  background-size: 2px 100%;\n",
              "  background-repeat: no-repeat;\n",
              "  background-position: center center;\n",
              "}\n",
              "\n",
              "/* Parallel-specific style estimator block */\n",
              "\n",
              "#sk-container-id-1 div.sk-parallel-item::after {\n",
              "  content: \"\";\n",
              "  width: 100%;\n",
              "  border-bottom: 2px solid var(--sklearn-color-text-on-default-background);\n",
              "  flex-grow: 1;\n",
              "}\n",
              "\n",
              "#sk-container-id-1 div.sk-parallel {\n",
              "  display: flex;\n",
              "  align-items: stretch;\n",
              "  justify-content: center;\n",
              "  background-color: var(--sklearn-color-background);\n",
              "  position: relative;\n",
              "}\n",
              "\n",
              "#sk-container-id-1 div.sk-parallel-item {\n",
              "  display: flex;\n",
              "  flex-direction: column;\n",
              "}\n",
              "\n",
              "#sk-container-id-1 div.sk-parallel-item:first-child::after {\n",
              "  align-self: flex-end;\n",
              "  width: 50%;\n",
              "}\n",
              "\n",
              "#sk-container-id-1 div.sk-parallel-item:last-child::after {\n",
              "  align-self: flex-start;\n",
              "  width: 50%;\n",
              "}\n",
              "\n",
              "#sk-container-id-1 div.sk-parallel-item:only-child::after {\n",
              "  width: 0;\n",
              "}\n",
              "\n",
              "/* Serial-specific style estimator block */\n",
              "\n",
              "#sk-container-id-1 div.sk-serial {\n",
              "  display: flex;\n",
              "  flex-direction: column;\n",
              "  align-items: center;\n",
              "  background-color: var(--sklearn-color-background);\n",
              "  padding-right: 1em;\n",
              "  padding-left: 1em;\n",
              "}\n",
              "\n",
              "\n",
              "/* Toggleable style: style used for estimator/Pipeline/ColumnTransformer box that is\n",
              "clickable and can be expanded/collapsed.\n",
              "- Pipeline and ColumnTransformer use this feature and define the default style\n",
              "- Estimators will overwrite some part of the style using the `sk-estimator` class\n",
              "*/\n",
              "\n",
              "/* Pipeline and ColumnTransformer style (default) */\n",
              "\n",
              "#sk-container-id-1 div.sk-toggleable {\n",
              "  /* Default theme specific background. It is overwritten whether we have a\n",
              "  specific estimator or a Pipeline/ColumnTransformer */\n",
              "  background-color: var(--sklearn-color-background);\n",
              "}\n",
              "\n",
              "/* Toggleable label */\n",
              "#sk-container-id-1 label.sk-toggleable__label {\n",
              "  cursor: pointer;\n",
              "  display: flex;\n",
              "  width: 100%;\n",
              "  margin-bottom: 0;\n",
              "  padding: 0.5em;\n",
              "  box-sizing: border-box;\n",
              "  text-align: center;\n",
              "  align-items: start;\n",
              "  justify-content: space-between;\n",
              "  gap: 0.5em;\n",
              "}\n",
              "\n",
              "#sk-container-id-1 label.sk-toggleable__label .caption {\n",
              "  font-size: 0.6rem;\n",
              "  font-weight: lighter;\n",
              "  color: var(--sklearn-color-text-muted);\n",
              "}\n",
              "\n",
              "#sk-container-id-1 label.sk-toggleable__label-arrow:before {\n",
              "  /* Arrow on the left of the label */\n",
              "  content: \"▸\";\n",
              "  float: left;\n",
              "  margin-right: 0.25em;\n",
              "  color: var(--sklearn-color-icon);\n",
              "}\n",
              "\n",
              "#sk-container-id-1 label.sk-toggleable__label-arrow:hover:before {\n",
              "  color: var(--sklearn-color-text);\n",
              "}\n",
              "\n",
              "/* Toggleable content - dropdown */\n",
              "\n",
              "#sk-container-id-1 div.sk-toggleable__content {\n",
              "  max-height: 0;\n",
              "  max-width: 0;\n",
              "  overflow: hidden;\n",
              "  text-align: left;\n",
              "  /* unfitted */\n",
              "  background-color: var(--sklearn-color-unfitted-level-0);\n",
              "}\n",
              "\n",
              "#sk-container-id-1 div.sk-toggleable__content.fitted {\n",
              "  /* fitted */\n",
              "  background-color: var(--sklearn-color-fitted-level-0);\n",
              "}\n",
              "\n",
              "#sk-container-id-1 div.sk-toggleable__content pre {\n",
              "  margin: 0.2em;\n",
              "  border-radius: 0.25em;\n",
              "  color: var(--sklearn-color-text);\n",
              "  /* unfitted */\n",
              "  background-color: var(--sklearn-color-unfitted-level-0);\n",
              "}\n",
              "\n",
              "#sk-container-id-1 div.sk-toggleable__content.fitted pre {\n",
              "  /* unfitted */\n",
              "  background-color: var(--sklearn-color-fitted-level-0);\n",
              "}\n",
              "\n",
              "#sk-container-id-1 input.sk-toggleable__control:checked~div.sk-toggleable__content {\n",
              "  /* Expand drop-down */\n",
              "  max-height: 200px;\n",
              "  max-width: 100%;\n",
              "  overflow: auto;\n",
              "}\n",
              "\n",
              "#sk-container-id-1 input.sk-toggleable__control:checked~label.sk-toggleable__label-arrow:before {\n",
              "  content: \"▾\";\n",
              "}\n",
              "\n",
              "/* Pipeline/ColumnTransformer-specific style */\n",
              "\n",
              "#sk-container-id-1 div.sk-label input.sk-toggleable__control:checked~label.sk-toggleable__label {\n",
              "  color: var(--sklearn-color-text);\n",
              "  background-color: var(--sklearn-color-unfitted-level-2);\n",
              "}\n",
              "\n",
              "#sk-container-id-1 div.sk-label.fitted input.sk-toggleable__control:checked~label.sk-toggleable__label {\n",
              "  background-color: var(--sklearn-color-fitted-level-2);\n",
              "}\n",
              "\n",
              "/* Estimator-specific style */\n",
              "\n",
              "/* Colorize estimator box */\n",
              "#sk-container-id-1 div.sk-estimator input.sk-toggleable__control:checked~label.sk-toggleable__label {\n",
              "  /* unfitted */\n",
              "  background-color: var(--sklearn-color-unfitted-level-2);\n",
              "}\n",
              "\n",
              "#sk-container-id-1 div.sk-estimator.fitted input.sk-toggleable__control:checked~label.sk-toggleable__label {\n",
              "  /* fitted */\n",
              "  background-color: var(--sklearn-color-fitted-level-2);\n",
              "}\n",
              "\n",
              "#sk-container-id-1 div.sk-label label.sk-toggleable__label,\n",
              "#sk-container-id-1 div.sk-label label {\n",
              "  /* The background is the default theme color */\n",
              "  color: var(--sklearn-color-text-on-default-background);\n",
              "}\n",
              "\n",
              "/* On hover, darken the color of the background */\n",
              "#sk-container-id-1 div.sk-label:hover label.sk-toggleable__label {\n",
              "  color: var(--sklearn-color-text);\n",
              "  background-color: var(--sklearn-color-unfitted-level-2);\n",
              "}\n",
              "\n",
              "/* Label box, darken color on hover, fitted */\n",
              "#sk-container-id-1 div.sk-label.fitted:hover label.sk-toggleable__label.fitted {\n",
              "  color: var(--sklearn-color-text);\n",
              "  background-color: var(--sklearn-color-fitted-level-2);\n",
              "}\n",
              "\n",
              "/* Estimator label */\n",
              "\n",
              "#sk-container-id-1 div.sk-label label {\n",
              "  font-family: monospace;\n",
              "  font-weight: bold;\n",
              "  display: inline-block;\n",
              "  line-height: 1.2em;\n",
              "}\n",
              "\n",
              "#sk-container-id-1 div.sk-label-container {\n",
              "  text-align: center;\n",
              "}\n",
              "\n",
              "/* Estimator-specific */\n",
              "#sk-container-id-1 div.sk-estimator {\n",
              "  font-family: monospace;\n",
              "  border: 1px dotted var(--sklearn-color-border-box);\n",
              "  border-radius: 0.25em;\n",
              "  box-sizing: border-box;\n",
              "  margin-bottom: 0.5em;\n",
              "  /* unfitted */\n",
              "  background-color: var(--sklearn-color-unfitted-level-0);\n",
              "}\n",
              "\n",
              "#sk-container-id-1 div.sk-estimator.fitted {\n",
              "  /* fitted */\n",
              "  background-color: var(--sklearn-color-fitted-level-0);\n",
              "}\n",
              "\n",
              "/* on hover */\n",
              "#sk-container-id-1 div.sk-estimator:hover {\n",
              "  /* unfitted */\n",
              "  background-color: var(--sklearn-color-unfitted-level-2);\n",
              "}\n",
              "\n",
              "#sk-container-id-1 div.sk-estimator.fitted:hover {\n",
              "  /* fitted */\n",
              "  background-color: var(--sklearn-color-fitted-level-2);\n",
              "}\n",
              "\n",
              "/* Specification for estimator info (e.g. \"i\" and \"?\") */\n",
              "\n",
              "/* Common style for \"i\" and \"?\" */\n",
              "\n",
              ".sk-estimator-doc-link,\n",
              "a:link.sk-estimator-doc-link,\n",
              "a:visited.sk-estimator-doc-link {\n",
              "  float: right;\n",
              "  font-size: smaller;\n",
              "  line-height: 1em;\n",
              "  font-family: monospace;\n",
              "  background-color: var(--sklearn-color-background);\n",
              "  border-radius: 1em;\n",
              "  height: 1em;\n",
              "  width: 1em;\n",
              "  text-decoration: none !important;\n",
              "  margin-left: 0.5em;\n",
              "  text-align: center;\n",
              "  /* unfitted */\n",
              "  border: var(--sklearn-color-unfitted-level-1) 1pt solid;\n",
              "  color: var(--sklearn-color-unfitted-level-1);\n",
              "}\n",
              "\n",
              ".sk-estimator-doc-link.fitted,\n",
              "a:link.sk-estimator-doc-link.fitted,\n",
              "a:visited.sk-estimator-doc-link.fitted {\n",
              "  /* fitted */\n",
              "  border: var(--sklearn-color-fitted-level-1) 1pt solid;\n",
              "  color: var(--sklearn-color-fitted-level-1);\n",
              "}\n",
              "\n",
              "/* On hover */\n",
              "div.sk-estimator:hover .sk-estimator-doc-link:hover,\n",
              ".sk-estimator-doc-link:hover,\n",
              "div.sk-label-container:hover .sk-estimator-doc-link:hover,\n",
              ".sk-estimator-doc-link:hover {\n",
              "  /* unfitted */\n",
              "  background-color: var(--sklearn-color-unfitted-level-3);\n",
              "  color: var(--sklearn-color-background);\n",
              "  text-decoration: none;\n",
              "}\n",
              "\n",
              "div.sk-estimator.fitted:hover .sk-estimator-doc-link.fitted:hover,\n",
              ".sk-estimator-doc-link.fitted:hover,\n",
              "div.sk-label-container:hover .sk-estimator-doc-link.fitted:hover,\n",
              ".sk-estimator-doc-link.fitted:hover {\n",
              "  /* fitted */\n",
              "  background-color: var(--sklearn-color-fitted-level-3);\n",
              "  color: var(--sklearn-color-background);\n",
              "  text-decoration: none;\n",
              "}\n",
              "\n",
              "/* Span, style for the box shown on hovering the info icon */\n",
              ".sk-estimator-doc-link span {\n",
              "  display: none;\n",
              "  z-index: 9999;\n",
              "  position: relative;\n",
              "  font-weight: normal;\n",
              "  right: .2ex;\n",
              "  padding: .5ex;\n",
              "  margin: .5ex;\n",
              "  width: min-content;\n",
              "  min-width: 20ex;\n",
              "  max-width: 50ex;\n",
              "  color: var(--sklearn-color-text);\n",
              "  box-shadow: 2pt 2pt 4pt #999;\n",
              "  /* unfitted */\n",
              "  background: var(--sklearn-color-unfitted-level-0);\n",
              "  border: .5pt solid var(--sklearn-color-unfitted-level-3);\n",
              "}\n",
              "\n",
              ".sk-estimator-doc-link.fitted span {\n",
              "  /* fitted */\n",
              "  background: var(--sklearn-color-fitted-level-0);\n",
              "  border: var(--sklearn-color-fitted-level-3);\n",
              "}\n",
              "\n",
              ".sk-estimator-doc-link:hover span {\n",
              "  display: block;\n",
              "}\n",
              "\n",
              "/* \"?\"-specific style due to the `<a>` HTML tag */\n",
              "\n",
              "#sk-container-id-1 a.estimator_doc_link {\n",
              "  float: right;\n",
              "  font-size: 1rem;\n",
              "  line-height: 1em;\n",
              "  font-family: monospace;\n",
              "  background-color: var(--sklearn-color-background);\n",
              "  border-radius: 1rem;\n",
              "  height: 1rem;\n",
              "  width: 1rem;\n",
              "  text-decoration: none;\n",
              "  /* unfitted */\n",
              "  color: var(--sklearn-color-unfitted-level-1);\n",
              "  border: var(--sklearn-color-unfitted-level-1) 1pt solid;\n",
              "}\n",
              "\n",
              "#sk-container-id-1 a.estimator_doc_link.fitted {\n",
              "  /* fitted */\n",
              "  border: var(--sklearn-color-fitted-level-1) 1pt solid;\n",
              "  color: var(--sklearn-color-fitted-level-1);\n",
              "}\n",
              "\n",
              "/* On hover */\n",
              "#sk-container-id-1 a.estimator_doc_link:hover {\n",
              "  /* unfitted */\n",
              "  background-color: var(--sklearn-color-unfitted-level-3);\n",
              "  color: var(--sklearn-color-background);\n",
              "  text-decoration: none;\n",
              "}\n",
              "\n",
              "#sk-container-id-1 a.estimator_doc_link.fitted:hover {\n",
              "  /* fitted */\n",
              "  background-color: var(--sklearn-color-fitted-level-3);\n",
              "}\n",
              "</style><div id=\"sk-container-id-1\" class=\"sk-top-container\"><div class=\"sk-text-repr-fallback\"><pre>LogisticRegression()</pre><b>In a Jupyter environment, please rerun this cell to show the HTML representation or trust the notebook. <br />On GitHub, the HTML representation is unable to render, please try loading this page with nbviewer.org.</b></div><div class=\"sk-container\" hidden><div class=\"sk-item\"><div class=\"sk-estimator fitted sk-toggleable\"><input class=\"sk-toggleable__control sk-hidden--visually\" id=\"sk-estimator-id-1\" type=\"checkbox\" checked><label for=\"sk-estimator-id-1\" class=\"sk-toggleable__label fitted sk-toggleable__label-arrow\"><div><div>LogisticRegression</div></div><div><a class=\"sk-estimator-doc-link fitted\" rel=\"noreferrer\" target=\"_blank\" href=\"https://scikit-learn.org/1.6/modules/generated/sklearn.linear_model.LogisticRegression.html\">?<span>Documentation for LogisticRegression</span></a><span class=\"sk-estimator-doc-link fitted\">i<span>Fitted</span></span></div></label><div class=\"sk-toggleable__content fitted\"><pre>LogisticRegression()</pre></div> </div></div></div></div>"
            ]
          },
          "metadata": {},
          "execution_count": 134
        }
      ]
    },
    {
      "cell_type": "code",
      "source": [
        "pred_lr = LR.predict(xv_test)"
      ],
      "metadata": {
        "id": "KgcgG_jVlD5B"
      },
      "execution_count": null,
      "outputs": []
    },
    {
      "cell_type": "code",
      "source": [
        "LR.score(xv_test, y_test)"
      ],
      "metadata": {
        "colab": {
          "base_uri": "https://localhost:8080/"
        },
        "id": "IuZ9EVnRlI1u",
        "outputId": "2df38396-a9ec-489d-e89a-481e30aab7d1"
      },
      "execution_count": null,
      "outputs": [
        {
          "output_type": "execute_result",
          "data": {
            "text/plain": [
              "0.9510022271714922"
            ]
          },
          "metadata": {},
          "execution_count": 136
        }
      ]
    },
    {
      "cell_type": "code",
      "source": [
        "from sklearn.metrics import classification_report\n"
      ],
      "metadata": {
        "id": "aU9liCWOly8R"
      },
      "execution_count": null,
      "outputs": []
    },
    {
      "cell_type": "code",
      "source": [
        "print(classification_report(y_test, pred_lr))"
      ],
      "metadata": {
        "colab": {
          "base_uri": "https://localhost:8080/"
        },
        "id": "7Bn848D0lPqS",
        "outputId": "d4d05440-fd16-49c3-e0b0-59104f64d1b7"
      },
      "execution_count": null,
      "outputs": [
        {
          "output_type": "stream",
          "name": "stdout",
          "text": [
            "              precision    recall  f1-score   support\n",
            "\n",
            "           0       0.96      0.94      0.95      5856\n",
            "           1       0.94      0.96      0.95      5369\n",
            "\n",
            "    accuracy                           0.95     11225\n",
            "   macro avg       0.95      0.95      0.95     11225\n",
            "weighted avg       0.95      0.95      0.95     11225\n",
            "\n"
          ]
        }
      ]
    },
    {
      "cell_type": "markdown",
      "source": [
        "#### 1. Explain the ML Model used and it's performance using Evaluation metric Score Chart."
      ],
      "metadata": {
        "id": "ArJBuiUVfxKd"
      }
    },
    {
      "cell_type": "code",
      "source": [
        "# Visualizing evaluation Metric Score chart"
      ],
      "metadata": {
        "id": "rqD5ZohzfxKe"
      },
      "execution_count": null,
      "outputs": []
    },
    {
      "cell_type": "markdown",
      "source": [
        "#### 2. Cross- Validation & Hyperparameter Tuning"
      ],
      "metadata": {
        "id": "4qY1EAkEfxKe"
      }
    },
    {
      "cell_type": "code",
      "source": [
        "# ML Model - 1 Implementation with hyperparameter optimization techniques (i.e., GridSearch CV, RandomSearch CV, Bayesian Optimization etc.)\n",
        "\n",
        "# Fit the Algorithm\n",
        "\n",
        "# Predict on the model"
      ],
      "metadata": {
        "id": "Dy61ujd6fxKe"
      },
      "execution_count": null,
      "outputs": []
    },
    {
      "cell_type": "markdown",
      "source": [
        "##### Which hyperparameter optimization technique have you used and why?"
      ],
      "metadata": {
        "id": "PiV4Ypx8fxKe"
      }
    },
    {
      "cell_type": "markdown",
      "source": [
        "Answer Here."
      ],
      "metadata": {
        "id": "negyGRa7fxKf"
      }
    },
    {
      "cell_type": "markdown",
      "source": [
        "##### Have you seen any improvement? Note down the improvement with updates Evaluation metric Score Chart."
      ],
      "metadata": {
        "id": "TfvqoZmBfxKf"
      }
    },
    {
      "cell_type": "markdown",
      "source": [
        "Answer Here."
      ],
      "metadata": {
        "id": "OaLui8CcfxKf"
      }
    },
    {
      "cell_type": "markdown",
      "source": [
        "### ML Model - 2"
      ],
      "metadata": {
        "id": "dJ2tPlVmpsJ0"
      }
    },
    {
      "cell_type": "code",
      "source": [
        "# Implementing random forest\n",
        "from sklearn.ensemble import RandomForestClassifier\n",
        "\n",
        "rf_classifier = RandomForestClassifier(n_estimators = 100)\n",
        "rf_classifier.fit(xv_train,y_train)"
      ],
      "metadata": {
        "colab": {
          "base_uri": "https://localhost:8080/",
          "height": 80
        },
        "id": "KSoqu_fKmflE",
        "outputId": "9abcf9de-5bb3-4240-d9fc-5e8382ee6155"
      },
      "execution_count": null,
      "outputs": [
        {
          "output_type": "execute_result",
          "data": {
            "text/plain": [
              "RandomForestClassifier()"
            ],
            "text/html": [
              "<style>#sk-container-id-2 {\n",
              "  /* Definition of color scheme common for light and dark mode */\n",
              "  --sklearn-color-text: #000;\n",
              "  --sklearn-color-text-muted: #666;\n",
              "  --sklearn-color-line: gray;\n",
              "  /* Definition of color scheme for unfitted estimators */\n",
              "  --sklearn-color-unfitted-level-0: #fff5e6;\n",
              "  --sklearn-color-unfitted-level-1: #f6e4d2;\n",
              "  --sklearn-color-unfitted-level-2: #ffe0b3;\n",
              "  --sklearn-color-unfitted-level-3: chocolate;\n",
              "  /* Definition of color scheme for fitted estimators */\n",
              "  --sklearn-color-fitted-level-0: #f0f8ff;\n",
              "  --sklearn-color-fitted-level-1: #d4ebff;\n",
              "  --sklearn-color-fitted-level-2: #b3dbfd;\n",
              "  --sklearn-color-fitted-level-3: cornflowerblue;\n",
              "\n",
              "  /* Specific color for light theme */\n",
              "  --sklearn-color-text-on-default-background: var(--sg-text-color, var(--theme-code-foreground, var(--jp-content-font-color1, black)));\n",
              "  --sklearn-color-background: var(--sg-background-color, var(--theme-background, var(--jp-layout-color0, white)));\n",
              "  --sklearn-color-border-box: var(--sg-text-color, var(--theme-code-foreground, var(--jp-content-font-color1, black)));\n",
              "  --sklearn-color-icon: #696969;\n",
              "\n",
              "  @media (prefers-color-scheme: dark) {\n",
              "    /* Redefinition of color scheme for dark theme */\n",
              "    --sklearn-color-text-on-default-background: var(--sg-text-color, var(--theme-code-foreground, var(--jp-content-font-color1, white)));\n",
              "    --sklearn-color-background: var(--sg-background-color, var(--theme-background, var(--jp-layout-color0, #111)));\n",
              "    --sklearn-color-border-box: var(--sg-text-color, var(--theme-code-foreground, var(--jp-content-font-color1, white)));\n",
              "    --sklearn-color-icon: #878787;\n",
              "  }\n",
              "}\n",
              "\n",
              "#sk-container-id-2 {\n",
              "  color: var(--sklearn-color-text);\n",
              "}\n",
              "\n",
              "#sk-container-id-2 pre {\n",
              "  padding: 0;\n",
              "}\n",
              "\n",
              "#sk-container-id-2 input.sk-hidden--visually {\n",
              "  border: 0;\n",
              "  clip: rect(1px 1px 1px 1px);\n",
              "  clip: rect(1px, 1px, 1px, 1px);\n",
              "  height: 1px;\n",
              "  margin: -1px;\n",
              "  overflow: hidden;\n",
              "  padding: 0;\n",
              "  position: absolute;\n",
              "  width: 1px;\n",
              "}\n",
              "\n",
              "#sk-container-id-2 div.sk-dashed-wrapped {\n",
              "  border: 1px dashed var(--sklearn-color-line);\n",
              "  margin: 0 0.4em 0.5em 0.4em;\n",
              "  box-sizing: border-box;\n",
              "  padding-bottom: 0.4em;\n",
              "  background-color: var(--sklearn-color-background);\n",
              "}\n",
              "\n",
              "#sk-container-id-2 div.sk-container {\n",
              "  /* jupyter's `normalize.less` sets `[hidden] { display: none; }`\n",
              "     but bootstrap.min.css set `[hidden] { display: none !important; }`\n",
              "     so we also need the `!important` here to be able to override the\n",
              "     default hidden behavior on the sphinx rendered scikit-learn.org.\n",
              "     See: https://github.com/scikit-learn/scikit-learn/issues/21755 */\n",
              "  display: inline-block !important;\n",
              "  position: relative;\n",
              "}\n",
              "\n",
              "#sk-container-id-2 div.sk-text-repr-fallback {\n",
              "  display: none;\n",
              "}\n",
              "\n",
              "div.sk-parallel-item,\n",
              "div.sk-serial,\n",
              "div.sk-item {\n",
              "  /* draw centered vertical line to link estimators */\n",
              "  background-image: linear-gradient(var(--sklearn-color-text-on-default-background), var(--sklearn-color-text-on-default-background));\n",
              "  background-size: 2px 100%;\n",
              "  background-repeat: no-repeat;\n",
              "  background-position: center center;\n",
              "}\n",
              "\n",
              "/* Parallel-specific style estimator block */\n",
              "\n",
              "#sk-container-id-2 div.sk-parallel-item::after {\n",
              "  content: \"\";\n",
              "  width: 100%;\n",
              "  border-bottom: 2px solid var(--sklearn-color-text-on-default-background);\n",
              "  flex-grow: 1;\n",
              "}\n",
              "\n",
              "#sk-container-id-2 div.sk-parallel {\n",
              "  display: flex;\n",
              "  align-items: stretch;\n",
              "  justify-content: center;\n",
              "  background-color: var(--sklearn-color-background);\n",
              "  position: relative;\n",
              "}\n",
              "\n",
              "#sk-container-id-2 div.sk-parallel-item {\n",
              "  display: flex;\n",
              "  flex-direction: column;\n",
              "}\n",
              "\n",
              "#sk-container-id-2 div.sk-parallel-item:first-child::after {\n",
              "  align-self: flex-end;\n",
              "  width: 50%;\n",
              "}\n",
              "\n",
              "#sk-container-id-2 div.sk-parallel-item:last-child::after {\n",
              "  align-self: flex-start;\n",
              "  width: 50%;\n",
              "}\n",
              "\n",
              "#sk-container-id-2 div.sk-parallel-item:only-child::after {\n",
              "  width: 0;\n",
              "}\n",
              "\n",
              "/* Serial-specific style estimator block */\n",
              "\n",
              "#sk-container-id-2 div.sk-serial {\n",
              "  display: flex;\n",
              "  flex-direction: column;\n",
              "  align-items: center;\n",
              "  background-color: var(--sklearn-color-background);\n",
              "  padding-right: 1em;\n",
              "  padding-left: 1em;\n",
              "}\n",
              "\n",
              "\n",
              "/* Toggleable style: style used for estimator/Pipeline/ColumnTransformer box that is\n",
              "clickable and can be expanded/collapsed.\n",
              "- Pipeline and ColumnTransformer use this feature and define the default style\n",
              "- Estimators will overwrite some part of the style using the `sk-estimator` class\n",
              "*/\n",
              "\n",
              "/* Pipeline and ColumnTransformer style (default) */\n",
              "\n",
              "#sk-container-id-2 div.sk-toggleable {\n",
              "  /* Default theme specific background. It is overwritten whether we have a\n",
              "  specific estimator or a Pipeline/ColumnTransformer */\n",
              "  background-color: var(--sklearn-color-background);\n",
              "}\n",
              "\n",
              "/* Toggleable label */\n",
              "#sk-container-id-2 label.sk-toggleable__label {\n",
              "  cursor: pointer;\n",
              "  display: flex;\n",
              "  width: 100%;\n",
              "  margin-bottom: 0;\n",
              "  padding: 0.5em;\n",
              "  box-sizing: border-box;\n",
              "  text-align: center;\n",
              "  align-items: start;\n",
              "  justify-content: space-between;\n",
              "  gap: 0.5em;\n",
              "}\n",
              "\n",
              "#sk-container-id-2 label.sk-toggleable__label .caption {\n",
              "  font-size: 0.6rem;\n",
              "  font-weight: lighter;\n",
              "  color: var(--sklearn-color-text-muted);\n",
              "}\n",
              "\n",
              "#sk-container-id-2 label.sk-toggleable__label-arrow:before {\n",
              "  /* Arrow on the left of the label */\n",
              "  content: \"▸\";\n",
              "  float: left;\n",
              "  margin-right: 0.25em;\n",
              "  color: var(--sklearn-color-icon);\n",
              "}\n",
              "\n",
              "#sk-container-id-2 label.sk-toggleable__label-arrow:hover:before {\n",
              "  color: var(--sklearn-color-text);\n",
              "}\n",
              "\n",
              "/* Toggleable content - dropdown */\n",
              "\n",
              "#sk-container-id-2 div.sk-toggleable__content {\n",
              "  max-height: 0;\n",
              "  max-width: 0;\n",
              "  overflow: hidden;\n",
              "  text-align: left;\n",
              "  /* unfitted */\n",
              "  background-color: var(--sklearn-color-unfitted-level-0);\n",
              "}\n",
              "\n",
              "#sk-container-id-2 div.sk-toggleable__content.fitted {\n",
              "  /* fitted */\n",
              "  background-color: var(--sklearn-color-fitted-level-0);\n",
              "}\n",
              "\n",
              "#sk-container-id-2 div.sk-toggleable__content pre {\n",
              "  margin: 0.2em;\n",
              "  border-radius: 0.25em;\n",
              "  color: var(--sklearn-color-text);\n",
              "  /* unfitted */\n",
              "  background-color: var(--sklearn-color-unfitted-level-0);\n",
              "}\n",
              "\n",
              "#sk-container-id-2 div.sk-toggleable__content.fitted pre {\n",
              "  /* unfitted */\n",
              "  background-color: var(--sklearn-color-fitted-level-0);\n",
              "}\n",
              "\n",
              "#sk-container-id-2 input.sk-toggleable__control:checked~div.sk-toggleable__content {\n",
              "  /* Expand drop-down */\n",
              "  max-height: 200px;\n",
              "  max-width: 100%;\n",
              "  overflow: auto;\n",
              "}\n",
              "\n",
              "#sk-container-id-2 input.sk-toggleable__control:checked~label.sk-toggleable__label-arrow:before {\n",
              "  content: \"▾\";\n",
              "}\n",
              "\n",
              "/* Pipeline/ColumnTransformer-specific style */\n",
              "\n",
              "#sk-container-id-2 div.sk-label input.sk-toggleable__control:checked~label.sk-toggleable__label {\n",
              "  color: var(--sklearn-color-text);\n",
              "  background-color: var(--sklearn-color-unfitted-level-2);\n",
              "}\n",
              "\n",
              "#sk-container-id-2 div.sk-label.fitted input.sk-toggleable__control:checked~label.sk-toggleable__label {\n",
              "  background-color: var(--sklearn-color-fitted-level-2);\n",
              "}\n",
              "\n",
              "/* Estimator-specific style */\n",
              "\n",
              "/* Colorize estimator box */\n",
              "#sk-container-id-2 div.sk-estimator input.sk-toggleable__control:checked~label.sk-toggleable__label {\n",
              "  /* unfitted */\n",
              "  background-color: var(--sklearn-color-unfitted-level-2);\n",
              "}\n",
              "\n",
              "#sk-container-id-2 div.sk-estimator.fitted input.sk-toggleable__control:checked~label.sk-toggleable__label {\n",
              "  /* fitted */\n",
              "  background-color: var(--sklearn-color-fitted-level-2);\n",
              "}\n",
              "\n",
              "#sk-container-id-2 div.sk-label label.sk-toggleable__label,\n",
              "#sk-container-id-2 div.sk-label label {\n",
              "  /* The background is the default theme color */\n",
              "  color: var(--sklearn-color-text-on-default-background);\n",
              "}\n",
              "\n",
              "/* On hover, darken the color of the background */\n",
              "#sk-container-id-2 div.sk-label:hover label.sk-toggleable__label {\n",
              "  color: var(--sklearn-color-text);\n",
              "  background-color: var(--sklearn-color-unfitted-level-2);\n",
              "}\n",
              "\n",
              "/* Label box, darken color on hover, fitted */\n",
              "#sk-container-id-2 div.sk-label.fitted:hover label.sk-toggleable__label.fitted {\n",
              "  color: var(--sklearn-color-text);\n",
              "  background-color: var(--sklearn-color-fitted-level-2);\n",
              "}\n",
              "\n",
              "/* Estimator label */\n",
              "\n",
              "#sk-container-id-2 div.sk-label label {\n",
              "  font-family: monospace;\n",
              "  font-weight: bold;\n",
              "  display: inline-block;\n",
              "  line-height: 1.2em;\n",
              "}\n",
              "\n",
              "#sk-container-id-2 div.sk-label-container {\n",
              "  text-align: center;\n",
              "}\n",
              "\n",
              "/* Estimator-specific */\n",
              "#sk-container-id-2 div.sk-estimator {\n",
              "  font-family: monospace;\n",
              "  border: 1px dotted var(--sklearn-color-border-box);\n",
              "  border-radius: 0.25em;\n",
              "  box-sizing: border-box;\n",
              "  margin-bottom: 0.5em;\n",
              "  /* unfitted */\n",
              "  background-color: var(--sklearn-color-unfitted-level-0);\n",
              "}\n",
              "\n",
              "#sk-container-id-2 div.sk-estimator.fitted {\n",
              "  /* fitted */\n",
              "  background-color: var(--sklearn-color-fitted-level-0);\n",
              "}\n",
              "\n",
              "/* on hover */\n",
              "#sk-container-id-2 div.sk-estimator:hover {\n",
              "  /* unfitted */\n",
              "  background-color: var(--sklearn-color-unfitted-level-2);\n",
              "}\n",
              "\n",
              "#sk-container-id-2 div.sk-estimator.fitted:hover {\n",
              "  /* fitted */\n",
              "  background-color: var(--sklearn-color-fitted-level-2);\n",
              "}\n",
              "\n",
              "/* Specification for estimator info (e.g. \"i\" and \"?\") */\n",
              "\n",
              "/* Common style for \"i\" and \"?\" */\n",
              "\n",
              ".sk-estimator-doc-link,\n",
              "a:link.sk-estimator-doc-link,\n",
              "a:visited.sk-estimator-doc-link {\n",
              "  float: right;\n",
              "  font-size: smaller;\n",
              "  line-height: 1em;\n",
              "  font-family: monospace;\n",
              "  background-color: var(--sklearn-color-background);\n",
              "  border-radius: 1em;\n",
              "  height: 1em;\n",
              "  width: 1em;\n",
              "  text-decoration: none !important;\n",
              "  margin-left: 0.5em;\n",
              "  text-align: center;\n",
              "  /* unfitted */\n",
              "  border: var(--sklearn-color-unfitted-level-1) 1pt solid;\n",
              "  color: var(--sklearn-color-unfitted-level-1);\n",
              "}\n",
              "\n",
              ".sk-estimator-doc-link.fitted,\n",
              "a:link.sk-estimator-doc-link.fitted,\n",
              "a:visited.sk-estimator-doc-link.fitted {\n",
              "  /* fitted */\n",
              "  border: var(--sklearn-color-fitted-level-1) 1pt solid;\n",
              "  color: var(--sklearn-color-fitted-level-1);\n",
              "}\n",
              "\n",
              "/* On hover */\n",
              "div.sk-estimator:hover .sk-estimator-doc-link:hover,\n",
              ".sk-estimator-doc-link:hover,\n",
              "div.sk-label-container:hover .sk-estimator-doc-link:hover,\n",
              ".sk-estimator-doc-link:hover {\n",
              "  /* unfitted */\n",
              "  background-color: var(--sklearn-color-unfitted-level-3);\n",
              "  color: var(--sklearn-color-background);\n",
              "  text-decoration: none;\n",
              "}\n",
              "\n",
              "div.sk-estimator.fitted:hover .sk-estimator-doc-link.fitted:hover,\n",
              ".sk-estimator-doc-link.fitted:hover,\n",
              "div.sk-label-container:hover .sk-estimator-doc-link.fitted:hover,\n",
              ".sk-estimator-doc-link.fitted:hover {\n",
              "  /* fitted */\n",
              "  background-color: var(--sklearn-color-fitted-level-3);\n",
              "  color: var(--sklearn-color-background);\n",
              "  text-decoration: none;\n",
              "}\n",
              "\n",
              "/* Span, style for the box shown on hovering the info icon */\n",
              ".sk-estimator-doc-link span {\n",
              "  display: none;\n",
              "  z-index: 9999;\n",
              "  position: relative;\n",
              "  font-weight: normal;\n",
              "  right: .2ex;\n",
              "  padding: .5ex;\n",
              "  margin: .5ex;\n",
              "  width: min-content;\n",
              "  min-width: 20ex;\n",
              "  max-width: 50ex;\n",
              "  color: var(--sklearn-color-text);\n",
              "  box-shadow: 2pt 2pt 4pt #999;\n",
              "  /* unfitted */\n",
              "  background: var(--sklearn-color-unfitted-level-0);\n",
              "  border: .5pt solid var(--sklearn-color-unfitted-level-3);\n",
              "}\n",
              "\n",
              ".sk-estimator-doc-link.fitted span {\n",
              "  /* fitted */\n",
              "  background: var(--sklearn-color-fitted-level-0);\n",
              "  border: var(--sklearn-color-fitted-level-3);\n",
              "}\n",
              "\n",
              ".sk-estimator-doc-link:hover span {\n",
              "  display: block;\n",
              "}\n",
              "\n",
              "/* \"?\"-specific style due to the `<a>` HTML tag */\n",
              "\n",
              "#sk-container-id-2 a.estimator_doc_link {\n",
              "  float: right;\n",
              "  font-size: 1rem;\n",
              "  line-height: 1em;\n",
              "  font-family: monospace;\n",
              "  background-color: var(--sklearn-color-background);\n",
              "  border-radius: 1rem;\n",
              "  height: 1rem;\n",
              "  width: 1rem;\n",
              "  text-decoration: none;\n",
              "  /* unfitted */\n",
              "  color: var(--sklearn-color-unfitted-level-1);\n",
              "  border: var(--sklearn-color-unfitted-level-1) 1pt solid;\n",
              "}\n",
              "\n",
              "#sk-container-id-2 a.estimator_doc_link.fitted {\n",
              "  /* fitted */\n",
              "  border: var(--sklearn-color-fitted-level-1) 1pt solid;\n",
              "  color: var(--sklearn-color-fitted-level-1);\n",
              "}\n",
              "\n",
              "/* On hover */\n",
              "#sk-container-id-2 a.estimator_doc_link:hover {\n",
              "  /* unfitted */\n",
              "  background-color: var(--sklearn-color-unfitted-level-3);\n",
              "  color: var(--sklearn-color-background);\n",
              "  text-decoration: none;\n",
              "}\n",
              "\n",
              "#sk-container-id-2 a.estimator_doc_link.fitted:hover {\n",
              "  /* fitted */\n",
              "  background-color: var(--sklearn-color-fitted-level-3);\n",
              "}\n",
              "</style><div id=\"sk-container-id-2\" class=\"sk-top-container\"><div class=\"sk-text-repr-fallback\"><pre>RandomForestClassifier()</pre><b>In a Jupyter environment, please rerun this cell to show the HTML representation or trust the notebook. <br />On GitHub, the HTML representation is unable to render, please try loading this page with nbviewer.org.</b></div><div class=\"sk-container\" hidden><div class=\"sk-item\"><div class=\"sk-estimator fitted sk-toggleable\"><input class=\"sk-toggleable__control sk-hidden--visually\" id=\"sk-estimator-id-2\" type=\"checkbox\" checked><label for=\"sk-estimator-id-2\" class=\"sk-toggleable__label fitted sk-toggleable__label-arrow\"><div><div>RandomForestClassifier</div></div><div><a class=\"sk-estimator-doc-link fitted\" rel=\"noreferrer\" target=\"_blank\" href=\"https://scikit-learn.org/1.6/modules/generated/sklearn.ensemble.RandomForestClassifier.html\">?<span>Documentation for RandomForestClassifier</span></a><span class=\"sk-estimator-doc-link fitted\">i<span>Fitted</span></span></div></label><div class=\"sk-toggleable__content fitted\"><pre>RandomForestClassifier()</pre></div> </div></div></div></div>"
            ]
          },
          "metadata": {},
          "execution_count": 143
        }
      ]
    },
    {
      "cell_type": "code",
      "source": [
        "# class predictions\n",
        "y_train_rf_pred = rf_classifier.predict(xv_train)\n",
        "y_test_rf_pred = rf_classifier.predict(xv_test)"
      ],
      "metadata": {
        "id": "CzM3FXKvm7Vo"
      },
      "execution_count": null,
      "outputs": []
    },
    {
      "cell_type": "code",
      "source": [
        "# Training and testing accuracy\n",
        "rf_training_accuracy = accuracy_score(y_train,y_train_rf_pred)\n",
        "rf_testing_accuracy = accuracy_score(y_test,y_test_rf_pred)\n",
        "\n",
        "print('Training Accuracy of Random Forest:',rf_training_accuracy)\n",
        "print('Testing Accuracy of Random Forest:',rf_testing_accuracy)"
      ],
      "metadata": {
        "colab": {
          "base_uri": "https://localhost:8080/"
        },
        "id": "sioTMFBnnEPX",
        "outputId": "b6b0ce74-a39a-468a-f329-8f31684636b5"
      },
      "execution_count": null,
      "outputs": [
        {
          "output_type": "stream",
          "name": "stdout",
          "text": [
            "Training Accuracy of Random Forest: 1.0\n",
            "Testing Accuracy of Random Forest: 0.951358574610245\n"
          ]
        }
      ]
    },
    {
      "cell_type": "code",
      "source": [
        "print(classification_report(y_test, y_test_rf_pred))"
      ],
      "metadata": {
        "colab": {
          "base_uri": "https://localhost:8080/"
        },
        "id": "KlW5X-lNnLfQ",
        "outputId": "ad2d2554-6c20-4119-b256-b286cd9a6276"
      },
      "execution_count": null,
      "outputs": [
        {
          "output_type": "stream",
          "name": "stdout",
          "text": [
            "              precision    recall  f1-score   support\n",
            "\n",
            "           0       0.96      0.94      0.95      5856\n",
            "           1       0.94      0.96      0.95      5369\n",
            "\n",
            "    accuracy                           0.95     11225\n",
            "   macro avg       0.95      0.95      0.95     11225\n",
            "weighted avg       0.95      0.95      0.95     11225\n",
            "\n"
          ]
        }
      ]
    },
    {
      "cell_type": "markdown",
      "source": [
        "#### 1. Explain the ML Model used and it's performance using Evaluation metric Score Chart."
      ],
      "metadata": {
        "id": "JWYfwnehpsJ1"
      }
    },
    {
      "cell_type": "code",
      "source": [
        "# Visualizing evaluation Metric Score chart"
      ],
      "metadata": {
        "id": "yEl-hgQWpsJ1"
      },
      "execution_count": null,
      "outputs": []
    },
    {
      "cell_type": "markdown",
      "source": [
        "#### 2. Cross- Validation & Hyperparameter Tuning"
      ],
      "metadata": {
        "id": "-jK_YjpMpsJ2"
      }
    },
    {
      "cell_type": "code",
      "source": [
        "# ML Model - 1 Implementation with hyperparameter optimization techniques (i.e., GridSearch CV, RandomSearch CV, Bayesian Optimization etc.)\n",
        "\n",
        "# Fit the Algorithm\n",
        "\n",
        "# Predict on the model"
      ],
      "metadata": {
        "id": "Dn0EOfS6psJ2"
      },
      "execution_count": null,
      "outputs": []
    },
    {
      "cell_type": "markdown",
      "source": [
        "##### Which hyperparameter optimization technique have you used and why?"
      ],
      "metadata": {
        "id": "HAih1iBOpsJ2"
      }
    },
    {
      "cell_type": "markdown",
      "source": [
        "Answer Here."
      ],
      "metadata": {
        "id": "9kBgjYcdpsJ2"
      }
    },
    {
      "cell_type": "markdown",
      "source": [
        "##### Have you seen any improvement? Note down the improvement with updates Evaluation metric Score Chart."
      ],
      "metadata": {
        "id": "zVGeBEFhpsJ2"
      }
    },
    {
      "cell_type": "markdown",
      "source": [
        "Answer Here."
      ],
      "metadata": {
        "id": "74yRdG6UpsJ3"
      }
    },
    {
      "cell_type": "markdown",
      "source": [
        "#### 3. Explain each evaluation metric's indication towards business and the business impact pf the ML model used."
      ],
      "metadata": {
        "id": "bmKjuQ-FpsJ3"
      }
    },
    {
      "cell_type": "markdown",
      "source": [
        "Answer Here."
      ],
      "metadata": {
        "id": "BDKtOrBQpsJ3"
      }
    },
    {
      "cell_type": "markdown",
      "source": [
        "### ML Model - 3"
      ],
      "metadata": {
        "id": "Fze-IPXLpx6K"
      }
    },
    {
      "cell_type": "code",
      "source": [
        "# ML Model - 3 Implementation\n",
        "\n",
        "# Fit the Algorithm\n",
        "\n",
        "# Predict on the model\n",
        "\n",
        "# Import xgboost\n",
        "from xgboost import XGBClassifier\n",
        "\n",
        "# Fitting XGboost\n",
        "xgb = XGBClassifier(class_weight = 'balanced',parameters = {'max_depth':7,'eta':1,'silent':1,'eval_metric':'auc'},random_state = 42)\n",
        "xgb.fit(xv_train,y_train)"
      ],
      "metadata": {
        "id": "FFrSXAtrpx6M",
        "colab": {
          "base_uri": "https://localhost:8080/",
          "height": 254
        },
        "outputId": "b96725ca-4d25-4ec2-8804-5e6d680c2ccd"
      },
      "execution_count": null,
      "outputs": [
        {
          "output_type": "execute_result",
          "data": {
            "text/plain": [
              "XGBClassifier(base_score=None, booster=None, callbacks=None,\n",
              "              class_weight='balanced', colsample_bylevel=None,\n",
              "              colsample_bynode=None, colsample_bytree=None, device=None,\n",
              "              early_stopping_rounds=None, enable_categorical=False,\n",
              "              eval_metric=None, feature_types=None, feature_weights=None,\n",
              "              gamma=None, grow_policy=None, importance_type=None,\n",
              "              interaction_constraints=None, learning_rate=None, max_bin=None,\n",
              "              max_cat_threshold=None, max_cat_to_onehot=None,\n",
              "              max_delta_step=None, max_depth=None, max_leaves=None,\n",
              "              min_child_weight=None, missing=nan, monotone_constraints=None,\n",
              "              multi_strategy=None, n_estimators=None, n_jobs=None, ...)"
            ],
            "text/html": [
              "<style>#sk-container-id-3 {\n",
              "  /* Definition of color scheme common for light and dark mode */\n",
              "  --sklearn-color-text: #000;\n",
              "  --sklearn-color-text-muted: #666;\n",
              "  --sklearn-color-line: gray;\n",
              "  /* Definition of color scheme for unfitted estimators */\n",
              "  --sklearn-color-unfitted-level-0: #fff5e6;\n",
              "  --sklearn-color-unfitted-level-1: #f6e4d2;\n",
              "  --sklearn-color-unfitted-level-2: #ffe0b3;\n",
              "  --sklearn-color-unfitted-level-3: chocolate;\n",
              "  /* Definition of color scheme for fitted estimators */\n",
              "  --sklearn-color-fitted-level-0: #f0f8ff;\n",
              "  --sklearn-color-fitted-level-1: #d4ebff;\n",
              "  --sklearn-color-fitted-level-2: #b3dbfd;\n",
              "  --sklearn-color-fitted-level-3: cornflowerblue;\n",
              "\n",
              "  /* Specific color for light theme */\n",
              "  --sklearn-color-text-on-default-background: var(--sg-text-color, var(--theme-code-foreground, var(--jp-content-font-color1, black)));\n",
              "  --sklearn-color-background: var(--sg-background-color, var(--theme-background, var(--jp-layout-color0, white)));\n",
              "  --sklearn-color-border-box: var(--sg-text-color, var(--theme-code-foreground, var(--jp-content-font-color1, black)));\n",
              "  --sklearn-color-icon: #696969;\n",
              "\n",
              "  @media (prefers-color-scheme: dark) {\n",
              "    /* Redefinition of color scheme for dark theme */\n",
              "    --sklearn-color-text-on-default-background: var(--sg-text-color, var(--theme-code-foreground, var(--jp-content-font-color1, white)));\n",
              "    --sklearn-color-background: var(--sg-background-color, var(--theme-background, var(--jp-layout-color0, #111)));\n",
              "    --sklearn-color-border-box: var(--sg-text-color, var(--theme-code-foreground, var(--jp-content-font-color1, white)));\n",
              "    --sklearn-color-icon: #878787;\n",
              "  }\n",
              "}\n",
              "\n",
              "#sk-container-id-3 {\n",
              "  color: var(--sklearn-color-text);\n",
              "}\n",
              "\n",
              "#sk-container-id-3 pre {\n",
              "  padding: 0;\n",
              "}\n",
              "\n",
              "#sk-container-id-3 input.sk-hidden--visually {\n",
              "  border: 0;\n",
              "  clip: rect(1px 1px 1px 1px);\n",
              "  clip: rect(1px, 1px, 1px, 1px);\n",
              "  height: 1px;\n",
              "  margin: -1px;\n",
              "  overflow: hidden;\n",
              "  padding: 0;\n",
              "  position: absolute;\n",
              "  width: 1px;\n",
              "}\n",
              "\n",
              "#sk-container-id-3 div.sk-dashed-wrapped {\n",
              "  border: 1px dashed var(--sklearn-color-line);\n",
              "  margin: 0 0.4em 0.5em 0.4em;\n",
              "  box-sizing: border-box;\n",
              "  padding-bottom: 0.4em;\n",
              "  background-color: var(--sklearn-color-background);\n",
              "}\n",
              "\n",
              "#sk-container-id-3 div.sk-container {\n",
              "  /* jupyter's `normalize.less` sets `[hidden] { display: none; }`\n",
              "     but bootstrap.min.css set `[hidden] { display: none !important; }`\n",
              "     so we also need the `!important` here to be able to override the\n",
              "     default hidden behavior on the sphinx rendered scikit-learn.org.\n",
              "     See: https://github.com/scikit-learn/scikit-learn/issues/21755 */\n",
              "  display: inline-block !important;\n",
              "  position: relative;\n",
              "}\n",
              "\n",
              "#sk-container-id-3 div.sk-text-repr-fallback {\n",
              "  display: none;\n",
              "}\n",
              "\n",
              "div.sk-parallel-item,\n",
              "div.sk-serial,\n",
              "div.sk-item {\n",
              "  /* draw centered vertical line to link estimators */\n",
              "  background-image: linear-gradient(var(--sklearn-color-text-on-default-background), var(--sklearn-color-text-on-default-background));\n",
              "  background-size: 2px 100%;\n",
              "  background-repeat: no-repeat;\n",
              "  background-position: center center;\n",
              "}\n",
              "\n",
              "/* Parallel-specific style estimator block */\n",
              "\n",
              "#sk-container-id-3 div.sk-parallel-item::after {\n",
              "  content: \"\";\n",
              "  width: 100%;\n",
              "  border-bottom: 2px solid var(--sklearn-color-text-on-default-background);\n",
              "  flex-grow: 1;\n",
              "}\n",
              "\n",
              "#sk-container-id-3 div.sk-parallel {\n",
              "  display: flex;\n",
              "  align-items: stretch;\n",
              "  justify-content: center;\n",
              "  background-color: var(--sklearn-color-background);\n",
              "  position: relative;\n",
              "}\n",
              "\n",
              "#sk-container-id-3 div.sk-parallel-item {\n",
              "  display: flex;\n",
              "  flex-direction: column;\n",
              "}\n",
              "\n",
              "#sk-container-id-3 div.sk-parallel-item:first-child::after {\n",
              "  align-self: flex-end;\n",
              "  width: 50%;\n",
              "}\n",
              "\n",
              "#sk-container-id-3 div.sk-parallel-item:last-child::after {\n",
              "  align-self: flex-start;\n",
              "  width: 50%;\n",
              "}\n",
              "\n",
              "#sk-container-id-3 div.sk-parallel-item:only-child::after {\n",
              "  width: 0;\n",
              "}\n",
              "\n",
              "/* Serial-specific style estimator block */\n",
              "\n",
              "#sk-container-id-3 div.sk-serial {\n",
              "  display: flex;\n",
              "  flex-direction: column;\n",
              "  align-items: center;\n",
              "  background-color: var(--sklearn-color-background);\n",
              "  padding-right: 1em;\n",
              "  padding-left: 1em;\n",
              "}\n",
              "\n",
              "\n",
              "/* Toggleable style: style used for estimator/Pipeline/ColumnTransformer box that is\n",
              "clickable and can be expanded/collapsed.\n",
              "- Pipeline and ColumnTransformer use this feature and define the default style\n",
              "- Estimators will overwrite some part of the style using the `sk-estimator` class\n",
              "*/\n",
              "\n",
              "/* Pipeline and ColumnTransformer style (default) */\n",
              "\n",
              "#sk-container-id-3 div.sk-toggleable {\n",
              "  /* Default theme specific background. It is overwritten whether we have a\n",
              "  specific estimator or a Pipeline/ColumnTransformer */\n",
              "  background-color: var(--sklearn-color-background);\n",
              "}\n",
              "\n",
              "/* Toggleable label */\n",
              "#sk-container-id-3 label.sk-toggleable__label {\n",
              "  cursor: pointer;\n",
              "  display: flex;\n",
              "  width: 100%;\n",
              "  margin-bottom: 0;\n",
              "  padding: 0.5em;\n",
              "  box-sizing: border-box;\n",
              "  text-align: center;\n",
              "  align-items: start;\n",
              "  justify-content: space-between;\n",
              "  gap: 0.5em;\n",
              "}\n",
              "\n",
              "#sk-container-id-3 label.sk-toggleable__label .caption {\n",
              "  font-size: 0.6rem;\n",
              "  font-weight: lighter;\n",
              "  color: var(--sklearn-color-text-muted);\n",
              "}\n",
              "\n",
              "#sk-container-id-3 label.sk-toggleable__label-arrow:before {\n",
              "  /* Arrow on the left of the label */\n",
              "  content: \"▸\";\n",
              "  float: left;\n",
              "  margin-right: 0.25em;\n",
              "  color: var(--sklearn-color-icon);\n",
              "}\n",
              "\n",
              "#sk-container-id-3 label.sk-toggleable__label-arrow:hover:before {\n",
              "  color: var(--sklearn-color-text);\n",
              "}\n",
              "\n",
              "/* Toggleable content - dropdown */\n",
              "\n",
              "#sk-container-id-3 div.sk-toggleable__content {\n",
              "  max-height: 0;\n",
              "  max-width: 0;\n",
              "  overflow: hidden;\n",
              "  text-align: left;\n",
              "  /* unfitted */\n",
              "  background-color: var(--sklearn-color-unfitted-level-0);\n",
              "}\n",
              "\n",
              "#sk-container-id-3 div.sk-toggleable__content.fitted {\n",
              "  /* fitted */\n",
              "  background-color: var(--sklearn-color-fitted-level-0);\n",
              "}\n",
              "\n",
              "#sk-container-id-3 div.sk-toggleable__content pre {\n",
              "  margin: 0.2em;\n",
              "  border-radius: 0.25em;\n",
              "  color: var(--sklearn-color-text);\n",
              "  /* unfitted */\n",
              "  background-color: var(--sklearn-color-unfitted-level-0);\n",
              "}\n",
              "\n",
              "#sk-container-id-3 div.sk-toggleable__content.fitted pre {\n",
              "  /* unfitted */\n",
              "  background-color: var(--sklearn-color-fitted-level-0);\n",
              "}\n",
              "\n",
              "#sk-container-id-3 input.sk-toggleable__control:checked~div.sk-toggleable__content {\n",
              "  /* Expand drop-down */\n",
              "  max-height: 200px;\n",
              "  max-width: 100%;\n",
              "  overflow: auto;\n",
              "}\n",
              "\n",
              "#sk-container-id-3 input.sk-toggleable__control:checked~label.sk-toggleable__label-arrow:before {\n",
              "  content: \"▾\";\n",
              "}\n",
              "\n",
              "/* Pipeline/ColumnTransformer-specific style */\n",
              "\n",
              "#sk-container-id-3 div.sk-label input.sk-toggleable__control:checked~label.sk-toggleable__label {\n",
              "  color: var(--sklearn-color-text);\n",
              "  background-color: var(--sklearn-color-unfitted-level-2);\n",
              "}\n",
              "\n",
              "#sk-container-id-3 div.sk-label.fitted input.sk-toggleable__control:checked~label.sk-toggleable__label {\n",
              "  background-color: var(--sklearn-color-fitted-level-2);\n",
              "}\n",
              "\n",
              "/* Estimator-specific style */\n",
              "\n",
              "/* Colorize estimator box */\n",
              "#sk-container-id-3 div.sk-estimator input.sk-toggleable__control:checked~label.sk-toggleable__label {\n",
              "  /* unfitted */\n",
              "  background-color: var(--sklearn-color-unfitted-level-2);\n",
              "}\n",
              "\n",
              "#sk-container-id-3 div.sk-estimator.fitted input.sk-toggleable__control:checked~label.sk-toggleable__label {\n",
              "  /* fitted */\n",
              "  background-color: var(--sklearn-color-fitted-level-2);\n",
              "}\n",
              "\n",
              "#sk-container-id-3 div.sk-label label.sk-toggleable__label,\n",
              "#sk-container-id-3 div.sk-label label {\n",
              "  /* The background is the default theme color */\n",
              "  color: var(--sklearn-color-text-on-default-background);\n",
              "}\n",
              "\n",
              "/* On hover, darken the color of the background */\n",
              "#sk-container-id-3 div.sk-label:hover label.sk-toggleable__label {\n",
              "  color: var(--sklearn-color-text);\n",
              "  background-color: var(--sklearn-color-unfitted-level-2);\n",
              "}\n",
              "\n",
              "/* Label box, darken color on hover, fitted */\n",
              "#sk-container-id-3 div.sk-label.fitted:hover label.sk-toggleable__label.fitted {\n",
              "  color: var(--sklearn-color-text);\n",
              "  background-color: var(--sklearn-color-fitted-level-2);\n",
              "}\n",
              "\n",
              "/* Estimator label */\n",
              "\n",
              "#sk-container-id-3 div.sk-label label {\n",
              "  font-family: monospace;\n",
              "  font-weight: bold;\n",
              "  display: inline-block;\n",
              "  line-height: 1.2em;\n",
              "}\n",
              "\n",
              "#sk-container-id-3 div.sk-label-container {\n",
              "  text-align: center;\n",
              "}\n",
              "\n",
              "/* Estimator-specific */\n",
              "#sk-container-id-3 div.sk-estimator {\n",
              "  font-family: monospace;\n",
              "  border: 1px dotted var(--sklearn-color-border-box);\n",
              "  border-radius: 0.25em;\n",
              "  box-sizing: border-box;\n",
              "  margin-bottom: 0.5em;\n",
              "  /* unfitted */\n",
              "  background-color: var(--sklearn-color-unfitted-level-0);\n",
              "}\n",
              "\n",
              "#sk-container-id-3 div.sk-estimator.fitted {\n",
              "  /* fitted */\n",
              "  background-color: var(--sklearn-color-fitted-level-0);\n",
              "}\n",
              "\n",
              "/* on hover */\n",
              "#sk-container-id-3 div.sk-estimator:hover {\n",
              "  /* unfitted */\n",
              "  background-color: var(--sklearn-color-unfitted-level-2);\n",
              "}\n",
              "\n",
              "#sk-container-id-3 div.sk-estimator.fitted:hover {\n",
              "  /* fitted */\n",
              "  background-color: var(--sklearn-color-fitted-level-2);\n",
              "}\n",
              "\n",
              "/* Specification for estimator info (e.g. \"i\" and \"?\") */\n",
              "\n",
              "/* Common style for \"i\" and \"?\" */\n",
              "\n",
              ".sk-estimator-doc-link,\n",
              "a:link.sk-estimator-doc-link,\n",
              "a:visited.sk-estimator-doc-link {\n",
              "  float: right;\n",
              "  font-size: smaller;\n",
              "  line-height: 1em;\n",
              "  font-family: monospace;\n",
              "  background-color: var(--sklearn-color-background);\n",
              "  border-radius: 1em;\n",
              "  height: 1em;\n",
              "  width: 1em;\n",
              "  text-decoration: none !important;\n",
              "  margin-left: 0.5em;\n",
              "  text-align: center;\n",
              "  /* unfitted */\n",
              "  border: var(--sklearn-color-unfitted-level-1) 1pt solid;\n",
              "  color: var(--sklearn-color-unfitted-level-1);\n",
              "}\n",
              "\n",
              ".sk-estimator-doc-link.fitted,\n",
              "a:link.sk-estimator-doc-link.fitted,\n",
              "a:visited.sk-estimator-doc-link.fitted {\n",
              "  /* fitted */\n",
              "  border: var(--sklearn-color-fitted-level-1) 1pt solid;\n",
              "  color: var(--sklearn-color-fitted-level-1);\n",
              "}\n",
              "\n",
              "/* On hover */\n",
              "div.sk-estimator:hover .sk-estimator-doc-link:hover,\n",
              ".sk-estimator-doc-link:hover,\n",
              "div.sk-label-container:hover .sk-estimator-doc-link:hover,\n",
              ".sk-estimator-doc-link:hover {\n",
              "  /* unfitted */\n",
              "  background-color: var(--sklearn-color-unfitted-level-3);\n",
              "  color: var(--sklearn-color-background);\n",
              "  text-decoration: none;\n",
              "}\n",
              "\n",
              "div.sk-estimator.fitted:hover .sk-estimator-doc-link.fitted:hover,\n",
              ".sk-estimator-doc-link.fitted:hover,\n",
              "div.sk-label-container:hover .sk-estimator-doc-link.fitted:hover,\n",
              ".sk-estimator-doc-link.fitted:hover {\n",
              "  /* fitted */\n",
              "  background-color: var(--sklearn-color-fitted-level-3);\n",
              "  color: var(--sklearn-color-background);\n",
              "  text-decoration: none;\n",
              "}\n",
              "\n",
              "/* Span, style for the box shown on hovering the info icon */\n",
              ".sk-estimator-doc-link span {\n",
              "  display: none;\n",
              "  z-index: 9999;\n",
              "  position: relative;\n",
              "  font-weight: normal;\n",
              "  right: .2ex;\n",
              "  padding: .5ex;\n",
              "  margin: .5ex;\n",
              "  width: min-content;\n",
              "  min-width: 20ex;\n",
              "  max-width: 50ex;\n",
              "  color: var(--sklearn-color-text);\n",
              "  box-shadow: 2pt 2pt 4pt #999;\n",
              "  /* unfitted */\n",
              "  background: var(--sklearn-color-unfitted-level-0);\n",
              "  border: .5pt solid var(--sklearn-color-unfitted-level-3);\n",
              "}\n",
              "\n",
              ".sk-estimator-doc-link.fitted span {\n",
              "  /* fitted */\n",
              "  background: var(--sklearn-color-fitted-level-0);\n",
              "  border: var(--sklearn-color-fitted-level-3);\n",
              "}\n",
              "\n",
              ".sk-estimator-doc-link:hover span {\n",
              "  display: block;\n",
              "}\n",
              "\n",
              "/* \"?\"-specific style due to the `<a>` HTML tag */\n",
              "\n",
              "#sk-container-id-3 a.estimator_doc_link {\n",
              "  float: right;\n",
              "  font-size: 1rem;\n",
              "  line-height: 1em;\n",
              "  font-family: monospace;\n",
              "  background-color: var(--sklearn-color-background);\n",
              "  border-radius: 1rem;\n",
              "  height: 1rem;\n",
              "  width: 1rem;\n",
              "  text-decoration: none;\n",
              "  /* unfitted */\n",
              "  color: var(--sklearn-color-unfitted-level-1);\n",
              "  border: var(--sklearn-color-unfitted-level-1) 1pt solid;\n",
              "}\n",
              "\n",
              "#sk-container-id-3 a.estimator_doc_link.fitted {\n",
              "  /* fitted */\n",
              "  border: var(--sklearn-color-fitted-level-1) 1pt solid;\n",
              "  color: var(--sklearn-color-fitted-level-1);\n",
              "}\n",
              "\n",
              "/* On hover */\n",
              "#sk-container-id-3 a.estimator_doc_link:hover {\n",
              "  /* unfitted */\n",
              "  background-color: var(--sklearn-color-unfitted-level-3);\n",
              "  color: var(--sklearn-color-background);\n",
              "  text-decoration: none;\n",
              "}\n",
              "\n",
              "#sk-container-id-3 a.estimator_doc_link.fitted:hover {\n",
              "  /* fitted */\n",
              "  background-color: var(--sklearn-color-fitted-level-3);\n",
              "}\n",
              "</style><div id=\"sk-container-id-3\" class=\"sk-top-container\"><div class=\"sk-text-repr-fallback\"><pre>XGBClassifier(base_score=None, booster=None, callbacks=None,\n",
              "              class_weight=&#x27;balanced&#x27;, colsample_bylevel=None,\n",
              "              colsample_bynode=None, colsample_bytree=None, device=None,\n",
              "              early_stopping_rounds=None, enable_categorical=False,\n",
              "              eval_metric=None, feature_types=None, feature_weights=None,\n",
              "              gamma=None, grow_policy=None, importance_type=None,\n",
              "              interaction_constraints=None, learning_rate=None, max_bin=None,\n",
              "              max_cat_threshold=None, max_cat_to_onehot=None,\n",
              "              max_delta_step=None, max_depth=None, max_leaves=None,\n",
              "              min_child_weight=None, missing=nan, monotone_constraints=None,\n",
              "              multi_strategy=None, n_estimators=None, n_jobs=None, ...)</pre><b>In a Jupyter environment, please rerun this cell to show the HTML representation or trust the notebook. <br />On GitHub, the HTML representation is unable to render, please try loading this page with nbviewer.org.</b></div><div class=\"sk-container\" hidden><div class=\"sk-item\"><div class=\"sk-estimator fitted sk-toggleable\"><input class=\"sk-toggleable__control sk-hidden--visually\" id=\"sk-estimator-id-3\" type=\"checkbox\" checked><label for=\"sk-estimator-id-3\" class=\"sk-toggleable__label fitted sk-toggleable__label-arrow\"><div><div>XGBClassifier</div></div><div><a class=\"sk-estimator-doc-link fitted\" rel=\"noreferrer\" target=\"_blank\" href=\"https://xgboost.readthedocs.io/en/release_3.0.0/python/python_api.html#xgboost.XGBClassifier\">?<span>Documentation for XGBClassifier</span></a><span class=\"sk-estimator-doc-link fitted\">i<span>Fitted</span></span></div></label><div class=\"sk-toggleable__content fitted\"><pre>XGBClassifier(base_score=None, booster=None, callbacks=None,\n",
              "              class_weight=&#x27;balanced&#x27;, colsample_bylevel=None,\n",
              "              colsample_bynode=None, colsample_bytree=None, device=None,\n",
              "              early_stopping_rounds=None, enable_categorical=False,\n",
              "              eval_metric=None, feature_types=None, feature_weights=None,\n",
              "              gamma=None, grow_policy=None, importance_type=None,\n",
              "              interaction_constraints=None, learning_rate=None, max_bin=None,\n",
              "              max_cat_threshold=None, max_cat_to_onehot=None,\n",
              "              max_delta_step=None, max_depth=None, max_leaves=None,\n",
              "              min_child_weight=None, missing=nan, monotone_constraints=None,\n",
              "              multi_strategy=None, n_estimators=None, n_jobs=None, ...)</pre></div> </div></div></div></div>"
            ]
          },
          "metadata": {},
          "execution_count": 149
        }
      ]
    },
    {
      "cell_type": "code",
      "source": [
        "# Train and test prediction\n",
        "y_train_xgb_pred = xgb.predict(xv_train)\n",
        "y_test_xgb_pred = xgb.predict(xv_test)\n",
        "\n",
        "\n",
        "# gettig training and testing accuracy\n",
        "xgb_training_accuracy1 = accuracy_score(y_train_xgb_pred,y_train)\n",
        "xgb_testing_accuracy1 = accuracy_score(y_test_xgb_pred,y_test)\n",
        "\n",
        "print(f'Training Accuracy of XGBClassifier: {xgb_training_accuracy1}')\n",
        "print(f'Testing Accuracy of XGBClassifier: {xgb_testing_accuracy1}')"
      ],
      "metadata": {
        "colab": {
          "base_uri": "https://localhost:8080/"
        },
        "id": "75VSrarNn0Hv",
        "outputId": "de7f492c-621e-49b1-ace2-107d4ead6b8d"
      },
      "execution_count": null,
      "outputs": [
        {
          "output_type": "stream",
          "name": "stdout",
          "text": [
            "Training Accuracy of XGBClassifier: 0.9504647640542868\n",
            "Testing Accuracy of XGBClassifier: 0.9334521158129176\n"
          ]
        }
      ]
    },
    {
      "cell_type": "code",
      "source": [
        "print(classification_report(y_train, y_train_xgb_pred))"
      ],
      "metadata": {
        "colab": {
          "base_uri": "https://localhost:8080/"
        },
        "id": "bmlnw_cGn95j",
        "outputId": "c9ca0f45-7614-4c02-c397-e8919947bbc6"
      },
      "execution_count": null,
      "outputs": [
        {
          "output_type": "stream",
          "name": "stdout",
          "text": [
            "              precision    recall  f1-score   support\n",
            "\n",
            "           0       0.97      0.93      0.95     17625\n",
            "           1       0.93      0.97      0.95     16048\n",
            "\n",
            "    accuracy                           0.95     33673\n",
            "   macro avg       0.95      0.95      0.95     33673\n",
            "weighted avg       0.95      0.95      0.95     33673\n",
            "\n"
          ]
        }
      ]
    },
    {
      "cell_type": "markdown",
      "source": [
        "#### 1. Explain the ML Model used and it's performance using Evaluation metric Score Chart."
      ],
      "metadata": {
        "id": "7AN1z2sKpx6M"
      }
    },
    {
      "cell_type": "code",
      "source": [
        "# Visualizing evaluation Metric Score chart"
      ],
      "metadata": {
        "id": "xIY4lxxGpx6M"
      },
      "execution_count": null,
      "outputs": []
    },
    {
      "cell_type": "markdown",
      "source": [
        "#### 2. Cross- Validation & Hyperparameter Tuning"
      ],
      "metadata": {
        "id": "9PIHJqyupx6M"
      }
    },
    {
      "cell_type": "code",
      "source": [
        "# ML Model - 3 Implementation with hyperparameter optimization techniques (i.e., GridSearch CV, RandomSearch CV, Bayesian Optimization etc.)\n",
        "\n",
        "# Fit the Algorithm\n",
        "\n",
        "# Predict on the model"
      ],
      "metadata": {
        "id": "eSVXuaSKpx6M"
      },
      "execution_count": null,
      "outputs": []
    },
    {
      "cell_type": "markdown",
      "source": [
        "##### Which hyperparameter optimization technique have you used and why?"
      ],
      "metadata": {
        "id": "_-qAgymDpx6N"
      }
    },
    {
      "cell_type": "markdown",
      "source": [
        "Answer Here."
      ],
      "metadata": {
        "id": "lQMffxkwpx6N"
      }
    },
    {
      "cell_type": "markdown",
      "source": [
        "##### Have you seen any improvement? Note down the improvement with updates Evaluation metric Score Chart."
      ],
      "metadata": {
        "id": "Z-hykwinpx6N"
      }
    },
    {
      "cell_type": "markdown",
      "source": [
        "Answer Here."
      ],
      "metadata": {
        "id": "MzVzZC6opx6N"
      }
    },
    {
      "cell_type": "markdown",
      "source": [
        "### 1. Which Evaluation metrics did you consider for a positive business impact and why?"
      ],
      "metadata": {
        "id": "h_CCil-SKHpo"
      }
    },
    {
      "cell_type": "markdown",
      "source": [
        "Answer Here."
      ],
      "metadata": {
        "id": "jHVz9hHDKFms"
      }
    },
    {
      "cell_type": "markdown",
      "source": [
        "### 2. Which ML model did you choose from the above created models as your final prediction model and why?"
      ],
      "metadata": {
        "id": "cBFFvTBNJzUa"
      }
    },
    {
      "cell_type": "markdown",
      "source": [
        "Answer Here."
      ],
      "metadata": {
        "id": "6ksF5Q1LKTVm"
      }
    },
    {
      "cell_type": "markdown",
      "source": [
        "### 3. Explain the model which you have used and the feature importance using any model explainability tool?"
      ],
      "metadata": {
        "id": "HvGl1hHyA_VK"
      }
    },
    {
      "cell_type": "markdown",
      "source": [
        "Answer Here."
      ],
      "metadata": {
        "id": "YnvVTiIxBL-C"
      }
    },
    {
      "cell_type": "markdown",
      "source": [
        "# **Conclusion**"
      ],
      "metadata": {
        "id": "gCX9965dhzqZ"
      }
    },
    {
      "cell_type": "code",
      "source": [
        "def output_label(n):\n",
        "  if n == 0:\n",
        "    return \"Fake News\"\n",
        "  elif n == 1:\n",
        "    return \"Real News\""
      ],
      "metadata": {
        "id": "9pUkSZ0xpw2l"
      },
      "execution_count": null,
      "outputs": []
    },
    {
      "cell_type": "code",
      "source": [
        "def manual_testing(news):\n",
        "    # Put input in a DataFrame\n",
        "    testing_news = {\"text\": [news]}\n",
        "    new_def_test = pd.DataFrame(testing_news)\n",
        "\n",
        "    # Apply preprocessing (wordopt is your cleaning function)\n",
        "    new_def_test[\"text\"] = new_def_test[\"text\"].apply(wordopt)\n",
        "\n",
        "    # Vectorize the input\n",
        "    new_x_test = new_def_test[\"text\"]\n",
        "    new_xv_test = vectorization.transform(new_x_test)\n",
        "\n",
        "    # Predictions from models\n",
        "    pred_lr = LR.predict(new_xv_test)\n",
        "    pred_xgb = xgb.predict(new_xv_test)\n",
        "    pred_rfc = rf_classifier.predict(new_xv_test)\n",
        "    # If you also want decision tree, uncomment below:\n",
        "    # pred_dtc = dtc.predict(new_xv_test)\n",
        "\n",
        "    # Return results in readable format\n",
        "    return (\n",
        "        f\"\\nLogistic Regression Prediction: {output_label(pred_lr[0])}\"\n",
        "        f\"\\nGradient Boosting Prediction: {output_label(pred_xgb[0])}\"\n",
        "        f\"\\nRandom Forest Prediction: {output_label(pred_rfc[0])}\"\n",
        "        # f\"\\nDecision Tree Prediction: {output_label(pred_dtc[0])}\"\n",
        "    )\n"
      ],
      "metadata": {
        "id": "C87fCcH7pihW"
      },
      "execution_count": null,
      "outputs": []
    },
    {
      "cell_type": "code",
      "source": [
        "news_title = str(input())\n",
        "manual_testing(news_title)"
      ],
      "metadata": {
        "colab": {
          "base_uri": "https://localhost:8080/",
          "height": 54
        },
        "id": "aAl9NLpOqZjW",
        "outputId": "accbd013-e347-4833-ff23-c62c547f21c8"
      },
      "execution_count": null,
      "outputs": [
        {
          "name": "stdout",
          "output_type": "stream",
          "text": [
            "a man found god lying on ground\n"
          ]
        },
        {
          "output_type": "execute_result",
          "data": {
            "text/plain": [
              "'\\nLogistic Regression Prediction: Fake News\\nGradient Boosting Prediction: Real News\\nRandom Forest Prediction: Real News'"
            ],
            "application/vnd.google.colaboratory.intrinsic+json": {
              "type": "string"
            }
          },
          "metadata": {},
          "execution_count": 159
        }
      ]
    },
    {
      "cell_type": "markdown",
      "source": [
        "Write the conclusion here."
      ],
      "metadata": {
        "id": "Fjb1IsQkh3yE"
      }
    },
    {
      "cell_type": "markdown",
      "source": [
        "### ***Hurrah! You have successfully completed your Machine Learning Capstone Project !!!***"
      ],
      "metadata": {
        "id": "gIfDvo9L0UH2"
      }
    }
  ]
}
